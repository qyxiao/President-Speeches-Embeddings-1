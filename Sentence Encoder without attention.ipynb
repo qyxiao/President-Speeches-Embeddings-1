{
 "cells": [
  {
   "cell_type": "code",
   "execution_count": 26,
   "metadata": {
    "collapsed": false
   },
   "outputs": [
    {
     "name": "stdout",
     "output_type": "stream",
     "text": [
      "[nltk_data] Downloading package punkt to\n",
      "[nltk_data]     /Users/sivagurukannan/nltk_data...\n",
      "[nltk_data]   Package punkt is already up-to-date!\n"
     ]
    }
   ],
   "source": [
    "\n",
    "from __future__ import print_function\n",
    "import numpy as np\n",
    "from keras.layers import Input, Dense\n",
    "import chainer\n",
    "from chainer import Function, gradient_check, report, training, utils, Variable\n",
    "from chainer import datasets, iterators, optimizers, serializers\n",
    "from chainer import Link, Chain, ChainList\n",
    "import chainer.functions as F\n",
    "import chainer.links as L\n",
    "from keras.preprocessing.text import Tokenizer\n",
    "from keras.preprocessing.sequence import pad_sequences\n",
    "from keras.utils.np_utils import to_categorical\n",
    "from keras.layers import Dense, Input, Flatten, LSTM\n",
    "from keras.layers import Conv1D, MaxPooling1D, Embedding\n",
    "from keras.models import Model\n",
    "from chainer.training import extensions\n",
    "import os, sys, re\n",
    "from nltk import tokenize\n",
    "import nltk\n",
    "nltk.download('punkt')\n",
    "import string \n",
    "\n",
    "import pandas as pd"
   ]
  },
  {
   "cell_type": "code",
   "execution_count": 310,
   "metadata": {
    "collapsed": false
   },
   "outputs": [
    {
     "name": "stdout",
     "output_type": "stream",
     "text": [
      "3.5.2 | packaged by conda-forge | (default, Jul 26 2016, 01:37:38) \n",
      "[GCC 4.2.1 Compatible Apple LLVM 6.0 (clang-600.0.54)]\n"
     ]
    }
   ],
   "source": [
    "import sys\n",
    "print(sys.version)"
   ]
  },
  {
   "cell_type": "code",
   "execution_count": 9,
   "metadata": {
    "collapsed": false
   },
   "outputs": [],
   "source": [
    "from keras.preprocessing.text import Tokenizer\n",
    "from keras.preprocessing.sequence import pad_sequences"
   ]
  },
  {
   "cell_type": "code",
   "execution_count": 10,
   "metadata": {
    "collapsed": true
   },
   "outputs": [],
   "source": [
    "TEXT_DATA_DIR = './speech_data/data/'"
   ]
  },
  {
   "cell_type": "code",
   "execution_count": 11,
   "metadata": {
    "collapsed": false
   },
   "outputs": [],
   "source": [
    "# Load the labels \n",
    "df = pd.read_csv('./speech_data/presidents_meta.csv')\n",
    "label_dict = dict(zip(list(df.foldername), list(df.label)))"
   ]
  },
  {
   "cell_type": "code",
   "execution_count": 243,
   "metadata": {
    "collapsed": false
   },
   "outputs": [
    {
     "data": {
      "text/plain": [
       "4"
      ]
     },
     "execution_count": 243,
     "metadata": {},
     "output_type": "execute_result"
    }
   ],
   "source": [
    "label_dict['arthur']"
   ]
  },
  {
   "cell_type": "code",
   "execution_count": 12,
   "metadata": {
    "collapsed": false
   },
   "outputs": [
    {
     "name": "stdout",
     "output_type": "stream",
     "text": [
      "Found 862 texts.\n",
      "Found 862 texts.\n"
     ]
    }
   ],
   "source": [
    "texts = []  # list of text samples\n",
    "# labels_index = {}  # dictionary mapping label name to numeric id\n",
    "labels = []  # list of label ids\n",
    "\n",
    "\n",
    "for name in sorted(os.listdir(TEXT_DATA_DIR)):\n",
    "\n",
    "    path = os.path.join(TEXT_DATA_DIR, name)\n",
    "    if os.path.isdir(path):\n",
    "        for fname in sorted(os.listdir(path)):\n",
    "            if 'combined' not in fname and 'combines' not in fname:\n",
    "                president_name = path.split('/')[-1]\n",
    "                fpath = os.path.join(path, fname)\n",
    "                f = open(fpath)\n",
    "                if (president_name in label_dict):\n",
    "                    labels.append(label_dict[president_name])\n",
    "                    texts.append(f.read())\n",
    "                f.close()\n",
    "                \n",
    "\n",
    "print('Found %s texts.' % len(texts))\n",
    "print('Found %s texts.' % len(labels))"
   ]
  },
  {
   "cell_type": "code",
   "execution_count": 13,
   "metadata": {
    "collapsed": false
   },
   "outputs": [
    {
     "data": {
      "text/plain": [
       "'THE PRESIDENT. Good afternoon, ladies and gentlemen.I have been asked to give a statement about the consular convention that is pending before the United States Senate.I should like to say very briefly that I hope the Senate will give its advice and consent to the proposed convention with the U.S.S.R. I feel very strongly that the ratification of this treaty is very much in our national interest. I feel this way for two principal reasons:First, we need this treaty to protect 18,000 American citizens who each year travel from this country to the Soviet The convention requires immediate notification to us whenever an American is arrested in the Soviet Union. It insures our right to visit that citizen within 4 and as often thereafter as is desirable.We think that we need these rights help to protect American citizens. These are rights which the Soviet citizens already have who travel in this country, because guaranteed by our Constitution.Second, the convention does not require the openin'"
      ]
     },
     "execution_count": 13,
     "metadata": {},
     "output_type": "execute_result"
    }
   ],
   "source": [
    "texts[500][:1000]"
   ]
  },
  {
   "cell_type": "code",
   "execution_count": 84,
   "metadata": {
    "collapsed": false
   },
   "outputs": [
    {
     "name": "stdout",
     "output_type": "stream",
     "text": [
      "37\n",
      "Maximum words 4345\n",
      "74\n",
      "Maximum words 4345\n",
      "55\n",
      "Maximum words 4345\n",
      "46\n",
      "Maximum words 4345\n",
      "24\n",
      "Maximum words 4345\n",
      "38\n",
      "Maximum words 4345\n",
      "6\n",
      "Maximum words 4345\n",
      "59\n",
      "Maximum words 4345\n",
      "3\n",
      "Maximum words 4345\n",
      "14\n",
      "Maximum words 4345\n",
      "57\n",
      "Maximum words 4345\n",
      "40\n",
      "Maximum words 4345\n",
      "6\n",
      "Maximum words 4345\n",
      "398\n",
      "Maximum words 4345\n",
      "148\n",
      "Maximum words 4345\n",
      "135\n",
      "Maximum words 5273\n",
      "150\n",
      "Maximum words 5273\n",
      "24\n",
      "Maximum words 5273\n",
      "38\n",
      "Maximum words 5273\n",
      "97\n",
      "Maximum words 5273\n",
      "13\n",
      "Maximum words 5273\n",
      "10\n",
      "Maximum words 5273\n",
      "11\n",
      "Maximum words 5273\n",
      "21\n",
      "Maximum words 5273\n",
      "7\n",
      "Maximum words 5273\n",
      "153\n",
      "Maximum words 5273\n",
      "8\n",
      "Maximum words 5273\n",
      "8\n",
      "Maximum words 5273\n",
      "139\n",
      "Maximum words 5273\n",
      "299\n",
      "Maximum words 5273\n",
      "268\n",
      "Maximum words 5273\n",
      "343\n",
      "Maximum words 5273\n",
      "322\n",
      "Maximum words 5273\n",
      "253\n",
      "Maximum words 5273\n",
      "10\n",
      "Maximum words 5273\n",
      "18\n",
      "Maximum words 5273\n",
      "114\n",
      "Maximum words 5273\n",
      "21\n",
      "Maximum words 5273\n",
      "37\n",
      "Maximum words 5273\n",
      "72\n",
      "Maximum words 5273\n",
      "14\n",
      "Maximum words 5273\n",
      "205\n",
      "Maximum words 5273\n",
      "73\n",
      "Maximum words 5273\n",
      "34\n",
      "Maximum words 5273\n",
      "81\n",
      "Maximum words 5273\n",
      "310\n",
      "Maximum words 5273\n",
      "411\n",
      "Maximum words 5273\n",
      "332\n",
      "Maximum words 5273\n",
      "380\n",
      "Maximum words 5273\n",
      "124\n",
      "Maximum words 5273\n",
      "150\n",
      "Maximum words 5273\n",
      "290\n",
      "Maximum words 5273\n",
      "119\n",
      "Maximum words 5273\n",
      "40\n",
      "Maximum words 5273\n",
      "140\n",
      "Maximum words 5273\n",
      "66\n",
      "Maximum words 5273\n",
      "201\n",
      "Maximum words 5273\n",
      "121\n",
      "Maximum words 5273\n",
      "77\n",
      "Maximum words 5273\n",
      "86\n",
      "Maximum words 5273\n",
      "160\n",
      "Maximum words 5273\n",
      "177\n",
      "Maximum words 5273\n",
      "279\n",
      "Maximum words 5273\n",
      "187\n",
      "Maximum words 5273\n",
      "192\n",
      "Maximum words 5273\n",
      "65\n",
      "Maximum words 5273\n",
      "198\n",
      "Maximum words 5273\n",
      "824\n",
      "Maximum words 5273\n",
      "61\n",
      "Maximum words 5273\n",
      "35\n",
      "Maximum words 5273\n",
      "256\n",
      "Maximum words 5273\n",
      "1051\n",
      "Maximum words 5273\n",
      "475\n",
      "Maximum words 5273\n",
      "30\n",
      "Maximum words 5273\n",
      "175\n",
      "Maximum words 5273\n",
      "185\n",
      "Maximum words 5273\n",
      "160\n",
      "Maximum words 5273\n",
      "104\n",
      "Maximum words 5273\n",
      "121\n",
      "Maximum words 5273\n",
      "35\n",
      "Maximum words 5273\n",
      "203\n",
      "Maximum words 5273\n",
      "58\n",
      "Maximum words 5273\n",
      "107\n",
      "Maximum words 5273\n",
      "32\n",
      "Maximum words 5273\n",
      "37\n",
      "Maximum words 5273\n",
      "42\n",
      "Maximum words 5273\n",
      "92\n",
      "Maximum words 5273\n",
      "169\n",
      "Maximum words 5273\n",
      "635\n",
      "Maximum words 5273\n",
      "73\n",
      "Maximum words 5273\n",
      "142\n",
      "Maximum words 5273\n",
      "545\n",
      "Maximum words 5273\n",
      "529\n",
      "Maximum words 5273\n",
      "553\n",
      "Maximum words 5273\n",
      "115\n",
      "Maximum words 5273\n",
      "13\n",
      "Maximum words 5273\n",
      "5\n",
      "Maximum words 5273\n",
      "5\n",
      "Maximum words 5273\n",
      "11\n",
      "Maximum words 5273\n",
      "9\n",
      "Maximum words 5273\n",
      "41\n",
      "Maximum words 5273\n",
      "33\n",
      "Maximum words 5273\n",
      "471\n",
      "Maximum words 5273\n",
      "148\n",
      "Maximum words 5273\n",
      "71\n",
      "Maximum words 5273\n",
      "13\n",
      "Maximum words 5273\n",
      "9\n",
      "Maximum words 5273\n",
      "24\n",
      "Maximum words 5273\n",
      "31\n",
      "Maximum words 5273\n",
      "53\n",
      "Maximum words 5273\n",
      "9\n",
      "Maximum words 5273\n",
      "41\n",
      "Maximum words 5273\n",
      "54\n",
      "Maximum words 5273\n",
      "306\n",
      "Maximum words 5273\n",
      "208\n",
      "Maximum words 5273\n",
      "79\n",
      "Maximum words 5273\n",
      "179\n",
      "Maximum words 6573\n",
      "198\n",
      "Maximum words 6573\n",
      "262\n",
      "Maximum words 6573\n",
      "215\n",
      "Maximum words 6573\n",
      "262\n",
      "Maximum words 6573\n",
      "79\n",
      "Maximum words 6573\n",
      "52\n",
      "Maximum words 6573\n",
      "22\n",
      "Maximum words 6573\n",
      "103\n",
      "Maximum words 6573\n",
      "16\n",
      "Maximum words 6573\n",
      "92\n",
      "Maximum words 6573\n",
      "292\n",
      "Maximum words 6573\n",
      "212\n",
      "Maximum words 6573\n",
      "397\n",
      "Maximum words 6573\n",
      "69\n",
      "Maximum words 6573\n",
      "35\n",
      "Maximum words 6573\n",
      "368\n",
      "Maximum words 6573\n",
      "53\n",
      "Maximum words 6573\n",
      "152\n",
      "Maximum words 6573\n",
      "110\n",
      "Maximum words 6573\n",
      "370\n",
      "Maximum words 6573\n",
      "54\n",
      "Maximum words 6573\n",
      "357\n",
      "Maximum words 6573\n",
      "121\n",
      "Maximum words 6573\n",
      "152\n",
      "Maximum words 6573\n",
      "52\n",
      "Maximum words 6573\n",
      "26\n",
      "Maximum words 6573\n",
      "95\n",
      "Maximum words 6573\n",
      "75\n",
      "Maximum words 6573\n",
      "54\n",
      "Maximum words 6573\n",
      "114\n",
      "Maximum words 6573\n",
      "36\n",
      "Maximum words 6573\n",
      "0\n"
     ]
    },
    {
     "ename": "ValueError",
     "evalue": "max() arg is an empty sequence",
     "output_type": "error",
     "traceback": [
      "\u001b[0;31m---------------------------------------------------------------------------\u001b[0m",
      "\u001b[0;31mValueError\u001b[0m                                Traceback (most recent call last)",
      "\u001b[0;32m<ipython-input-84-bd046f3861e8>\u001b[0m in \u001b[0;36m<module>\u001b[0;34m()\u001b[0m\n\u001b[1;32m     11\u001b[0m         \u001b[0mprint\u001b[0m\u001b[0;34m(\u001b[0m\u001b[0;34m\"Maximum words {}\"\u001b[0m\u001b[0;34m.\u001b[0m\u001b[0mformat\u001b[0m\u001b[0;34m(\u001b[0m\u001b[0mMAX_NB_WORDS\u001b[0m\u001b[0;34m)\u001b[0m\u001b[0;34m)\u001b[0m\u001b[0;34m\u001b[0m\u001b[0m\n\u001b[1;32m     12\u001b[0m     \u001b[0;32mreturn\u001b[0m \u001b[0mMAX_NB_WORDS\u001b[0m\u001b[0;34m\u001b[0m\u001b[0m\n\u001b[0;32m---> 13\u001b[0;31m \u001b[0mMAX_NB_WORDS\u001b[0m \u001b[0;34m=\u001b[0m \u001b[0mfind_max_nb_words\u001b[0m\u001b[0;34m(\u001b[0m\u001b[0mtexts\u001b[0m\u001b[0;34m)\u001b[0m\u001b[0;34m\u001b[0m\u001b[0m\n\u001b[0m",
      "\u001b[0;32m<ipython-input-84-bd046f3861e8>\u001b[0m in \u001b[0;36mfind_max_nb_words\u001b[0;34m(texts)\u001b[0m\n\u001b[1;32m      6\u001b[0m         \u001b[0msents\u001b[0m \u001b[0;34m=\u001b[0m \u001b[0mtokenize\u001b[0m\u001b[0;34m.\u001b[0m\u001b[0msent_tokenize\u001b[0m\u001b[0;34m(\u001b[0m\u001b[0mtext\u001b[0m\u001b[0;34m)\u001b[0m\u001b[0;34m\u001b[0m\u001b[0m\n\u001b[1;32m      7\u001b[0m         \u001b[0mprint\u001b[0m\u001b[0;34m(\u001b[0m\u001b[0mlen\u001b[0m\u001b[0;34m(\u001b[0m\u001b[0msents\u001b[0m\u001b[0;34m)\u001b[0m\u001b[0;34m)\u001b[0m\u001b[0;34m\u001b[0m\u001b[0m\n\u001b[0;32m----> 8\u001b[0;31m         \u001b[0mlocal_max\u001b[0m \u001b[0;34m=\u001b[0m \u001b[0mmax\u001b[0m\u001b[0;34m(\u001b[0m\u001b[0mlist\u001b[0m\u001b[0;34m(\u001b[0m\u001b[0mmap\u001b[0m\u001b[0;34m(\u001b[0m\u001b[0mlen\u001b[0m\u001b[0;34m,\u001b[0m \u001b[0msents\u001b[0m\u001b[0;34m)\u001b[0m\u001b[0;34m)\u001b[0m\u001b[0;34m)\u001b[0m\u001b[0;34m\u001b[0m\u001b[0m\n\u001b[0m\u001b[1;32m      9\u001b[0m         \u001b[0;32mif\u001b[0m   \u001b[0mlocal_max\u001b[0m \u001b[0;34m>\u001b[0m \u001b[0mMAX_NB_WORDS\u001b[0m  \u001b[0;34m:\u001b[0m\u001b[0;34m\u001b[0m\u001b[0m\n\u001b[1;32m     10\u001b[0m             \u001b[0mMAX_NB_WORDS\u001b[0m \u001b[0;34m=\u001b[0m  \u001b[0mlocal_max\u001b[0m\u001b[0;34m\u001b[0m\u001b[0m\n",
      "\u001b[0;31mValueError\u001b[0m: max() arg is an empty sequence"
     ]
    }
   ],
   "source": [
    "\n",
    "    \n",
    "def find_max_nb_words(texts):\n",
    "    MAX_NB_WORDS = 0\n",
    "    for text in texts:\n",
    "        sents = tokenize.sent_tokenize(text)\n",
    "        print(len(sents))\n",
    "        local_max = max(list(map(len, sents)))\n",
    "        if   local_max > MAX_NB_WORDS  :\n",
    "            MAX_NB_WORDS =  local_max\n",
    "        print(\"Maximum words {}\".format(MAX_NB_WORDS))\n",
    "    return MAX_NB_WORDS\n",
    "MAX_NB_WORDS = find_max_nb_words(texts)"
   ]
  },
  {
   "cell_type": "code",
   "execution_count": 14,
   "metadata": {
    "collapsed": false
   },
   "outputs": [
    {
     "ename": "NameError",
     "evalue": "name 'MAX_NB_WORDS' is not defined",
     "output_type": "error",
     "traceback": [
      "\u001b[0;31m---------------------------------------------------------------------------\u001b[0m",
      "\u001b[0;31mNameError\u001b[0m                                 Traceback (most recent call last)",
      "\u001b[0;32m<ipython-input-14-acaa9847a714>\u001b[0m in \u001b[0;36m<module>\u001b[0;34m()\u001b[0m\n\u001b[1;32m     16\u001b[0m     \u001b[0mtext\u001b[0m \u001b[0;34m=\u001b[0m \u001b[0mre\u001b[0m\u001b[0;34m.\u001b[0m\u001b[0msub\u001b[0m\u001b[0;34m(\u001b[0m \u001b[0;34m'\\s+'\u001b[0m\u001b[0;34m,\u001b[0m \u001b[0;34m' '\u001b[0m\u001b[0;34m,\u001b[0m \u001b[0mtext\u001b[0m\u001b[0;34m)\u001b[0m\u001b[0;34m.\u001b[0m\u001b[0mlstrip\u001b[0m\u001b[0;34m(\u001b[0m\u001b[0;34m)\u001b[0m\u001b[0;34m.\u001b[0m\u001b[0mrstrip\u001b[0m\u001b[0;34m(\u001b[0m\u001b[0;34m)\u001b[0m \u001b[0;31m#remove extra and trailing spaces\u001b[0m\u001b[0;34m\u001b[0m\u001b[0m\n\u001b[1;32m     17\u001b[0m     \u001b[0;32mreturn\u001b[0m \u001b[0mtext\u001b[0m\u001b[0;34m.\u001b[0m\u001b[0mlower\u001b[0m\u001b[0;34m(\u001b[0m\u001b[0;34m)\u001b[0m\u001b[0;34m\u001b[0m\u001b[0m\n\u001b[0;32m---> 18\u001b[0;31m \u001b[0mnorm_texts\u001b[0m \u001b[0;34m=\u001b[0m \u001b[0mlist\u001b[0m\u001b[0;34m(\u001b[0m\u001b[0mmap\u001b[0m\u001b[0;34m(\u001b[0m\u001b[0mnormalize_corpus\u001b[0m\u001b[0;34m,\u001b[0m \u001b[0mtexts\u001b[0m\u001b[0;34m,\u001b[0m \u001b[0mMAX_NB_WORDS\u001b[0m\u001b[0;34m)\u001b[0m\u001b[0;34m)\u001b[0m\u001b[0;34m\u001b[0m\u001b[0m\n\u001b[0m",
      "\u001b[0;31mNameError\u001b[0m: name 'MAX_NB_WORDS' is not defined"
     ]
    }
   ],
   "source": [
    "def normalize_corpus(text, replace_period=False):\n",
    "    import string \n",
    "    sents = tokenize.sent_tokenize(text)\n",
    "    sents = map(lambda x: x.replace('.',' '), sents)\n",
    "    local_max = max(map(len, sents))\n",
    "    if   local_max > MAX_NB_WORDS:\n",
    "        MAX_NB_WORDS =  max(map(len, sents))\n",
    "    print(\"Maximum words {}\".format(MAX_NB_WORDS))\n",
    "    text = ' . '.join(sents)      \n",
    "    for char in string.punctuation:\n",
    "        if not replace_period and char=='.':\n",
    "            text = text.replace(char, ' . ') #text.replace(char, ' ' + char + ' ')\n",
    "        else:\n",
    "            text = text.replace(char, ' ') #text.replace(char, ' ' + char + ' ')\n",
    "    text = re.sub(r'[^\\x00-\\x7F]+',' ', text) #remove non-ASCII chars\n",
    "    text = re.sub( '\\s+', ' ', text).lstrip().rstrip() #remove extra and trailing spaces\n",
    "    return text.lower()\n",
    "norm_texts = list(map(normalize_corpus, texts, MAX_NB_WORDS))"
   ]
  },
  {
   "cell_type": "code",
   "execution_count": 19,
   "metadata": {
    "collapsed": false
   },
   "outputs": [
    {
     "data": {
      "text/plain": [
       "'the personal inconveniences to the members of the senate and of the house of representatives in leaving their families and private affairs at this season of the year are so obvious that i the more regret the extraordinary occasion which has rendered the convention of congress indispensable it would have afforded me the highest satisfaction to have been able to congratulate you on a restoration of peace to the nations of europe whose animosities have endangered our tranquillity but we have still abundant cause of gratitude to the supreme dispenser of national blessings for general health and promising seasons for domestic and social happiness for the rapid progress and ample acquisitions of industry through extensive territories for civil political and religious liberty while other states are desolated with foreign war or convulsed with intestine divisions the united states present the pleasing prospect of a nation governed by mild and equal laws generally satisfied with the possession of the rights neither envying the advantages nor fearing the power of other nations solicitous only for the maintenance of order and justice and the preservation of liberty increasing daily in their attachment to a system of government in proportion to their experience of its utility yielding a ready and general obedience to laws flowing from the reason and resting on the only solid foundation the affections of the people it is with extreme regret that i shall be obliged to turn your thoughts to other circumstances which admonish us that some of these felicities may not be lasting but if the tide of our prosperity is full and a reflux commencing a vigilant circumspection becomes us that we may meet our reverses with fortitude and extricate ourselves from their consequences with all the skill we possess and all the efforts in our power in giving to congress information of the state of the union and recommending to their consideration such measures as appear to me to be necessary or expedient according to my constitutional duty the causes and the objects of the present extraordinary session will be explained after the president of the united states received information that the french government had expressed serious discontents at some proceedings of the government of these states said to affect the interests of france he thought it expedient to send to that country a new minister fully instructed to enter on such amicable discussions and to give such candid explanations as might happily remove the discontents and suspicions of the french government and vindicate the conduct of the united states for this purpose he selected from among his fellow citizens a character whose integrity talents experience and services had placed him in the rank of the most esteemed and respected in the nation the direct object of his mission was expressed in his letter of credence to the french republic being to maintain that good understanding which from the commencement of the alliance had subsisted between the two nations and to efface unfavorable impressions banish suspicions and restore that cordiality which was at once the evidence and pledge of a friendly union and his instructions were to the same effect faithfully to represent the disposition of the government and people of the united states their disposition being 1 to remove jealousies and obviate complaints by shewing that they were groundless to restore that mutual confidence which had been so unfortunately and injuriously impaired and to explain the relative interests of both countries and the real sentiments of his own a minister thus specially commissioned it was expected would have proved the instrument of restoring mutual confidence between the two republics the first step of the french government corresponded with that expectation a few days before his arrival at paris the french minister of foreign relations informed the american minister then resident at paris of the formalities to be observed by himself in taking leave and by his successor preparatory to his reception these formalities they observed and on the 9th of december presented officially to the minister of foreign relations the one a copy of his letters of recall the other a copy of his letters of credence these were laid before the executive directory two days afterwards the minister of foreign relations informed the recalled american minister that the executive directory had determined not to receive another minister plenipotentiary from the united states until after the redress of grievances demanded of the american government and which the french republic had a right to expect from it the american minister immediately endeavored to ascertain whether by refusing to receive him it was intended that he should retire from the territories of the french republic and verbal answers were given that such was the intention of the directory for his own justification he desired a written answer but obtained none until toward the last of january when receiving notice in writing to quit the territories of the republic he proceeded to amsterdam where he proposed to wait for instruction from this government during his residence at paris cards of hospitality were refused him and he was threatened with being subjected to the jurisdiction of the minister of police but with becoming firmness he insisted on the protection of the law of nations due to him as the known minister of a foreign power you will derive further information from his dispatches which will be laid before you as it is often necessary that nations should treat for the mutual advantage of their affairs and especially to accommodate and terminate differences and as they can treat only by ministers the right of embassy is well known and established by the law and usage of nations the refusal on the part of france to receive our minister is then the denial of a right but the receive him until we have acceded to their demands without discussion and without investigation is to treat us neither as allies nor as friends nor as a sovereign state with this conduct of the french government it will be proper to take into view the public audience given to the late minister of the united states on his taking leave of the executive directory the speech of the president discloses sentiments more alarming than the refusal of a minister because more dangerous to our independence and union and at the same time studiously marked with indignities toward the government of the united states it evinces a disposition to separate the people of the united states from the government to persuade them that they have different affections principles and interests from those of their fellow citizens whom they themselves have chosen to manage their common concerns and thus to produce divisions fatal to our peace such attempts ought to be repelled with a decision which shall convince france and the world that we are not a degraded people humiliated under a colonial spirit of fear and sense of inferiority fitted to be the miserable instruments of foreign influence and regardless of national honor character and interest i should have been happy to have thrown a veil over these transactions if it had been possible to conceal them but they have passed on the great theater of the world in the face of all europe and america and with such circumstances of publicity and solemnity that they can not be disguised and will not soon be forgotten they have inflicted a wound in the american breast it is my sincere desire however that it may be healed it is my sincere desire and in this i presume i concur with you and with our constituents to preserve peace and friendship with all nations and believing that neither the honor nor the interest of the united states absolutely forbid the repetition of advances for securing these desirable objects with france i shall institute a fresh attempt at negotiation and shall not fail to promote and accelerate an accommodation on terms compatible with the rights duties interests and honor of the nation if we have committed errors and these can be demonstrated we shall be willing on conviction to redress them and equal measures of justice we have a right to expect from france and every other nation the diplomatic intercourse between the united states and france being at present suspended the government has no means of obtaining official information from that country nevertheless there is reason to believe that the executive directory passed a decree on the 2nd of march last contravening in part the treaty of amity and commerce of 1778 injurious to our lawful commerce and endangering the lives of our citizens a copy of this decree will be laid before you while we are endeavoring to adjust all our differences with france by amicable negotiation the progress of the war in europe the depredations on our commerce the personal injuries to our citizens and the general complexion of affairs render it my indispensable duty to recommend to your consideration effectual measures of defense the commerce of the united states has become an interesting object of attention whether we consider it in relation to the wealth and finances or the strength and resources of the nation with a sea coast of near 2000 miles in extent opening a wide field for fisheries navigation and commerce a great portion of our citizens naturally apply their industry and enterprise to these objects any serious and permanent injury to commerce would not fail to produce the most embarrassing disorders to prevent it from being undermined and destroyed it is essential that it receive an adequate protection the naval establishment must occur to every man who considers the injuries committed on our commerce the insults offered to our citizens and the description of vessels by which these abuses have been practiced as the sufferings of our mercantile and sea faring citizens can not be ascribed to the omission of duties demandable considering the neutral situation of our country they are to be attributed to the hope of impunity arising from a supposed inability on our part to afford protection to resist the consequences of such impressions on the minds of foreign nations and to guard against the degradation and servility which they must finally stamp on the american character is an important duty of government a naval power next to the militia is the natural defense of the united states the experience of the last war would be sufficient to shew that a moderate naval force such as would be easily within the present abilities of the union would have been sufficient to have baffled many formidable transportations of troops from one state to another which were then practiced our sea coasts from their great extent are more easily annoyed and more easily defended by a naval force than any other with all the materials our country abounds in skill our naval architects and navigators are equal to any and commanders and sea men will not be wanting but although the establishment of a permanent system of naval defense appears to be requisite i am sensible it can not be formed so speedily and extensively as the present crisis demands hitherto i have thought proper to prevent the sailing of armed vessels except on voyages to the east indies where general usage and the danger from pirates appeared to render the permission proper yet the restriction has originated solely from a wish to prevent collisions with the powers at war contravening the act of congress of june 1794 and not from any doubt entertained by me of the policy and propriety of permitting our vessels to employ means of defense while engaged in a lawful foreign commerce it remains for congress to prescribe such regulations as will enable our sea faring citizens to defend themselves against violations of the law of nations and at the same time restrain them from committing acts of hostility against the powers at war in addition to this voluntary provision for defense by individual citizens it appears to me necessary to equip the frigates and provide other vessels of inferior force to take under convoy such merchant vessels as shall remain unarmed the greater part of the cruisers whose depredations have been most injurious have been built and some of them partially equipped in the united states although an effectual remedy may be attended with difficulty yet i have thought it my duty to present the subject generally to your consideration if a mode can be devised by the wisdom of congress to prevent the resources of the united states from being converted into the means of annoying our trade a great evil will be prevented with the same view i think it proper to mention that some of our citizens resident abroad have fitted out privateers and others have voluntarily taken the command or entered on board of them and committed spoliations on the commerce of the united states such unnatural and iniquitous practices can be restrained only by severe punishments but besides a protection of our commerce on the seas i think it highly necessary to protect it at home where it is collected in our most important ports the distance of the united states from europe and the well known promptitude ardor and courage of the people in defense of their country happily diminish the probability of invasion nevertheless to guard against sudden and predatory incursions the situation of some of our principal sea ports demands your consideration and as our country is vulnerable in other interests besides those of its commerce you will seriously deliberate whether the means of general defense ought not to be increased by an addition to the regular artillery and cavalry and by arrangements for forming a provisional army with the same view and as a measure which even in a time of universal peace ought not to be neglected i recommend to your consideration a revision of the laws for organizing arming and disciplining the militia to render that natural and safe defense of the country efficacious although it is very true that we ought not to involve ourselves in the political system of europe but to keep ourselves always distinct and separate from it if we can yet to effect this separation early punctual and continual information of the current chain of events and of the political projects in contemplation is no less necessary than if we were directly concerned in them it is necessary in order to the discovery of the efforts made to draw us into the vortex in season to make preparations against them however we may consider ourselves the maritime and commercial powers of the world will consider the united states of america as forming a weight in that balance of power in europe which never can be forgotten or neglected it would not only be against our interest but it would be doing wrong to half of europe at least if we should voluntarily throw ourselves into either scale it is a natural policy for a nation that studies to be neutral to consult with other nations engaged in the same studies and pursuits at the same time that measures might be pursued with this view our treaties with prussia and sweden one of which is expired and the other near expiring might be renewed gentlemen of the house of representatives it is particularly your province to consider the state of the public finances and to adopt such measures respecting them as exigencies shall be found to require the preservation of public credit the regular extinguishment of the public debt and a provision of funds to defray any extraordinary expenses will of course call for your serious attention although the imposition of new burthens can not be in itself agreeable yet there is no ground to doubt that the american people will expect from you such measures as their actual engagements their present security and future interests demand gentlemen of the senate and gentlemen of the house of representatives the present situation of our country imposes an obligation on all the departments of government to adopt an explicit and decided conduct in my situation an exposition of the principles by which my administration will be governed ought not be omitted it is impossible to conceal from ourselves or the world what has been before observed that endeavors have been employed to foster and establish a division between the government and people of the united states to investigate the causes which have encouraged this attempt is not necessary but to repel by decided and united councils insinuations so derogatory to the honor and aggressions so dangerous to the constitution union and even independence of the nation is an indispensable duty it must not be permitted to be doubted whether the people of the united states will support the government established by their voluntary consent and appointed by their free choice or whether by surrendering themselves to the direction of foreign and domestic factions in opposition to their own government they will forfeit the honorable station they have hitherto maintained for myself having never been indifferent to what concerned the interests of my country devoted the best part of my life to obtain and support its independence and constantly witnessed the patriotism fidelity and perseverance of my fellow citizens on the most trying occasions it is not for me to hesitate or abandon a cause in which my heart has been so long engaged convinced that the conduct of the government has been just and impartial to foreign nations that those internal regulations which have been established by law for the preservation of peace are in their nature proper and that they have been fairly executed nothing will ever be done by me to impair the national engagements to innovate upon principles which have been so deliberately and uprightly established or to surrender in any manner the rights of the government to enable me to maintain this declaration i rely under god with entire confidence on the firm and enlightened support of the national legislature and upon the virtue and patriotism of my fellow citizens'"
      ]
     },
     "execution_count": 19,
     "metadata": {},
     "output_type": "execute_result"
    }
   ],
   "source": [
    "norm_texts[1]"
   ]
  },
  {
   "cell_type": "code",
   "execution_count": 20,
   "metadata": {
    "collapsed": false
   },
   "outputs": [
    {
     "data": {
      "text/plain": [
       "'Mr. Speaker, Mr. Vice President, my copartners in Government, gentlemen and ladies:   The Constitution imposes upon me the obligation to \"from time to time give to the Congress information of the State of the Union.\" While this has traditionally been interpreted as an annual affair, this tradition has been broken in extraordinary times.   These are extraordinary times. And we face an extraordinary challenge. Our strength as well as our convictions have imposed upon this nation the role of leader in freedom\\'s cause.   No role in history could be more difficult or more important. We stand for freedom. That is our conviction for ourselves—that is our only commitment to others. No friend, no neutral and no adversary should think otherwise. We are not against any man—or any nation—or any system—except as it is hostile to freedom. Nor am I here to present a new military doctrine, bearing any one name or aimed at any one area. I am here to promote the freedom doctrine.   The great battleground for the defense and expansion of freedom today is the whole southern half of the globe—Asia, Latin America, Africa and the Middle East—the lands of the rising peoples. Their revolution is the greatest in human history. They seek an end to injustice, tyranny, and exploitation. More than an end, they seek a beginning.   And theirs is a revolution which we would support regardless of the Cold War, and regardless of which political or economic route they should choose to freedom.   For the adversaries of freedom did not create the revolution; nor did they create the conditions which compel it. But they are seeking to ride the crest of its wave—to capture it for themselves.   Yet their aggression is more often concealed than open. They have fired no missiles; and their troops are seldom seen. They send arms, agitators, aid, technicians and propaganda to every troubled area. But where fighting is required, it is usually done by others—by guerrillas striking at night, by assassins striking alone—assassins who have taken the lives of four thousand civil officers in the last twelve months in Vietnam alone—by subversives and saboteurs and insurrectionists, who in some cases control whole areas inside of independent nations.1   1 At this point the following paragraph, which appears in fine text as signed and transmitted to the Senate and House of Representatives, was omitted in the reading of the message:   They possess a powerful intercontinental striking force, large forces for conventional war, a well-trained underground in nearly every country, the power to conscript talent and manpower for any purpose, the capacity for quick decisions, a closed society without dissent or free information, and long experience in the techniques of violence and subversion. They make the most of their scientific successes, their economic progress and their pose as a foe of colonialism and friend of popular revolution. They prey on unstable or unpopular governments, unsealed, or unknown boundaries, unfilled hopes, convulsive change, massive poverty, illiteracy, unrest and frustration.   With these formidable weapons, the adversaries of freedom plan to consolidate their territory—to exploit, to control, and finally to destroy the hopes of the world\\'s newest nations; and they have ambition to do it before the end of this decade. It is a contest of will and purpose as well as force and violence—a battle for minds and souls as well as lives and territory. And in that contest, we cannot stand aside.   We stand, as we have always stood from our earliest beginnings, for the independence and equality of all nations. This nation was born of revolution and raised in freedom. And we do not intend to leave an open road for despotism.   There is no single simple policy which meets this challenge. Experience has taught us that no one nation has the power or the wisdom to solve all the problems of the world or manage its revolutionary tides—that extending our commitments does not always increase our security—that any initiative carries with it the risk of a temporary defeat—that nuclear weapons cannot prevent subversion—that no free people can be kept free without will and energy of their own—and that no two nations or situations are exactly alike.   Yet there is much we can do—and must do. The proposals I bring before you are numerous and varied. They arise from the host of special opportunities and dangers which have become increasingly clear in recent months. Taken together, I believe that they can mark another step forward in our effort as a people. I am here to ask the help of this Congress and the nation in approving these necessary measures.   II. ECONOMIC AND SOCIAL PROGRESS AT HOME   The first and basic task confronting this nation this year was to turn recession into recovery. An affirmative anti-recession program, initiated with your cooperation, supported the natural forces in the private sector; and our economy is now enjoying renewed confidence and energy. The recession has been halted. Recovery is under way.   But the task of abating unemployment and achieving a full use of our resources does remain a serious challenge for us all. Large-scale unemployment during a recession is bad enough, but large-scale unemployment during a period of prosperity would be intolerable.   I am therefore transmitting to the Congress a new Manpower Development and Training program, to train or retrain several hundred thousand workers, particularly in those areas where we have seen chronic unemployment as a result of technological factors in new occupational skills over a four-year period, in order to replace those skills made obsolete by automation and industrial change with the new skills which the new processes demand.   It should be a satisfaction to us all that we have made great strides in restoring world confidence in the dollar, halting the outflow of gold and improving our balance of payments. During the last two months, our gold stocks actually increased by seventeen million dollars, compared to a loss of 635 million dollars during the last two months of 1960. We must maintain this progress—and this will require the cooperation and restraint of everyone. As recovery progresses, there will be temptations to seek unjustified price and wage increases. These we cannot afford. They will only handicap our efforts to compete abroad and to achieve full recovery here at home. Labor and management must—and I am confident that they will—pursue responsible wage and price policies in these critical times. I look to the President\\'s Advisory Committee on Labor-Management Policy to give a strong lead in this direction.   Moreover, if the budget deficit now increased by the needs of our security is to be held within manageable proportions, it will be necessary to hold tightly to prudent fiscal standards; and I request the cooperation of the Congress in this regard—to refrain from adding funds or programs, desirable as they may be, to the Budget—to end the postal deficit, as my predecessor also recommended, through increased rates—a deficit incidentally, this year, which exceeds the fiscal 1962 cost of all the space and defense measures that I am submitting today—to provide full pay-as-you-go highway financing—and to close those tax loopholes earlier specified. Our security and progress cannot be cheaply purchased; and their price must be found in what we all forego as well as what we all must pay.   III. ECONOMIC AND SOCIAL PROGRESS ABROAD   I stress the strength of our economy because it is essential to the strength of our nation. And what is true in our case is true in the case of other countries. Their strength in the struggle for freedom depends on the strength of their economic and their social progress.   We would be badly mistaken to consider their problems in military terms alone. For no amount of arms and armies can help stabilize those governments which are unable or unwilling to achieve social and economic reform and development. Military pacts cannot help nations whose social injustice and economic chaos invite insurgency and penetration and subversion. The most skillful counter-guerrilla efforts cannot succeed where the local population is too caught up in its own misery to be concerned about the advance of communism.   But for those who share this view, we stand ready now, as we have in the past, to provide generously of our skills, and our capital, and our food to assist the peoples of the less-developed nations to reach their goals in freedom—to help them before they are engulfed in crisis.   This is also our great opportunity in 1961. If we grasp it, then subversion to prevent its success is exposed as an unjustifiable attempt to keep these nations from either being free or equal. But if we do not pursue it, and if they do not pursue it, the bankruptcy of unstable governments, one by one, and of unfilled hopes will surely lead to a series of totalitarian receiverships.   Earlier in the year, I outlined to the Congress a new program for aiding emerging nations; and it is my intention to transmit shortly draft legislation to implement this program, to establish a new Act for International Development, and to add to the figures previously requested, in view of the swift pace of critical events, an additional 250 million dollars for a Presidential Contingency Fund, to be used only upon a Presidential determination in each case, with regular and complete reports to the Congress in each case, when there is a sudden and extraordinary drain upon our regular funds which we cannot foresee—as illustrated by recent events in Southeast Asia—and it makes necessary the use of this emergency reserve. The total amount requested—now raised to 2.65 billion dollars—is both minimal and crucial. I do not see how anyone who is concerned—as we all are—about the growing threats to freedom around the globe—and who is asking what more we can do as a people—can weaken or oppose the single most important program available for building the frontiers of freedom.   IV.   All that I have said makes it clear that we are engaged in a world-wide struggle in which we bear a heavy burden to preserve and promote the ideals that we share with all mankind, or have alien ideals forced upon them. That struggle has highlighted the role of our Information Agency. It is essential that the funds previously requested for this effort be not only approved in full, but increased by 2 million, 400 thousand dollars, to a total of 121 million dollars.   This new request is for additional radio and television to Latin America and Southeast Asia. These tools are particularly effective and essential in the cities and villages of those great continents as a means of reaching millions of uncertain peoples to tell them of our interest in their fight for freedom. In Latin America, we are proposing to increase our Spanish and Portuguese broadcasts to a total of 154 hours a week, compared to 42 hours today, none of which is in Portuguese, the language of about one-third of the people of South America. The Soviets, Red Chinese and satellites already broadcast into Latin America more than 134 hours a week in Spanish and Portuguese. Communist China alone does more public information broadcasting in our own hemisphere than we do. Moreover, powerful propaganda broadcasts from Havana now are heard throughout Latin America, encouraging new revolutions in several countries.   Similarly, in Laos, Vietnam, Cambodia, and Thailand, we must communicate our determination and support to those upon whom our hopes for resisting the communist tide in that continent ultimately depend. Our interest is in the truth.   V. OUR PARTNERSHIP FOR SELF-DEFENSE   But while we talk of sharing and building and the competition of ideas, others talk of arms and threaten war. So we have learned to keep our defenses strong—and to cooperate with others in a partnership of self-defense. The events of recent weeks have caused us to look anew at these efforts.   The center of freedom\\'s defense is our network of world alliances, extending from NATO, recommended by a Democratic President and approved by a Republican Congress, to SEATO, recommended by a Republican President and approved by a Democratic Congress. These alliances were constructed in the 1940\\'s and 1950\\'s—it is our task and responsibility in the 1960\\'s to strengthen them.   To meet the changing conditions of power—and power relationships have changed—we have endorsed an increased emphasis on NATO\\'s conventional strength. At the same time we are affirming our conviction that the NATO nuclear deterrent must also be kept strong. I have made clear our intention to commit to the NATO command, for this purpose, the 5 Polaris submarines originally suggested by President Eisenhower, with the possibility, if needed, of more to come.   Second, a major part of our partnership for self-defense is the Military Assistance Program. The main burden of local defense against local attack, subversion, insurrection or guerrilla warfare must of necessity rest with local forces. Where these forces have the necessary will and capacity to cope with such threats, our intervention is rarely necessary or helpful. Where the will is present and only capacity is lacking, our Military Assistance Program can be of help.   But this program, like economic assistance, needs a new emphasis. It cannot be extended without regard to the social, political and military reforms essential to internal respect and stability. The equipment and training provided must be tailored to legitimate local needs and to our own foreign and military policies, not to our supply of military stocks or a local leader\\'s desire for military display. And military assistance can, in addition to its military purposes, make a contribution to economic progress, as do our own Army Engineers.   In an earlier message, I requested 1.6 billion dollars for Military Assistance, stating that this would maintain existing force levels, but that I could not foresee how much more might be required. It is now clear that this is not enough. The present crisis in Southeast Asia, on which the Vice President has made a valuable report—the rising threat of communism in Latin America-the increased arms traffic in Africa—and all the new pressures on every nation found on the map by tracing your fingers along the borders of the Communist bloc in Asia and the Middle East—all make clear the dimension of our needs.   I therefore request the Congress to provide a total of 1.885 billion dollars for Military Assistance in the coming fiscal year—an amount less than that requested a year ago—but a minimum which must be assured if we are to help those nations make secure their independence. This must be prudently and wisely spent—and that will be our common endeavor. Military and economic assistance has been a heavy burden on our citizens for a long time, and I recognize the strong pressures against it; but this battle is far from over, it is reaching a crucial stage, and I believe we should participate in it. We cannot merely state our opposition to totalitarian advance without paying the price of helping those now under the greatest pressure.   VI. OUR OWN MILITARY AND INTELLIGENCE   In line with these developments, I have directed a further reinforcement of our own capacity to deter or resist non-nuclear aggression. In the conventional field, with one exception, I find no present need for large new levies of men. What is needed is rather a change of position to give us still further increases in flexibility.   Therefore, I am directing the Secretary of Defense to undertake a reorganization and modernization of the Army\\'s divisional structure, to increase its non-nuclear firepower, to improve its tactical mobility in any environment, to insure its flexibility to meet any direct or indirect threat, to facilitate its coordination with our major allies, and to provide more modern mechanized divisions in Europe and bring their equipment up to date, and new airborne brigades in both the Pacific and Europe.   And secondly, I am asking the Congress for an additional 100 million dollars to begin the procurement task necessary to re-equip this new Army structure with the most modern material. New helicopters, new armored personnel carriers, and new howitzers, for example, must be obtained now.   Third, I am directing the Secretary of Defense to expand rapidly and substantially, in cooperation with our Allies, the orientation of existing forces for the conduct of nonnuclear war, para-military operations and sub-limited or unconventional wars.   In addition, our special forces and unconventional warfare units will be increased and reoriented. Throughout the services new emphasis must be placed on the special skills and languages which are required to work with local populations.   Fourth, the Army is developing plans to make possible a much more rapid deployment of a major portion of its highly trained reserve forces. When these plans are completed and the reserve is strengthened, two combat-equipped divisions, plus their supporting forces, a total of 89,000 men, could be ready in an emergency for operations with but 3 weeks notice—2 more divisions with but 5 weeks notice—and six additional divisions and their supporting forces, making a total of 10 divisions, could be deployable with less than 8 weeks\\' notice. In short, these new plans will allow us to almost double the combat power of the Army in less than two months, compared to the nearly nine months heretofore required.   Fifth, to enhance the already formidable ability of the Marine Corps to respond to limited war emergencies, I am asking the Congress for 60 million dollars to increase the Marine Corps strength to 190,000 men. This will increase the initial impact and staying power of our three Marine divisions and three air wings, and provide a trained nucleus for further expansion, if necessary for self-defense.   Finally, to cite one other area of activities that are both legitimate and necessary as a means of self-defense in an age of hidden perils, our whole intelligence effort must be reviewed, and its coordination with other elements of policy assured. The Congress and the American people are entitled to know that we will institute whatever new organization, policies, and control are necessary.   VII. CIVIL DEFENSE   One major element of the national security program which this nation has never squarely faced up to is civil defense. This problem arises not from present trends but from national inaction in which most of us have participated. In the past decade we have intermittently considered a variety of programs, but we have never adopted a consistent policy. Public considerations have been largely characterized by apathy, indifference and skepticism; while, at the same time, many of the civil defense plans have been so far-reaching and unrealistic that they have not gained essential support.   This Administration has been looking hard at exactly what civil defense can and cannot do. It cannot be obtained cheaply. It cannot give an assurance of blast protection that will be proof against surprise attack or guaranteed against obsolescence or destruction. And it cannot deter a nuclear attack.   We will deter an enemy from making a nuclear attack only if our retaliatory power is so strong and so invulnerable that he knows he would be destroyed by our response. If we have that strength, civil defense is not needed to deter an attack. If we should ever lack it, civil defense would not be an adequate substitute.   But this deterrent concept assumes rational calculations by rational men. And the history of this planet, and particularly the history of the 20th century, is sufficient to remind us of the possibilities of an irrational attack, a miscalculation, an accidental war, for a war of escalation in which the stakes by each side gradually increase to the point of maximum danger which cannot be either foreseen or deterred. It is on this basis that civil defense can be readily justifiable—as insurance for the civilian population in case of an enemy miscalculation. It is insurance we trust will never be needed—but insurance which we could never forgive ourselves for foregoing in the event of catastrophe.   Once the validity of this concept is recognized, there is no point in delaying the initiation of a nation-wide long-range program of identifying present fallout shelter capacity and providing shelter in new and existing structures. Such a program would protect millions of people against the hazards of radioactive fallout in the event of large-scale nuclear attack. Effective performance of the entire program not only requires new legislative authority and more funds, but also sound organizational arrangements.   Therefore, under the authority vested in me by Reorganization Plan No. 1 of 1958, I am assigning responsibility for this program to the top civilian authority already responsible for continental defense, the Secretary of Defense. It is important that this function remain civilian, in nature and leadership; and this feature will not be changed.   The Office of Civil and Defense Mobilization will be reconstituted as a small staff agency to assist in the coordination of these functions. To more accurately describe its role, its title should be changed to the Office of Emergency Planning.   As soon as those newly charged with these responsibilities have prepared new authorization and appropriation requests, such requests will be transmitted to the Congress for a much strengthened Federal-State civil defense program. Such a program will provide Federal funds for identifying fallout shelter capacity in existing structures, and it will include, where appropriate, incorporation of shelter in Federal buildings, new requirements for shelter in buildings constructed with Federal assistance, and matching grants and other incentives for constructing shelter in State and local and private buildings.   Federal appropriations for civil defense in fiscal 1962 under this program will in all likelihood be more than triple the pending budget requests; and they will increase sharply in subsequent years. Financial participation will also be required from State and local governments and from private citizens. But no insurance is cost-free; and every American citizen and his community must decide for themselves whether this form of survival insurance justifies the expenditure of effort, time and money. For myself, I am convinced that it does.   VIII. DISARMAMENT   I cannot end this discussion of defense and armaments without emphasizing our strongest hope: the creation of an orderly world where disarmament will be possible. Our aims do not prepare for war—they are efforts to discourage and resist the adventures of others that could end in war.   That is why it is consistent with these efforts that we continue to press for properly safeguarded disarmament measures. At Geneva, in cooperation with the United Kingdom, we have put forward concrete proposals to make clear our wish to meet the Soviets half way in an effective nuclear test ban treaty—the first significant but essential step on the road towards disarmament. Up to now, their response has not been what we hoped, but Mr. Dean returned last night to Geneva, and we intend to go the last mile in patience to secure this gain if we can.   Meanwhile, we are determined to keep disarmament high on our agenda—to make an intensified effort to develop acceptable political and technical alternatives to the present arms race. To this end I shall send to the Congress a measure to establish a strengthened and enlarged Disarmament Agency.   IX. SPACE   Finally, if we are to win the battle that is now going on around the world between freedom and tyranny, the dramatic achievements in space which occurred in recent weeks should have made clear to us all, as did the Sputnik in 1957, the impact of this adventure on the minds of men everywhere, who are attempting to make a determination of which road they should take. Since early in my term, our efforts in space have been under review. With the advice of the Vice President, who is Chairman of the National Space Council, we have examined where we are strong and where we are not, where we may succeed and where we may not. Now it is time to take longer strides—time for a great new American enterprise—time for this nation to take a clearly leading role in space achievement, which in many ways may hold the key to our future on earth.   I believe we possess all the resources and talents necessary. But the facts of the matter are that we have never made the national decisions or marshaled the national resources required for such leadership. We have never specified long-range goals on an urgent time schedule, or managed our resources and our time so as to insure their fulfillment.   Recognizing the head start obtained by the Soviets with their large rocket engines, which gives them many months of lead-time, and recognizing the likelihood that they will exploit this lead for some time to come in still more impressive successes, we nevertheless are required to make new efforts on our own. For while we cannot guarantee that we shall one day be first, we can guarantee that any failure to make this effort will make us last. We take an additional risk by making it in full view of the world, but as shown by the feat of astronaut Shepard, this very risk enhances our stature when we are successful. But this is not merely a race. Space is open to us now; and our eagerness to share its meaning is not governed by the efforts of others. We go into space because whatever mankind must undertake, free men must fully share.   I therefore ask the Congress, above and beyond the increases I have earlier requested for space activities, to provide the funds which are needed to meet the following national goals:   First, I believe that this nation should commit itself to achieving the goal, before this decade is out, of landing a man on the moon and returning him safely to the earth. No single space project in this period will be more impressive to mankind, or more important for the long-range exploration of space; and none will be so difficult or expensive to accomplish. We propose to accelerate the development of the appropriate lunar space craft. We propose to develop alternate liquid and solid fuel boosters, much larger than any now being developed, until certain which is superior. We propose additional funds for other engine development and for unmanned explorations—explorations which are particularly important for one purpose which this nation will never overlook: the survival of the man who first makes this daring flight. But in a very real sense, it will not be one man going to the moon—if we make this judgment affirmatively, it will be an entire nation. For all of us must work to put him there.   Secondly, an additional 23 million dollars, together with 7 million dollars already available, will accelerate development of the Rover nuclear rocket. This gives promise of some day providing a means for even more exciting and ambitious exploration of space, perhaps beyond the moon, perhaps to the very end of the solar system itself.   Third, an additional 50 million dollars will make the most of our present leadership, by accelerating the use of space satellites for world-wide communications.   Fourth, an additional 75 million dollars—of which 53 million dollars is for the Weather Bureau—will help give us at the earliest possible time a satellite system for world-wide weather observation.   Let it be clear—and this is a judgment which the Members of the Congress must finally make—let it be clear that I am asking the Congress and the country to accept a firm commitment to a new course of action—a course which will last for many years and carry very heavy costs: 531 million dollars in fiscal \\'62—an estimated seven to nine billion dollars additional over the next five years. If we are to go only half way, or reduce our sights in the face of difficulty, in my judgment it would be better not to go at all.   Now this is a choice which this country must make, and I am confident that under the leadership of the Space Committees of the Congress, and the Appropriating Committees, that you will consider the matter carefully.   It is a most important decision that we make as a nation. But all of you have lived through the last four years and have seen the significance of space and the adventures in space, and no one can predict with certainty what the ultimate meaning will be of mastery of space.   I believe we should go to the moon. But I think every citizen of this country as well as the Members of the Congress should consider the matter carefully in making their judgment, to which we have given attention over many weeks and months, because it is a heavy burden, and there is no sense in agreeing or desiring that the United States take an affirmative position in outer space, unless we are prepared to do the work and bear the burdens to make it successful. If we are not, we should decide today and this year.   This decision demands a major national commitment of scientific and technical manpower, materiel and facilities, and the possibility of their diversion from other important activities where they are already thinly spread. It means a degree of dedication, organization and discipline which have not always characterized our research and development efforts. It means we cannot afford undue work stoppages, inflated costs of material or talent, wasteful interagency rivalries, or a high turnover of key personnel.   New objectives and new money cannot solve these problems. They could in fact, aggravate them further—unless every scientist, every engineer, every serviceman, every technician, contractor, and civil servant gives his personal pledge that this nation will move forward, with the full speed of freedom, in the exciting adventure of space.   X. CONCLUSION   In conclusion, let me emphasize one point. It is not a pleasure for any President of the United States, as I am sure it was not a pleasure for my predecessors, to come before the Congress and ask for new appropriations which place burdens on our people. I came to this conclusion with some reluctance. But in my judgment, this is a most serious time in the life of our country and in the life of freedom around the globe, and it is the obligation, I believe, of the President of the United States to at least make his recommendations to the Members of the Congress, so that they can reach their own conclusions with that judgment before them. You must decide yourselves, as I have decided, and I am confident that whether you finally decide in the way that I have decided or not, that your judgment—as my judgment—is reached on what is in the best interests of our country.   In conclusion, let me emphasize one point: that we are determined, as a nation in 1961 that freedom shall survive and succeed—and whatever the peril and set-backs, we have some very large advantages.   The first is the simple fact that we are on the side of liberty—and since the beginning of history, and particularly since the end of the Second World War, liberty has been winning out all over the globe.   A second great asset is that we are not alone. We have friends and allies all over the world who share our devotion to freedom. May I cite as a symbol of traditional and effective friendship the great ally I am about to visit—France. I look forward to my visit to France, and to my discussion with a great Captain of the Western World, President de Gaulle, as a meeting of particular significance, permitting the kind of close and ranging consultation that will strengthen both our countries and serve the common purposes of world-wide peace and liberty. Such serious conversations do not require a pale unanimity—they are rather the instruments of trust and understanding over a long road.   A third asset is our desire for peace. It is sincere, and I believe the world knows it. We are proving it in our patience at the test-ban table, and we are proving it in the UN where our efforts have been directed to maintaining that organization\\'s usefulness as a protector of the independence of small nations. In these and other instances, the response of our opponents has not been encouraging.   Yet it is important to know that our patience at the bargaining table is nearly inexhaustible, though our credulity is limited—that our hopes for peace are unfailing, while our determination to protect our security is resolute. For these reasons I have long thought it wise to meet with the Soviet Premier for a personal exchange of views. A meeting in Vienna turned out to be convenient for us both; and the Austrian government has kindly made us welcome. No formal agenda is planned and no negotiations will be undertaken; but we will make dear America\\'s enduring concern is for both peace and freedom—that we are anxious to live in harmony with the Russian people—that we seek no conquests, no satellites, no riches—that we seek only the day when \"nation shall not lift up sword against nation, neither shall they learn war any more.\"   Finally, our greatest asset in this struggle is the American people—their willingness to pay the price for these programs—to understand and accept a long struggle—to share their resources with other less fortunate people—to meet the tax levels and close the tax loopholes I have requested—to exercise self-restraint instead of pushing up wages or prices, or over-producing certain crops, or spreading military secrets, or urging unessential expenditures or improper monopolies or harmful work stoppages—to serve in the Peace Corps or the Armed Services or the Federal Civil Service or the Congress—to strive for excellence in their schools, in their cities and in their physical fitness and that of their children—to take part in Civil Defense—to pay higher postal rates, and higher payroll taxes and higher teachers\\' salaries, in order to strengthen our society—to show friendship to students and visitors from other lands who visit us and go back in many cases to be the future leaders, with an image of America—and I want that image, and I know you do, to be affirmative and positive—and, finally, to practice democracy at home, in all States, with all races, to respect each other and to protect the Constitutional rights of all citizens.   I have not asked for a single program which did not cause one or all Americans some inconvenience, or some hardship, or some sacrifice. But they have responded—and you in the Congress have responded to your duty—and I feel confident in asking today for a similar response to these new and larger demands. It is heartening to know, as I journey abroad, that our country is united in its commitment to freedom—and is ready to do its duty.'"
      ]
     },
     "execution_count": 20,
     "metadata": {},
     "output_type": "execute_result"
    }
   ],
   "source": [
    "texts[500]"
   ]
  },
  {
   "cell_type": "code",
   "execution_count": 22,
   "metadata": {
    "collapsed": false
   },
   "outputs": [
    {
     "data": {
      "text/plain": [
       "'Mr. Speaker, Mr. Vice President, my copartners in Government, gentlemen and ladies:   The Constitution imposes upon me the obligation to \"from time to time give to the Congress information of the State of the Union.\" While this has traditionally been interpreted as an annual affair, this tradition has been broken in extraordinary times. These are extraordinary times. And we face an extraordinary challenge. Our strength as well as our convictions have imposed upon this nation the role of leader in freedom\\'s cause. No role in history could be more difficult or more important. We stand for freedom. That is our conviction for ourselves—that is our only commitment to others. No friend, no neutral and no adversary should think otherwise. We are not against any man—or any nation—or any system—except as it is hostile to freedom. Nor am I here to present a new military doctrine, bearing any one name or aimed at any one area. I am here to promote the freedom doctrine. The great battleground for the defense and expansion of freedom today is the whole southern half of the globe—Asia, Latin America, Africa and the Middle East—the lands of the rising peoples. Their revolution is the greatest in human history. They seek an end to injustice, tyranny, and exploitation. More than an end, they seek a beginning. And theirs is a revolution which we would support regardless of the Cold War, and regardless of which political or economic route they should choose to freedom. For the adversaries of freedom did not create the revolution; nor did they create the conditions which compel it. But they are seeking to ride the crest of its wave—to capture it for themselves. Yet their aggression is more often concealed than open. They have fired no missiles; and their troops are seldom seen. They send arms, agitators, aid, technicians and propaganda to every troubled area. But where fighting is required, it is usually done by others—by guerrillas striking at night, by assassins striking alone—assassins who have taken the lives of four thousand civil officers in the last twelve months in Vietnam alone—by subversives and saboteurs and insurrectionists, who in some cases control whole areas inside of independent nations.1   1 At this point the following paragraph, which appears in fine text as signed and transmitted to the Senate and House of Representatives, was omitted in the reading of the message:   They possess a powerful intercontinental striking force, large forces for conventional war, a well-trained underground in nearly every country, the power to conscript talent and manpower for any purpose, the capacity for quick decisions, a closed society without dissent or free information, and long experience in the techniques of violence and subversion. They make the most of their scientific successes, their economic progress and their pose as a foe of colonialism and friend of popular revolution. They prey on unstable or unpopular governments, unsealed, or unknown boundaries, unfilled hopes, convulsive change, massive poverty, illiteracy, unrest and frustration. With these formidable weapons, the adversaries of freedom plan to consolidate their territory—to exploit, to control, and finally to destroy the hopes of the world\\'s newest nations; and they have ambition to do it before the end of this decade. It is a contest of will and purpose as well as force and violence—a battle for minds and souls as well as lives and territory. And in that contest, we cannot stand aside. We stand, as we have always stood from our earliest beginnings, for the independence and equality of all nations. This nation was born of revolution and raised in freedom. And we do not intend to leave an open road for despotism. There is no single simple policy which meets this challenge. Experience has taught us that no one nation has the power or the wisdom to solve all the problems of the world or manage its revolutionary tides—that extending our commitments does not always increase our security—that any initiative carries with it the risk of a temporary defeat—that nuclear weapons cannot prevent subversion—that no free people can be kept free without will and energy of their own—and that no two nations or situations are exactly alike. Yet there is much we can do—and must do. The proposals I bring before you are numerous and varied. They arise from the host of special opportunities and dangers which have become increasingly clear in recent months. Taken together, I believe that they can mark another step forward in our effort as a people. I am here to ask the help of this Congress and the nation in approving these necessary measures. II. ECONOMIC AND SOCIAL PROGRESS AT HOME   The first and basic task confronting this nation this year was to turn recession into recovery. An affirmative anti-recession program, initiated with your cooperation, supported the natural forces in the private sector; and our economy is now enjoying renewed confidence and energy. The recession has been halted. Recovery is under way. But the task of abating unemployment and achieving a full use of our resources does remain a serious challenge for us all. Large-scale unemployment during a recession is bad enough, but large-scale unemployment during a period of prosperity would be intolerable. I am therefore transmitting to the Congress a new Manpower Development and Training program, to train or retrain several hundred thousand workers, particularly in those areas where we have seen chronic unemployment as a result of technological factors in new occupational skills over a four-year period, in order to replace those skills made obsolete by automation and industrial change with the new skills which the new processes demand. It should be a satisfaction to us all that we have made great strides in restoring world confidence in the dollar, halting the outflow of gold and improving our balance of payments. During the last two months, our gold stocks actually increased by seventeen million dollars, compared to a loss of 635 million dollars during the last two months of 1960. We must maintain this progress—and this will require the cooperation and restraint of everyone. As recovery progresses, there will be temptations to seek unjustified price and wage increases. These we cannot afford. They will only handicap our efforts to compete abroad and to achieve full recovery here at home. Labor and management must—and I am confident that they will—pursue responsible wage and price policies in these critical times. I look to the President\\'s Advisory Committee on Labor-Management Policy to give a strong lead in this direction. Moreover, if the budget deficit now increased by the needs of our security is to be held within manageable proportions, it will be necessary to hold tightly to prudent fiscal standards; and I request the cooperation of the Congress in this regard—to refrain from adding funds or programs, desirable as they may be, to the Budget—to end the postal deficit, as my predecessor also recommended, through increased rates—a deficit incidentally, this year, which exceeds the fiscal 1962 cost of all the space and defense measures that I am submitting today—to provide full pay-as-you-go highway financing—and to close those tax loopholes earlier specified. Our security and progress cannot be cheaply purchased; and their price must be found in what we all forego as well as what we all must pay. III. ECONOMIC AND SOCIAL PROGRESS ABROAD   I stress the strength of our economy because it is essential to the strength of our nation. And what is true in our case is true in the case of other countries. Their strength in the struggle for freedom depends on the strength of their economic and their social progress. We would be badly mistaken to consider their problems in military terms alone. For no amount of arms and armies can help stabilize those governments which are unable or unwilling to achieve social and economic reform and development. Military pacts cannot help nations whose social injustice and economic chaos invite insurgency and penetration and subversion. The most skillful counter-guerrilla efforts cannot succeed where the local population is too caught up in its own misery to be concerned about the advance of communism. But for those who share this view, we stand ready now, as we have in the past, to provide generously of our skills, and our capital, and our food to assist the peoples of the less-developed nations to reach their goals in freedom—to help them before they are engulfed in crisis. This is also our great opportunity in 1961. If we grasp it, then subversion to prevent its success is exposed as an unjustifiable attempt to keep these nations from either being free or equal. But if we do not pursue it, and if they do not pursue it, the bankruptcy of unstable governments, one by one, and of unfilled hopes will surely lead to a series of totalitarian receiverships. Earlier in the year, I outlined to the Congress a new program for aiding emerging nations; and it is my intention to transmit shortly draft legislation to implement this program, to establish a new Act for International Development, and to add to the figures previously requested, in view of the swift pace of critical events, an additional 250 million dollars for a Presidential Contingency Fund, to be used only upon a Presidential determination in each case, with regular and complete reports to the Congress in each case, when there is a sudden and extraordinary drain upon our regular funds which we cannot foresee—as illustrated by recent events in Southeast Asia—and it makes necessary the use of this emergency reserve. The total amount requested—now raised to 2.65 billion dollars—is both minimal and crucial. I do not see how anyone who is concerned—as we all are—about the growing threats to freedom around the globe—and who is asking what more we can do as a people—can weaken or oppose the single most important program available for building the frontiers of freedom. IV. All that I have said makes it clear that we are engaged in a world-wide struggle in which we bear a heavy burden to preserve and promote the ideals that we share with all mankind, or have alien ideals forced upon them. That struggle has highlighted the role of our Information Agency. It is essential that the funds previously requested for this effort be not only approved in full, but increased by 2 million, 400 thousand dollars, to a total of 121 million dollars. This new request is for additional radio and television to Latin America and Southeast Asia. These tools are particularly effective and essential in the cities and villages of those great continents as a means of reaching millions of uncertain peoples to tell them of our interest in their fight for freedom. In Latin America, we are proposing to increase our Spanish and Portuguese broadcasts to a total of 154 hours a week, compared to 42 hours today, none of which is in Portuguese, the language of about one-third of the people of South America. The Soviets, Red Chinese and satellites already broadcast into Latin America more than 134 hours a week in Spanish and Portuguese. Communist China alone does more public information broadcasting in our own hemisphere than we do. Moreover, powerful propaganda broadcasts from Havana now are heard throughout Latin America, encouraging new revolutions in several countries. Similarly, in Laos, Vietnam, Cambodia, and Thailand, we must communicate our determination and support to those upon whom our hopes for resisting the communist tide in that continent ultimately depend. Our interest is in the truth. V. OUR PARTNERSHIP FOR SELF-DEFENSE   But while we talk of sharing and building and the competition of ideas, others talk of arms and threaten war. So we have learned to keep our defenses strong—and to cooperate with others in a partnership of self-defense. The events of recent weeks have caused us to look anew at these efforts. The center of freedom\\'s defense is our network of world alliances, extending from NATO, recommended by a Democratic President and approved by a Republican Congress, to SEATO, recommended by a Republican President and approved by a Democratic Congress. These alliances were constructed in the 1940\\'s and 1950\\'s—it is our task and responsibility in the 1960\\'s to strengthen them. To meet the changing conditions of power—and power relationships have changed—we have endorsed an increased emphasis on NATO\\'s conventional strength. At the same time we are affirming our conviction that the NATO nuclear deterrent must also be kept strong. I have made clear our intention to commit to the NATO command, for this purpose, the 5 Polaris submarines originally suggested by President Eisenhower, with the possibility, if needed, of more to come. Second, a major part of our partnership for self-defense is the Military Assistance Program. The main burden of local defense against local attack, subversion, insurrection or guerrilla warfare must of necessity rest with local forces. Where these forces have the necessary will and capacity to cope with such threats, our intervention is rarely necessary or helpful. Where the will is present and only capacity is lacking, our Military Assistance Program can be of help. But this program, like economic assistance, needs a new emphasis. It cannot be extended without regard to the social, political and military reforms essential to internal respect and stability. The equipment and training provided must be tailored to legitimate local needs and to our own foreign and military policies, not to our supply of military stocks or a local leader\\'s desire for military display. And military assistance can, in addition to its military purposes, make a contribution to economic progress, as do our own Army Engineers. In an earlier message, I requested 1.6 billion dollars for Military Assistance, stating that this would maintain existing force levels, but that I could not foresee how much more might be required. It is now clear that this is not enough. The present crisis in Southeast Asia, on which the Vice President has made a valuable report—the rising threat of communism in Latin America-the increased arms traffic in Africa—and all the new pressures on every nation found on the map by tracing your fingers along the borders of the Communist bloc in Asia and the Middle East—all make clear the dimension of our needs. I therefore request the Congress to provide a total of 1.885 billion dollars for Military Assistance in the coming fiscal year—an amount less than that requested a year ago—but a minimum which must be assured if we are to help those nations make secure their independence. This must be prudently and wisely spent—and that will be our common endeavor. Military and economic assistance has been a heavy burden on our citizens for a long time, and I recognize the strong pressures against it; but this battle is far from over, it is reaching a crucial stage, and I believe we should participate in it. We cannot merely state our opposition to totalitarian advance without paying the price of helping those now under the greatest pressure. VI. OUR OWN MILITARY AND INTELLIGENCE   In line with these developments, I have directed a further reinforcement of our own capacity to deter or resist non-nuclear aggression. In the conventional field, with one exception, I find no present need for large new levies of men. What is needed is rather a change of position to give us still further increases in flexibility. Therefore, I am directing the Secretary of Defense to undertake a reorganization and modernization of the Army\\'s divisional structure, to increase its non-nuclear firepower, to improve its tactical mobility in any environment, to insure its flexibility to meet any direct or indirect threat, to facilitate its coordination with our major allies, and to provide more modern mechanized divisions in Europe and bring their equipment up to date, and new airborne brigades in both the Pacific and Europe. And secondly, I am asking the Congress for an additional 100 million dollars to begin the procurement task necessary to re-equip this new Army structure with the most modern material. New helicopters, new armored personnel carriers, and new howitzers, for example, must be obtained now. Third, I am directing the Secretary of Defense to expand rapidly and substantially, in cooperation with our Allies, the orientation of existing forces for the conduct of nonnuclear war, para-military operations and sub-limited or unconventional wars. In addition, our special forces and unconventional warfare units will be increased and reoriented. Throughout the services new emphasis must be placed on the special skills and languages which are required to work with local populations. Fourth, the Army is developing plans to make possible a much more rapid deployment of a major portion of its highly trained reserve forces. When these plans are completed and the reserve is strengthened, two combat-equipped divisions, plus their supporting forces, a total of 89,000 men, could be ready in an emergency for operations with but 3 weeks notice—2 more divisions with but 5 weeks notice—and six additional divisions and their supporting forces, making a total of 10 divisions, could be deployable with less than 8 weeks\\' notice. In short, these new plans will allow us to almost double the combat power of the Army in less than two months, compared to the nearly nine months heretofore required. Fifth, to enhance the already formidable ability of the Marine Corps to respond to limited war emergencies, I am asking the Congress for 60 million dollars to increase the Marine Corps strength to 190,000 men. This will increase the initial impact and staying power of our three Marine divisions and three air wings, and provide a trained nucleus for further expansion, if necessary for self-defense. Finally, to cite one other area of activities that are both legitimate and necessary as a means of self-defense in an age of hidden perils, our whole intelligence effort must be reviewed, and its coordination with other elements of policy assured. The Congress and the American people are entitled to know that we will institute whatever new organization, policies, and control are necessary. VII. CIVIL DEFENSE   One major element of the national security program which this nation has never squarely faced up to is civil defense. This problem arises not from present trends but from national inaction in which most of us have participated. In the past decade we have intermittently considered a variety of programs, but we have never adopted a consistent policy. Public considerations have been largely characterized by apathy, indifference and skepticism; while, at the same time, many of the civil defense plans have been so far-reaching and unrealistic that they have not gained essential support. This Administration has been looking hard at exactly what civil defense can and cannot do. It cannot be obtained cheaply. It cannot give an assurance of blast protection that will be proof against surprise attack or guaranteed against obsolescence or destruction. And it cannot deter a nuclear attack. We will deter an enemy from making a nuclear attack only if our retaliatory power is so strong and so invulnerable that he knows he would be destroyed by our response. If we have that strength, civil defense is not needed to deter an attack. If we should ever lack it, civil defense would not be an adequate substitute. But this deterrent concept assumes rational calculations by rational men. And the history of this planet, and particularly the history of the 20th century, is sufficient to remind us of the possibilities of an irrational attack, a miscalculation, an accidental war, for a war of escalation in which the stakes by each side gradually increase to the point of maximum danger which cannot be either foreseen or deterred. It is on this basis that civil defense can be readily justifiable—as insurance for the civilian population in case of an enemy miscalculation. It is insurance we trust will never be needed—but insurance which we could never forgive ourselves for foregoing in the event of catastrophe. Once the validity of this concept is recognized, there is no point in delaying the initiation of a nation-wide long-range program of identifying present fallout shelter capacity and providing shelter in new and existing structures. Such a program would protect millions of people against the hazards of radioactive fallout in the event of large-scale nuclear attack. Effective performance of the entire program not only requires new legislative authority and more funds, but also sound organizational arrangements. Therefore, under the authority vested in me by Reorganization Plan No. 1 of 1958, I am assigning responsibility for this program to the top civilian authority already responsible for continental defense, the Secretary of Defense. It is important that this function remain civilian, in nature and leadership; and this feature will not be changed. The Office of Civil and Defense Mobilization will be reconstituted as a small staff agency to assist in the coordination of these functions. To more accurately describe its role, its title should be changed to the Office of Emergency Planning. As soon as those newly charged with these responsibilities have prepared new authorization and appropriation requests, such requests will be transmitted to the Congress for a much strengthened Federal-State civil defense program. Such a program will provide Federal funds for identifying fallout shelter capacity in existing structures, and it will include, where appropriate, incorporation of shelter in Federal buildings, new requirements for shelter in buildings constructed with Federal assistance, and matching grants and other incentives for constructing shelter in State and local and private buildings. Federal appropriations for civil defense in fiscal 1962 under this program will in all likelihood be more than triple the pending budget requests; and they will increase sharply in subsequent years. Financial participation will also be required from State and local governments and from private citizens. But no insurance is cost-free; and every American citizen and his community must decide for themselves whether this form of survival insurance justifies the expenditure of effort, time and money. For myself, I am convinced that it does. VIII. DISARMAMENT   I cannot end this discussion of defense and armaments without emphasizing our strongest hope: the creation of an orderly world where disarmament will be possible. Our aims do not prepare for war—they are efforts to discourage and resist the adventures of others that could end in war. That is why it is consistent with these efforts that we continue to press for properly safeguarded disarmament measures. At Geneva, in cooperation with the United Kingdom, we have put forward concrete proposals to make clear our wish to meet the Soviets half way in an effective nuclear test ban treaty—the first significant but essential step on the road towards disarmament. Up to now, their response has not been what we hoped, but Mr. Dean returned last night to Geneva, and we intend to go the last mile in patience to secure this gain if we can. Meanwhile, we are determined to keep disarmament high on our agenda—to make an intensified effort to develop acceptable political and technical alternatives to the present arms race. To this end I shall send to the Congress a measure to establish a strengthened and enlarged Disarmament Agency. IX. SPACE   Finally, if we are to win the battle that is now going on around the world between freedom and tyranny, the dramatic achievements in space which occurred in recent weeks should have made clear to us all, as did the Sputnik in 1957, the impact of this adventure on the minds of men everywhere, who are attempting to make a determination of which road they should take. Since early in my term, our efforts in space have been under review. With the advice of the Vice President, who is Chairman of the National Space Council, we have examined where we are strong and where we are not, where we may succeed and where we may not. Now it is time to take longer strides—time for a great new American enterprise—time for this nation to take a clearly leading role in space achievement, which in many ways may hold the key to our future on earth. I believe we possess all the resources and talents necessary. But the facts of the matter are that we have never made the national decisions or marshaled the national resources required for such leadership. We have never specified long-range goals on an urgent time schedule, or managed our resources and our time so as to insure their fulfillment. Recognizing the head start obtained by the Soviets with their large rocket engines, which gives them many months of lead-time, and recognizing the likelihood that they will exploit this lead for some time to come in still more impressive successes, we nevertheless are required to make new efforts on our own. For while we cannot guarantee that we shall one day be first, we can guarantee that any failure to make this effort will make us last. We take an additional risk by making it in full view of the world, but as shown by the feat of astronaut Shepard, this very risk enhances our stature when we are successful. But this is not merely a race. Space is open to us now; and our eagerness to share its meaning is not governed by the efforts of others. We go into space because whatever mankind must undertake, free men must fully share. I therefore ask the Congress, above and beyond the increases I have earlier requested for space activities, to provide the funds which are needed to meet the following national goals:   First, I believe that this nation should commit itself to achieving the goal, before this decade is out, of landing a man on the moon and returning him safely to the earth. No single space project in this period will be more impressive to mankind, or more important for the long-range exploration of space; and none will be so difficult or expensive to accomplish. We propose to accelerate the development of the appropriate lunar space craft. We propose to develop alternate liquid and solid fuel boosters, much larger than any now being developed, until certain which is superior. We propose additional funds for other engine development and for unmanned explorations—explorations which are particularly important for one purpose which this nation will never overlook: the survival of the man who first makes this daring flight. But in a very real sense, it will not be one man going to the moon—if we make this judgment affirmatively, it will be an entire nation. For all of us must work to put him there. Secondly, an additional 23 million dollars, together with 7 million dollars already available, will accelerate development of the Rover nuclear rocket. This gives promise of some day providing a means for even more exciting and ambitious exploration of space, perhaps beyond the moon, perhaps to the very end of the solar system itself. Third, an additional 50 million dollars will make the most of our present leadership, by accelerating the use of space satellites for world-wide communications. Fourth, an additional 75 million dollars—of which 53 million dollars is for the Weather Bureau—will help give us at the earliest possible time a satellite system for world-wide weather observation. Let it be clear—and this is a judgment which the Members of the Congress must finally make—let it be clear that I am asking the Congress and the country to accept a firm commitment to a new course of action—a course which will last for many years and carry very heavy costs: 531 million dollars in fiscal \\'62—an estimated seven to nine billion dollars additional over the next five years. If we are to go only half way, or reduce our sights in the face of difficulty, in my judgment it would be better not to go at all. Now this is a choice which this country must make, and I am confident that under the leadership of the Space Committees of the Congress, and the Appropriating Committees, that you will consider the matter carefully. It is a most important decision that we make as a nation. But all of you have lived through the last four years and have seen the significance of space and the adventures in space, and no one can predict with certainty what the ultimate meaning will be of mastery of space. I believe we should go to the moon. But I think every citizen of this country as well as the Members of the Congress should consider the matter carefully in making their judgment, to which we have given attention over many weeks and months, because it is a heavy burden, and there is no sense in agreeing or desiring that the United States take an affirmative position in outer space, unless we are prepared to do the work and bear the burdens to make it successful. If we are not, we should decide today and this year. This decision demands a major national commitment of scientific and technical manpower, materiel and facilities, and the possibility of their diversion from other important activities where they are already thinly spread. It means a degree of dedication, organization and discipline which have not always characterized our research and development efforts. It means we cannot afford undue work stoppages, inflated costs of material or talent, wasteful interagency rivalries, or a high turnover of key personnel. New objectives and new money cannot solve these problems. They could in fact, aggravate them further—unless every scientist, every engineer, every serviceman, every technician, contractor, and civil servant gives his personal pledge that this nation will move forward, with the full speed of freedom, in the exciting adventure of space. X. CONCLUSION   In conclusion, let me emphasize one point. It is not a pleasure for any President of the United States, as I am sure it was not a pleasure for my predecessors, to come before the Congress and ask for new appropriations which place burdens on our people. I came to this conclusion with some reluctance. But in my judgment, this is a most serious time in the life of our country and in the life of freedom around the globe, and it is the obligation, I believe, of the President of the United States to at least make his recommendations to the Members of the Congress, so that they can reach their own conclusions with that judgment before them. You must decide yourselves, as I have decided, and I am confident that whether you finally decide in the way that I have decided or not, that your judgment—as my judgment—is reached on what is in the best interests of our country. In conclusion, let me emphasize one point: that we are determined, as a nation in 1961 that freedom shall survive and succeed—and whatever the peril and set-backs, we have some very large advantages. The first is the simple fact that we are on the side of liberty—and since the beginning of history, and particularly since the end of the Second World War, liberty has been winning out all over the globe. A second great asset is that we are not alone. We have friends and allies all over the world who share our devotion to freedom. May I cite as a symbol of traditional and effective friendship the great ally I am about to visit—France. I look forward to my visit to France, and to my discussion with a great Captain of the Western World, President de Gaulle, as a meeting of particular significance, permitting the kind of close and ranging consultation that will strengthen both our countries and serve the common purposes of world-wide peace and liberty. Such serious conversations do not require a pale unanimity—they are rather the instruments of trust and understanding over a long road. A third asset is our desire for peace. It is sincere, and I believe the world knows it. We are proving it in our patience at the test-ban table, and we are proving it in the UN where our efforts have been directed to maintaining that organization\\'s usefulness as a protector of the independence of small nations. In these and other instances, the response of our opponents has not been encouraging. Yet it is important to know that our patience at the bargaining table is nearly inexhaustible, though our credulity is limited—that our hopes for peace are unfailing, while our determination to protect our security is resolute. For these reasons I have long thought it wise to meet with the Soviet Premier for a personal exchange of views. A meeting in Vienna turned out to be convenient for us both; and the Austrian government has kindly made us welcome. No formal agenda is planned and no negotiations will be undertaken; but we will make dear America\\'s enduring concern is for both peace and freedom—that we are anxious to live in harmony with the Russian people—that we seek no conquests, no satellites, no riches—that we seek only the day when \"nation shall not lift up sword against nation, neither shall they learn war any more.\" Finally, our greatest asset in this struggle is the American people—their willingness to pay the price for these programs—to understand and accept a long struggle—to share their resources with other less fortunate people—to meet the tax levels and close the tax loopholes I have requested—to exercise self-restraint instead of pushing up wages or prices, or over-producing certain crops, or spreading military secrets, or urging unessential expenditures or improper monopolies or harmful work stoppages—to serve in the Peace Corps or the Armed Services or the Federal Civil Service or the Congress—to strive for excellence in their schools, in their cities and in their physical fitness and that of their children—to take part in Civil Defense—to pay higher postal rates, and higher payroll taxes and higher teachers\\' salaries, in order to strengthen our society—to show friendship to students and visitors from other lands who visit us and go back in many cases to be the future leaders, with an image of America—and I want that image, and I know you do, to be affirmative and positive—and, finally, to practice democracy at home, in all States, with all races, to respect each other and to protect the Constitutional rights of all citizens. I have not asked for a single program which did not cause one or all Americans some inconvenience, or some hardship, or some sacrifice. But they have responded—and you in the Congress have responded to your duty—and I feel confident in asking today for a similar response to these new and larger demands. It is heartening to know, as I journey abroad, that our country is united in its commitment to freedom—and is ready to do its duty.'"
      ]
     },
     "execution_count": 22,
     "metadata": {},
     "output_type": "execute_result"
    }
   ],
   "source": [
    "' '.join(tokenize.sent_tokenize(texts[500]))"
   ]
  },
  {
   "cell_type": "code",
   "execution_count": 23,
   "metadata": {
    "collapsed": false
   },
   "outputs": [
    {
     "data": {
      "text/plain": [
       "'mr speaker mr vice president my copartners in government gentlemen and ladies the constitution imposes upon me the obligation to from time to time give to the congress information of the state of the union while this has traditionally been interpreted as an annual affair this tradition has been broken in extraordinary times these are extraordinary times and we face an extraordinary challenge our strength as well as our convictions have imposed upon this nation the role of leader in freedom s cause no role in history could be more difficult or more important we stand for freedom that is our conviction for ourselves that is our only commitment to others no friend no neutral and no adversary should think otherwise we are not against any man or any nation or any system except as it is hostile to freedom nor am i here to present a new military doctrine bearing any one name or aimed at any one area i am here to promote the freedom doctrine the great battleground for the defense and expansion of freedom today is the whole southern half of the globe asia latin america africa and the middle east the lands of the rising peoples their revolution is the greatest in human history they seek an end to injustice tyranny and exploitation more than an end they seek a beginning and theirs is a revolution which we would support regardless of the cold war and regardless of which political or economic route they should choose to freedom for the adversaries of freedom did not create the revolution nor did they create the conditions which compel it but they are seeking to ride the crest of its wave to capture it for themselves yet their aggression is more often concealed than open they have fired no missiles and their troops are seldom seen they send arms agitators aid technicians and propaganda to every troubled area but where fighting is required it is usually done by others by guerrillas striking at night by assassins striking alone assassins who have taken the lives of four thousand civil officers in the last twelve months in vietnam alone by subversives and saboteurs and insurrectionists who in some cases control whole areas inside of independent nations 1 1 at this point the following paragraph which appears in fine text as signed and transmitted to the senate and house of representatives was omitted in the reading of the message they possess a powerful intercontinental striking force large forces for conventional war a well trained underground in nearly every country the power to conscript talent and manpower for any purpose the capacity for quick decisions a closed society without dissent or free information and long experience in the techniques of violence and subversion they make the most of their scientific successes their economic progress and their pose as a foe of colonialism and friend of popular revolution they prey on unstable or unpopular governments unsealed or unknown boundaries unfilled hopes convulsive change massive poverty illiteracy unrest and frustration with these formidable weapons the adversaries of freedom plan to consolidate their territory to exploit to control and finally to destroy the hopes of the world s newest nations and they have ambition to do it before the end of this decade it is a contest of will and purpose as well as force and violence a battle for minds and souls as well as lives and territory and in that contest we cannot stand aside we stand as we have always stood from our earliest beginnings for the independence and equality of all nations this nation was born of revolution and raised in freedom and we do not intend to leave an open road for despotism there is no single simple policy which meets this challenge experience has taught us that no one nation has the power or the wisdom to solve all the problems of the world or manage its revolutionary tides that extending our commitments does not always increase our security that any initiative carries with it the risk of a temporary defeat that nuclear weapons cannot prevent subversion that no free people can be kept free without will and energy of their own and that no two nations or situations are exactly alike yet there is much we can do and must do the proposals i bring before you are numerous and varied they arise from the host of special opportunities and dangers which have become increasingly clear in recent months taken together i believe that they can mark another step forward in our effort as a people i am here to ask the help of this congress and the nation in approving these necessary measures ii economic and social progress at home the first and basic task confronting this nation this year was to turn recession into recovery an affirmative anti recession program initiated with your cooperation supported the natural forces in the private sector and our economy is now enjoying renewed confidence and energy the recession has been halted recovery is under way but the task of abating unemployment and achieving a full use of our resources does remain a serious challenge for us all large scale unemployment during a recession is bad enough but large scale unemployment during a period of prosperity would be intolerable i am therefore transmitting to the congress a new manpower development and training program to train or retrain several hundred thousand workers particularly in those areas where we have seen chronic unemployment as a result of technological factors in new occupational skills over a four year period in order to replace those skills made obsolete by automation and industrial change with the new skills which the new processes demand it should be a satisfaction to us all that we have made great strides in restoring world confidence in the dollar halting the outflow of gold and improving our balance of payments during the last two months our gold stocks actually increased by seventeen million dollars compared to a loss of 635 million dollars during the last two months of 1960 we must maintain this progress and this will require the cooperation and restraint of everyone as recovery progresses there will be temptations to seek unjustified price and wage increases these we cannot afford they will only handicap our efforts to compete abroad and to achieve full recovery here at home labor and management must and i am confident that they will pursue responsible wage and price policies in these critical times i look to the president s advisory committee on labor management policy to give a strong lead in this direction moreover if the budget deficit now increased by the needs of our security is to be held within manageable proportions it will be necessary to hold tightly to prudent fiscal standards and i request the cooperation of the congress in this regard to refrain from adding funds or programs desirable as they may be to the budget to end the postal deficit as my predecessor also recommended through increased rates a deficit incidentally this year which exceeds the fiscal 1962 cost of all the space and defense measures that i am submitting today to provide full pay as you go highway financing and to close those tax loopholes earlier specified our security and progress cannot be cheaply purchased and their price must be found in what we all forego as well as what we all must pay iii economic and social progress abroad i stress the strength of our economy because it is essential to the strength of our nation and what is true in our case is true in the case of other countries their strength in the struggle for freedom depends on the strength of their economic and their social progress we would be badly mistaken to consider their problems in military terms alone for no amount of arms and armies can help stabilize those governments which are unable or unwilling to achieve social and economic reform and development military pacts cannot help nations whose social injustice and economic chaos invite insurgency and penetration and subversion the most skillful counter guerrilla efforts cannot succeed where the local population is too caught up in its own misery to be concerned about the advance of communism but for those who share this view we stand ready now as we have in the past to provide generously of our skills and our capital and our food to assist the peoples of the less developed nations to reach their goals in freedom to help them before they are engulfed in crisis this is also our great opportunity in 1961 if we grasp it then subversion to prevent its success is exposed as an unjustifiable attempt to keep these nations from either being free or equal but if we do not pursue it and if they do not pursue it the bankruptcy of unstable governments one by one and of unfilled hopes will surely lead to a series of totalitarian receiverships earlier in the year i outlined to the congress a new program for aiding emerging nations and it is my intention to transmit shortly draft legislation to implement this program to establish a new act for international development and to add to the figures previously requested in view of the swift pace of critical events an additional 250 million dollars for a presidential contingency fund to be used only upon a presidential determination in each case with regular and complete reports to the congress in each case when there is a sudden and extraordinary drain upon our regular funds which we cannot foresee as illustrated by recent events in southeast asia and it makes necessary the use of this emergency reserve the total amount requested now raised to 2 65 billion dollars is both minimal and crucial i do not see how anyone who is concerned as we all are about the growing threats to freedom around the globe and who is asking what more we can do as a people can weaken or oppose the single most important program available for building the frontiers of freedom iv all that i have said makes it clear that we are engaged in a world wide struggle in which we bear a heavy burden to preserve and promote the ideals that we share with all mankind or have alien ideals forced upon them that struggle has highlighted the role of our information agency it is essential that the funds previously requested for this effort be not only approved in full but increased by 2 million 400 thousand dollars to a total of 121 million dollars this new request is for additional radio and television to latin america and southeast asia these tools are particularly effective and essential in the cities and villages of those great continents as a means of reaching millions of uncertain peoples to tell them of our interest in their fight for freedom in latin america we are proposing to increase our spanish and portuguese broadcasts to a total of 154 hours a week compared to 42 hours today none of which is in portuguese the language of about one third of the people of south america the soviets red chinese and satellites already broadcast into latin america more than 134 hours a week in spanish and portuguese communist china alone does more public information broadcasting in our own hemisphere than we do moreover powerful propaganda broadcasts from havana now are heard throughout latin america encouraging new revolutions in several countries similarly in laos vietnam cambodia and thailand we must communicate our determination and support to those upon whom our hopes for resisting the communist tide in that continent ultimately depend our interest is in the truth v our partnership for self defense but while we talk of sharing and building and the competition of ideas others talk of arms and threaten war so we have learned to keep our defenses strong and to cooperate with others in a partnership of self defense the events of recent weeks have caused us to look anew at these efforts the center of freedom s defense is our network of world alliances extending from nato recommended by a democratic president and approved by a republican congress to seato recommended by a republican president and approved by a democratic congress these alliances were constructed in the 1940 s and 1950 s it is our task and responsibility in the 1960 s to strengthen them to meet the changing conditions of power and power relationships have changed we have endorsed an increased emphasis on nato s conventional strength at the same time we are affirming our conviction that the nato nuclear deterrent must also be kept strong i have made clear our intention to commit to the nato command for this purpose the 5 polaris submarines originally suggested by president eisenhower with the possibility if needed of more to come second a major part of our partnership for self defense is the military assistance program the main burden of local defense against local attack subversion insurrection or guerrilla warfare must of necessity rest with local forces where these forces have the necessary will and capacity to cope with such threats our intervention is rarely necessary or helpful where the will is present and only capacity is lacking our military assistance program can be of help but this program like economic assistance needs a new emphasis it cannot be extended without regard to the social political and military reforms essential to internal respect and stability the equipment and training provided must be tailored to legitimate local needs and to our own foreign and military policies not to our supply of military stocks or a local leader s desire for military display and military assistance can in addition to its military purposes make a contribution to economic progress as do our own army engineers in an earlier message i requested 1 6 billion dollars for military assistance stating that this would maintain existing force levels but that i could not foresee how much more might be required it is now clear that this is not enough the present crisis in southeast asia on which the vice president has made a valuable report the rising threat of communism in latin america the increased arms traffic in africa and all the new pressures on every nation found on the map by tracing your fingers along the borders of the communist bloc in asia and the middle east all make clear the dimension of our needs i therefore request the congress to provide a total of 1 885 billion dollars for military assistance in the coming fiscal year an amount less than that requested a year ago but a minimum which must be assured if we are to help those nations make secure their independence this must be prudently and wisely spent and that will be our common endeavor military and economic assistance has been a heavy burden on our citizens for a long time and i recognize the strong pressures against it but this battle is far from over it is reaching a crucial stage and i believe we should participate in it we cannot merely state our opposition to totalitarian advance without paying the price of helping those now under the greatest pressure vi our own military and intelligence in line with these developments i have directed a further reinforcement of our own capacity to deter or resist non nuclear aggression in the conventional field with one exception i find no present need for large new levies of men what is needed is rather a change of position to give us still further increases in flexibility therefore i am directing the secretary of defense to undertake a reorganization and modernization of the army s divisional structure to increase its non nuclear firepower to improve its tactical mobility in any environment to insure its flexibility to meet any direct or indirect threat to facilitate its coordination with our major allies and to provide more modern mechanized divisions in europe and bring their equipment up to date and new airborne brigades in both the pacific and europe and secondly i am asking the congress for an additional 100 million dollars to begin the procurement task necessary to re equip this new army structure with the most modern material new helicopters new armored personnel carriers and new howitzers for example must be obtained now third i am directing the secretary of defense to expand rapidly and substantially in cooperation with our allies the orientation of existing forces for the conduct of nonnuclear war para military operations and sub limited or unconventional wars in addition our special forces and unconventional warfare units will be increased and reoriented throughout the services new emphasis must be placed on the special skills and languages which are required to work with local populations fourth the army is developing plans to make possible a much more rapid deployment of a major portion of its highly trained reserve forces when these plans are completed and the reserve is strengthened two combat equipped divisions plus their supporting forces a total of 89 000 men could be ready in an emergency for operations with but 3 weeks notice 2 more divisions with but 5 weeks notice and six additional divisions and their supporting forces making a total of 10 divisions could be deployable with less than 8 weeks notice in short these new plans will allow us to almost double the combat power of the army in less than two months compared to the nearly nine months heretofore required fifth to enhance the already formidable ability of the marine corps to respond to limited war emergencies i am asking the congress for 60 million dollars to increase the marine corps strength to 190 000 men this will increase the initial impact and staying power of our three marine divisions and three air wings and provide a trained nucleus for further expansion if necessary for self defense finally to cite one other area of activities that are both legitimate and necessary as a means of self defense in an age of hidden perils our whole intelligence effort must be reviewed and its coordination with other elements of policy assured the congress and the american people are entitled to know that we will institute whatever new organization policies and control are necessary vii civil defense one major element of the national security program which this nation has never squarely faced up to is civil defense this problem arises not from present trends but from national inaction in which most of us have participated in the past decade we have intermittently considered a variety of programs but we have never adopted a consistent policy public considerations have been largely characterized by apathy indifference and skepticism while at the same time many of the civil defense plans have been so far reaching and unrealistic that they have not gained essential support this administration has been looking hard at exactly what civil defense can and cannot do it cannot be obtained cheaply it cannot give an assurance of blast protection that will be proof against surprise attack or guaranteed against obsolescence or destruction and it cannot deter a nuclear attack we will deter an enemy from making a nuclear attack only if our retaliatory power is so strong and so invulnerable that he knows he would be destroyed by our response if we have that strength civil defense is not needed to deter an attack if we should ever lack it civil defense would not be an adequate substitute but this deterrent concept assumes rational calculations by rational men and the history of this planet and particularly the history of the 20th century is sufficient to remind us of the possibilities of an irrational attack a miscalculation an accidental war for a war of escalation in which the stakes by each side gradually increase to the point of maximum danger which cannot be either foreseen or deterred it is on this basis that civil defense can be readily justifiable as insurance for the civilian population in case of an enemy miscalculation it is insurance we trust will never be needed but insurance which we could never forgive ourselves for foregoing in the event of catastrophe once the validity of this concept is recognized there is no point in delaying the initiation of a nation wide long range program of identifying present fallout shelter capacity and providing shelter in new and existing structures such a program would protect millions of people against the hazards of radioactive fallout in the event of large scale nuclear attack effective performance of the entire program not only requires new legislative authority and more funds but also sound organizational arrangements therefore under the authority vested in me by reorganization plan no 1 of 1958 i am assigning responsibility for this program to the top civilian authority already responsible for continental defense the secretary of defense it is important that this function remain civilian in nature and leadership and this feature will not be changed the office of civil and defense mobilization will be reconstituted as a small staff agency to assist in the coordination of these functions to more accurately describe its role its title should be changed to the office of emergency planning as soon as those newly charged with these responsibilities have prepared new authorization and appropriation requests such requests will be transmitted to the congress for a much strengthened federal state civil defense program such a program will provide federal funds for identifying fallout shelter capacity in existing structures and it will include where appropriate incorporation of shelter in federal buildings new requirements for shelter in buildings constructed with federal assistance and matching grants and other incentives for constructing shelter in state and local and private buildings federal appropriations for civil defense in fiscal 1962 under this program will in all likelihood be more than triple the pending budget requests and they will increase sharply in subsequent years financial participation will also be required from state and local governments and from private citizens but no insurance is cost free and every american citizen and his community must decide for themselves whether this form of survival insurance justifies the expenditure of effort time and money for myself i am convinced that it does viii disarmament i cannot end this discussion of defense and armaments without emphasizing our strongest hope the creation of an orderly world where disarmament will be possible our aims do not prepare for war they are efforts to discourage and resist the adventures of others that could end in war that is why it is consistent with these efforts that we continue to press for properly safeguarded disarmament measures at geneva in cooperation with the united kingdom we have put forward concrete proposals to make clear our wish to meet the soviets half way in an effective nuclear test ban treaty the first significant but essential step on the road towards disarmament up to now their response has not been what we hoped but mr dean returned last night to geneva and we intend to go the last mile in patience to secure this gain if we can meanwhile we are determined to keep disarmament high on our agenda to make an intensified effort to develop acceptable political and technical alternatives to the present arms race to this end i shall send to the congress a measure to establish a strengthened and enlarged disarmament agency ix space finally if we are to win the battle that is now going on around the world between freedom and tyranny the dramatic achievements in space which occurred in recent weeks should have made clear to us all as did the sputnik in 1957 the impact of this adventure on the minds of men everywhere who are attempting to make a determination of which road they should take since early in my term our efforts in space have been under review with the advice of the vice president who is chairman of the national space council we have examined where we are strong and where we are not where we may succeed and where we may not now it is time to take longer strides time for a great new american enterprise time for this nation to take a clearly leading role in space achievement which in many ways may hold the key to our future on earth i believe we possess all the resources and talents necessary but the facts of the matter are that we have never made the national decisions or marshaled the national resources required for such leadership we have never specified long range goals on an urgent time schedule or managed our resources and our time so as to insure their fulfillment recognizing the head start obtained by the soviets with their large rocket engines which gives them many months of lead time and recognizing the likelihood that they will exploit this lead for some time to come in still more impressive successes we nevertheless are required to make new efforts on our own for while we cannot guarantee that we shall one day be first we can guarantee that any failure to make this effort will make us last we take an additional risk by making it in full view of the world but as shown by the feat of astronaut shepard this very risk enhances our stature when we are successful but this is not merely a race space is open to us now and our eagerness to share its meaning is not governed by the efforts of others we go into space because whatever mankind must undertake free men must fully share i therefore ask the congress above and beyond the increases i have earlier requested for space activities to provide the funds which are needed to meet the following national goals first i believe that this nation should commit itself to achieving the goal before this decade is out of landing a man on the moon and returning him safely to the earth no single space project in this period will be more impressive to mankind or more important for the long range exploration of space and none will be so difficult or expensive to accomplish we propose to accelerate the development of the appropriate lunar space craft we propose to develop alternate liquid and solid fuel boosters much larger than any now being developed until certain which is superior we propose additional funds for other engine development and for unmanned explorations explorations which are particularly important for one purpose which this nation will never overlook the survival of the man who first makes this daring flight but in a very real sense it will not be one man going to the moon if we make this judgment affirmatively it will be an entire nation for all of us must work to put him there secondly an additional 23 million dollars together with 7 million dollars already available will accelerate development of the rover nuclear rocket this gives promise of some day providing a means for even more exciting and ambitious exploration of space perhaps beyond the moon perhaps to the very end of the solar system itself third an additional 50 million dollars will make the most of our present leadership by accelerating the use of space satellites for world wide communications fourth an additional 75 million dollars of which 53 million dollars is for the weather bureau will help give us at the earliest possible time a satellite system for world wide weather observation let it be clear and this is a judgment which the members of the congress must finally make let it be clear that i am asking the congress and the country to accept a firm commitment to a new course of action a course which will last for many years and carry very heavy costs 531 million dollars in fiscal 62 an estimated seven to nine billion dollars additional over the next five years if we are to go only half way or reduce our sights in the face of difficulty in my judgment it would be better not to go at all now this is a choice which this country must make and i am confident that under the leadership of the space committees of the congress and the appropriating committees that you will consider the matter carefully it is a most important decision that we make as a nation but all of you have lived through the last four years and have seen the significance of space and the adventures in space and no one can predict with certainty what the ultimate meaning will be of mastery of space i believe we should go to the moon but i think every citizen of this country as well as the members of the congress should consider the matter carefully in making their judgment to which we have given attention over many weeks and months because it is a heavy burden and there is no sense in agreeing or desiring that the united states take an affirmative position in outer space unless we are prepared to do the work and bear the burdens to make it successful if we are not we should decide today and this year this decision demands a major national commitment of scientific and technical manpower materiel and facilities and the possibility of their diversion from other important activities where they are already thinly spread it means a degree of dedication organization and discipline which have not always characterized our research and development efforts it means we cannot afford undue work stoppages inflated costs of material or talent wasteful interagency rivalries or a high turnover of key personnel new objectives and new money cannot solve these problems they could in fact aggravate them further unless every scientist every engineer every serviceman every technician contractor and civil servant gives his personal pledge that this nation will move forward with the full speed of freedom in the exciting adventure of space x conclusion in conclusion let me emphasize one point it is not a pleasure for any president of the united states as i am sure it was not a pleasure for my predecessors to come before the congress and ask for new appropriations which place burdens on our people i came to this conclusion with some reluctance but in my judgment this is a most serious time in the life of our country and in the life of freedom around the globe and it is the obligation i believe of the president of the united states to at least make his recommendations to the members of the congress so that they can reach their own conclusions with that judgment before them you must decide yourselves as i have decided and i am confident that whether you finally decide in the way that i have decided or not that your judgment as my judgment is reached on what is in the best interests of our country in conclusion let me emphasize one point that we are determined as a nation in 1961 that freedom shall survive and succeed and whatever the peril and set backs we have some very large advantages the first is the simple fact that we are on the side of liberty and since the beginning of history and particularly since the end of the second world war liberty has been winning out all over the globe a second great asset is that we are not alone we have friends and allies all over the world who share our devotion to freedom may i cite as a symbol of traditional and effective friendship the great ally i am about to visit france i look forward to my visit to france and to my discussion with a great captain of the western world president de gaulle as a meeting of particular significance permitting the kind of close and ranging consultation that will strengthen both our countries and serve the common purposes of world wide peace and liberty such serious conversations do not require a pale unanimity they are rather the instruments of trust and understanding over a long road a third asset is our desire for peace it is sincere and i believe the world knows it we are proving it in our patience at the test ban table and we are proving it in the un where our efforts have been directed to maintaining that organization s usefulness as a protector of the independence of small nations in these and other instances the response of our opponents has not been encouraging yet it is important to know that our patience at the bargaining table is nearly inexhaustible though our credulity is limited that our hopes for peace are unfailing while our determination to protect our security is resolute for these reasons i have long thought it wise to meet with the soviet premier for a personal exchange of views a meeting in vienna turned out to be convenient for us both and the austrian government has kindly made us welcome no formal agenda is planned and no negotiations will be undertaken but we will make dear america s enduring concern is for both peace and freedom that we are anxious to live in harmony with the russian people that we seek no conquests no satellites no riches that we seek only the day when nation shall not lift up sword against nation neither shall they learn war any more finally our greatest asset in this struggle is the american people their willingness to pay the price for these programs to understand and accept a long struggle to share their resources with other less fortunate people to meet the tax levels and close the tax loopholes i have requested to exercise self restraint instead of pushing up wages or prices or over producing certain crops or spreading military secrets or urging unessential expenditures or improper monopolies or harmful work stoppages to serve in the peace corps or the armed services or the federal civil service or the congress to strive for excellence in their schools in their cities and in their physical fitness and that of their children to take part in civil defense to pay higher postal rates and higher payroll taxes and higher teachers salaries in order to strengthen our society to show friendship to students and visitors from other lands who visit us and go back in many cases to be the future leaders with an image of america and i want that image and i know you do to be affirmative and positive and finally to practice democracy at home in all states with all races to respect each other and to protect the constitutional rights of all citizens i have not asked for a single program which did not cause one or all americans some inconvenience or some hardship or some sacrifice but they have responded and you in the congress have responded to your duty and i feel confident in asking today for a similar response to these new and larger demands it is heartening to know as i journey abroad that our country is united in its commitment to freedom and is ready to do its duty'"
      ]
     },
     "execution_count": 23,
     "metadata": {},
     "output_type": "execute_result"
    }
   ],
   "source": [
    "normalize_corpus(texts[500])"
   ]
  },
  {
   "cell_type": "code",
   "execution_count": 15,
   "metadata": {
    "collapsed": false
   },
   "outputs": [
    {
     "name": "stdout",
     "output_type": "stream",
     "text": [
      "[2665, 11080, 10013, 1927, 81934, 62451, 51770, 54751, 5014, 6845]\n"
     ]
    }
   ],
   "source": [
    "MAX_NB_WORDS = 100\n",
    "len(texts)\n",
    "mini_test = texts[:10]\n",
    "print(list(map(len, mini_test)))\n",
    "MAX_SEQUENCE_LENGTH = 100\n",
    "MAX_SENTENCES = 100\n",
    "import numpy as np"
   ]
  },
  {
   "cell_type": "code",
   "execution_count": 16,
   "metadata": {
    "collapsed": false
   },
   "outputs": [],
   "source": [
    "def pad_dense_list(speech, maxsentence):\n",
    "    \n",
    "    each_sub_len = len(speech[0])\n",
    "    Z = np.zeros((maxsentence, each_sub_len))\n",
    "    #print(\"Shape of Z{}, list {}\", Z.shape, len(speech))\n",
    "    for index, row in enumerate(speech):\n",
    "        if (index >= maxsentence):\n",
    "            break\n",
    "        \n",
    "        Z[index] = row\n",
    "    #print(Z) \n",
    "    return Z"
   ]
  },
  {
   "cell_type": "code",
   "execution_count": 17,
   "metadata": {
    "collapsed": false
   },
   "outputs": [],
   "source": [
    "def preprocess_text(mini_test):\n",
    "    #mini_test = \"mini test. hello world.\"\n",
    "    tokenizer = Tokenizer(nb_words=5)\n",
    "    tokenizer.fit_on_texts(mini_test)\n",
    "    text_encoded = np.zeros((len(texts),MAX_SENTENCES,MAX_SEQUENCE_LENGTH))\n",
    "    #print(text_encoded.shape)\n",
    "    word_index = tokenizer.word_index\n",
    "    for enu, speech in enumerate(mini_test):\n",
    "        sents = tokenize.sent_tokenize(speech)\n",
    "        if(len(sents) == 0):\n",
    "            continue\n",
    "        sequences = tokenizer.texts_to_sequences(sents)\n",
    "        \n",
    "        #print(len(sequences))\n",
    "        #print('Found %s unique tokens.' % len(word_index))\n",
    "        data = pad_sequences(sequences, maxlen=MAX_SEQUENCE_LENGTH)\n",
    "        text_encoded[enu] = (pad_dense_list(data, 100))\n",
    "    return word_index, text_encoded\n",
    "word_index, text_encoded = preprocess_text(texts)\n"
   ]
  },
  {
   "cell_type": "code",
   "execution_count": 381,
   "metadata": {
    "collapsed": false
   },
   "outputs": [
    {
     "name": "stdout",
     "output_type": "stream",
     "text": [
      "(862, 100, 100)\n"
     ]
    }
   ],
   "source": [
    "# First Speech encoding\n",
    "data = text_encoded\n",
    "labels = np.asarray(labels)\n",
    "print(data.shape)"
   ]
  },
  {
   "cell_type": "code",
   "execution_count": 382,
   "metadata": {
    "collapsed": true
   },
   "outputs": [],
   "source": [
    "new_data = data\n",
    "\n",
    "data = data.reshape(data.shape[0], data.shape[1]*data.shape[1])\n"
   ]
  },
  {
   "cell_type": "code",
   "execution_count": 18,
   "metadata": {
    "collapsed": false
   },
   "outputs": [],
   "source": [
    "\n",
    "data = np.zeros((800, 100))\n",
    "labels = np.zeros(800)"
   ]
  },
  {
   "cell_type": "code",
   "execution_count": 19,
   "metadata": {
    "collapsed": false
   },
   "outputs": [
    {
     "name": "stdout",
     "output_type": "stream",
     "text": [
      "Shape of data tensor: (800, 100)\n",
      "Shape of label tensor: (800,)\n"
     ]
    }
   ],
   "source": [
    "print('Shape of data tensor:', data.shape)\n",
    "print('Shape of label tensor:', labels.shape)\n",
    "# split the data into a training set and a validation set\n",
    "indices = np.arange(data.shape[0])\n",
    "np.random.shuffle(indices)\n",
    "data = data[indices]\n",
    "# labels = labels[indices]\n",
    "VALIDATION_SPLIT = 0.2\n",
    "nb_validation_samples = int(VALIDATION_SPLIT * data.shape[0])\n",
    "x_train = data[:-nb_validation_samples]\n",
    "y_train = labels[:-nb_validation_samples]\n",
    "x_val = data[-nb_validation_samples:]\n",
    "y_val = labels[-nb_validation_samples:]"
   ]
  },
  {
   "cell_type": "code",
   "execution_count": null,
   "metadata": {
    "collapsed": false
   },
   "outputs": [],
   "source": []
  },
  {
   "cell_type": "code",
   "execution_count": 20,
   "metadata": {
    "collapsed": false
   },
   "outputs": [
    {
     "name": "stdout",
     "output_type": "stream",
     "text": [
      "Found 400000 word vectors.\n"
     ]
    }
   ],
   "source": [
    "embeddings_index = {}\n",
    "GLOVE_DIR = '../glove.6B/'\n",
    "f = open(os.path.join(GLOVE_DIR, 'glove.6B.100d.txt'))\n",
    "for line in f:\n",
    "    values = line.split()\n",
    "    word = values[0]\n",
    "    coefs = np.asarray(values[1:], dtype='float32')\n",
    "    embeddings_index[word] = coefs\n",
    "f.close()\n",
    "\n",
    "print('Found %s word vectors.' % len(embeddings_index))"
   ]
  },
  {
   "cell_type": "code",
   "execution_count": 8,
   "metadata": {
    "collapsed": true
   },
   "outputs": [],
   "source": [
    "EMBEDDING_DIM = 100"
   ]
  },
  {
   "cell_type": "code",
   "execution_count": null,
   "metadata": {
    "collapsed": true
   },
   "outputs": [],
   "source": []
  },
  {
   "cell_type": "code",
   "execution_count": 21,
   "metadata": {
    "collapsed": false
   },
   "outputs": [],
   "source": [
    "embedding_matrix = np.zeros((len(word_index) + 1, EMBEDDING_DIM))\n",
    "for word, i in word_index.items():\n",
    "    embedding_vector = embeddings_index.get(word)\n",
    "    if embedding_vector is not None:\n",
    "        # words not found in embedding index will be all-zeros.\n",
    "        embedding_matrix[i] = embedding_vector"
   ]
  },
  {
   "cell_type": "code",
   "execution_count": 22,
   "metadata": {
    "collapsed": false
   },
   "outputs": [
    {
     "name": "stdout",
     "output_type": "stream",
     "text": [
      "800\n"
     ]
    }
   ],
   "source": [
    "print(len(data))"
   ]
  },
  {
   "cell_type": "code",
   "execution_count": null,
   "metadata": {
    "collapsed": true
   },
   "outputs": [],
   "source": []
  },
  {
   "cell_type": "code",
   "execution_count": 23,
   "metadata": {
    "collapsed": false
   },
   "outputs": [
    {
     "name": "stdout",
     "output_type": "stream",
     "text": [
      "(800, 100)\n"
     ]
    }
   ],
   "source": [
    "print(data.shape)"
   ]
  },
  {
   "cell_type": "code",
   "execution_count": 24,
   "metadata": {
    "collapsed": true
   },
   "outputs": [],
   "source": [
    "from keras.layers import Embedding\n",
    "\n",
    "embedding_layer = Embedding(len(word_index) + 1,\n",
    "                            EMBEDDING_DIM,\n",
    "                            weights=[embedding_matrix],\n",
    "                            input_length=len(data),\n",
    "                            trainable=False)"
   ]
  },
  {
   "cell_type": "code",
   "execution_count": 399,
   "metadata": {
    "collapsed": true
   },
   "outputs": [],
   "source": [
    "y_train = y_train.reshape((-1, 1))"
   ]
  },
  {
   "cell_type": "code",
   "execution_count": 402,
   "metadata": {
    "collapsed": false
   },
   "outputs": [
    {
     "name": "stdout",
     "output_type": "stream",
     "text": [
      "604\n"
     ]
    }
   ],
   "source": [
    "print(len(x_train))"
   ]
  },
  {
   "cell_type": "code",
   "execution_count": null,
   "metadata": {
    "collapsed": true
   },
   "outputs": [],
   "source": [
    "\n"
   ]
  },
  {
   "cell_type": "code",
   "execution_count": null,
   "metadata": {
    "collapsed": false
   },
   "outputs": [],
   "source": [
    "sequence_input = Input(shape=(data.shape[1],), dtype='int32')\n",
    "embedded_sequences = embedding_layer(sequence_input)\n",
    "x = LSTM(8620)(embedded_sequences)\n",
    "preds = Dense(7, activation='sigmoid')(x)\n",
    "model = Model(sequence_input, preds)\n",
    "model.compile(loss='sparse_categorical_crossentropy',\n",
    "              optimizer='rmsprop',\n",
    "              metrics=['acc'])\n",
    "\n",
    "# happy learning!\n",
    "model.fit(x_train, y_train, validation_data=(x_val, y_val),\n",
    "          nb_epoch=2, batch_size=1)\n"
   ]
  },
  {
   "cell_type": "code",
   "execution_count": 321,
   "metadata": {
    "collapsed": false
   },
   "outputs": [],
   "source": [
    "# Experiment with sequence classification \n",
    "from keras.datasets import imdb\n",
    "from keras.models import Sequential\n",
    "from keras.layers import Dense\n",
    "from keras.layers import LSTM\n",
    "from keras.layers.embeddings import Embedding\n",
    "from keras.preprocessing import sequence\n",
    "# fix random seed for reproducibility\n",
    "np.random.seed(7)"
   ]
  },
  {
   "cell_type": "code",
   "execution_count": 329,
   "metadata": {
    "collapsed": false
   },
   "outputs": [],
   "source": [
    "top_words = 5000\n",
    "(X_train, y_train), (X_test, y_test) = imdb.load_data(nb_words=top_words)"
   ]
  },
  {
   "cell_type": "code",
   "execution_count": 330,
   "metadata": {
    "collapsed": true
   },
   "outputs": [],
   "source": [
    "(X_train_imdb, y_train_imdb), (X_test_imdb, y_test_imdb)  = (X_train, y_train), (X_test, y_test) "
   ]
  },
  {
   "cell_type": "code",
   "execution_count": 339,
   "metadata": {
    "collapsed": false
   },
   "outputs": [
    {
     "name": "stdout",
     "output_type": "stream",
     "text": [
      "0\n"
     ]
    }
   ],
   "source": [
    "print(y_train_imdb[2])"
   ]
  },
  {
   "cell_type": "code",
   "execution_count": 323,
   "metadata": {
    "collapsed": true
   },
   "outputs": [],
   "source": [
    "max_review_length = 500\n",
    "X_train = sequence.pad_sequences(X_train, maxlen=max_review_length)\n",
    "X_test = sequence.pad_sequences(X_test, maxlen=max_review_length)"
   ]
  },
  {
   "cell_type": "code",
   "execution_count": 325,
   "metadata": {
    "collapsed": false
   },
   "outputs": [
    {
     "name": "stdout",
     "output_type": "stream",
     "text": [
      "[   0    0    0    0    0    0    0    0    0    0    0    0    0    0    0\n",
      "    0    0    0    0    0    0    0    0    0    0    0    0    0    0    0\n",
      "    0    0    0    0    0    0    0    0    0    0    0    0    0    0    0\n",
      "    0    0    0    0    0    0    0    0    0    0    0    0    0    0    0\n",
      "    0    0    0    0    0    0    0    0    0    0    0    0    0    0    0\n",
      "    0    0    0    0    0    0    0    0    0    0    0    0    0    0    0\n",
      "    0    0    0    0    0    0    0    0    0    0    0    0    0    0    0\n",
      "    0    0    0    0    0    0    0    0    0    0    0    0    0    0    0\n",
      "    0    0    0    0    0    0    0    0    0    0    0    0    0    0    0\n",
      "    0    0    0    0    0    0    0    0    0    0    0    0    0    0    0\n",
      "    0    0    0    0    0    0    0    0    0    0    0    0    0    0    0\n",
      "    0    0    0    0    0    0    0    0    0    0    0    0    0    0    0\n",
      "    0    0    0    0    0    0    0    0    0    0    0    0    0    0    0\n",
      "    0    0    0    0    0    0    0    0    0    0    0    0    0    0    0\n",
      "    0    0    0    0    0    0    0    0    0    0    0    0    0    0    0\n",
      "    0    0    0    0    0    0    0    0    0    0    0    0    0    0    0\n",
      "    0    0    0    0    0    0    0    0    0    0    0    0    0    0    0\n",
      "    0    0    0    0    0    0    0    0    0    0    0    0    0    0    0\n",
      "    0    0    0    0    0    0    0    0    0    0    0    0    1   14   22\n",
      "   16   43  530  973 1622 1385   65  458 4468   66 3941    4  173   36  256\n",
      "    5   25  100   43  838  112   50  670    2    9   35  480  284    5  150\n",
      "    4  172  112  167    2  336  385   39    4  172 4536 1111   17  546   38\n",
      "   13  447    4  192   50   16    6  147 2025   19   14   22    4 1920 4613\n",
      "  469    4   22   71   87   12   16   43  530   38   76   15   13 1247    4\n",
      "   22   17  515   17   12   16  626   18    2    5   62  386   12    8  316\n",
      "    8  106    5    4 2223    2   16  480   66 3785   33    4  130   12   16\n",
      "   38  619    5   25  124   51   36  135   48   25 1415   33    6   22   12\n",
      "  215   28   77   52    5   14  407   16   82    2    8    4  107  117    2\n",
      "   15  256    4    2    7 3766    5  723   36   71   43  530  476   26  400\n",
      "  317   46    7    4    2 1029   13  104   88    4  381   15  297   98   32\n",
      " 2071   56   26  141    6  194    2   18    4  226   22   21  134  476   26\n",
      "  480    5  144   30    2   18   51   36   28  224   92   25  104    4  226\n",
      "   65   16   38 1334   88   12   16  283    5   16 4472  113  103   32   15\n",
      "   16    2   19  178   32]\n"
     ]
    }
   ],
   "source": [
    "print(X_train[0])"
   ]
  },
  {
   "cell_type": "code",
   "execution_count": null,
   "metadata": {
    "collapsed": true
   },
   "outputs": [],
   "source": [
    "embedding_vecor_length = 32\n",
    "model = Sequential()\n",
    "model.add(Embedding(top_words, embedding_vecor_length, input_length=max_review_length))\n",
    "model.add(LSTM(100))\n",
    "model.add(Dense(1, activation='sigmoid'))\n",
    "model.compile(loss='binary_crossentropy', optimizer='adam', metrics=['accuracy'])\n",
    "print(model.summary())\n",
    "model.fit(X_train, y_train, validation_data=(X_test, y_test), nb_epoch=3, batch_size=64)"
   ]
  }
 ],
 "metadata": {
  "anaconda-cloud": {},
  "kernelspec": {
   "display_name": "Python [conda env:tensorflow]",
   "language": "python",
   "name": "conda-env-tensorflow-py"
  },
  "language_info": {
   "codemirror_mode": {
    "name": "ipython",
    "version": 3
   },
   "file_extension": ".py",
   "mimetype": "text/x-python",
   "name": "python",
   "nbconvert_exporter": "python",
   "pygments_lexer": "ipython3",
   "version": "3.5.2"
  }
 },
 "nbformat": 4,
 "nbformat_minor": 0
}
