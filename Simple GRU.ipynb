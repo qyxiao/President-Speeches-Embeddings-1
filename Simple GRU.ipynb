{
 "cells": [
  {
   "cell_type": "code",
   "execution_count": 3,
   "metadata": {
    "collapsed": false
   },
   "outputs": [],
   "source": [
    "import numpy as np\n",
    "from keras.models import Sequential\n",
    "from keras.layers.core import Activation, Dense, Dropout \n",
    "from keras.layers.embeddings import Embedding\n",
    "from keras.layers.recurrent import LSTM, GRU\n",
    "from keras.callbacks import EarlyStopping, ModelCheckpoint \n",
    "from keras.preprocessing import sequence\n",
    "from keras.utils import np_utils\n",
    "import pickle\n",
    "import pandas as pd"
   ]
  },
  {
   "cell_type": "code",
   "execution_count": 6,
   "metadata": {
    "collapsed": true
   },
   "outputs": [],
   "source": [
    "from keras.optimizers import RMSprop, SGD, Adam\n",
    "from keras.layers.wrappers import TimeDistributed, Bidirectional"
   ]
  },
  {
   "cell_type": "code",
   "execution_count": 7,
   "metadata": {
    "collapsed": false
   },
   "outputs": [
    {
     "name": "stdout",
     "output_type": "stream",
     "text": [
      "/Users/shivamverma/Desktop/NYU/projects/snlp-proj/repos/President-Speeches-Embeddings\r\n"
     ]
    }
   ],
   "source": [
    "!pwd"
   ]
  },
  {
   "cell_type": "code",
   "execution_count": 48,
   "metadata": {
    "collapsed": false,
    "scrolled": false
   },
   "outputs": [],
   "source": [
    "# Load president embeddings\n",
    "#president_embed = pickle.load(open('president_embeddings400.p', 'rb'))\n",
    "df1 = pd.read_csv('president_scraper/folders_to_presidents.csv')\n",
    "df2 = pd.read_csv('president_scraper/presidents_with_labels.csv')"
   ]
  },
  {
   "cell_type": "code",
   "execution_count": 49,
   "metadata": {
    "collapsed": false
   },
   "outputs": [
    {
     "name": "stdout",
     "output_type": "stream",
     "text": [
      "['foldername', 'idno_name']\n",
      "['Unnamed: 0', 'idno_name', 'dwnom1']\n"
     ]
    }
   ],
   "source": [
    "\n",
    "print(df1.columns.values.tolist())\n",
    "print(df2.columns.values.tolist())\n",
    "df_merged = pd.merge(df1, df2, left_on=['idno_name'],\n",
    "              right_on=['idno_name'],\n",
    "              how='inner')"
   ]
  },
  {
   "cell_type": "code",
   "execution_count": 50,
   "metadata": {
    "collapsed": false
   },
   "outputs": [
    {
     "name": "stdout",
     "output_type": "stream",
     "text": [
      "     foldername             idno_name  Unnamed: 0  dwnom1\n",
      "0       madison  99872_ MADISON                 1  0.0800\n",
      "1          taft  99894_ TAFT                   17  0.2300\n",
      "2       clinton  99909_ CLINTON                31 -0.4800\n",
      "3        carter  99906_ CARTER                 28 -0.7290\n",
      "4      buchanan  99883_ BUCHANAN                9 -0.6310\n",
      "5        reagan  99907_ REAGAN                 29  0.7380\n",
      "6   fdroosevelt  99899_ ROOSEVELT F            21 -0.2468\n",
      "7     cleveland  99890_ CLEVELAND              13 -0.3730\n",
      "8        truman  99900_ TRUMAN                 22 -0.2760\n",
      "9          polk  99879_ POLK                    7 -0.6650\n",
      "10       monroe  99873_ MONROE                  2  0.1490\n",
      "11       wilson  99895_ WILSON                 18 -0.4020\n",
      "12      jackson  99875_ JACKSON                 4 -0.2150\n",
      "13       gwbush  99910_ BUSH                   32  0.9810\n",
      "14        grant  99886_ GRANT                  11  0.1630\n",
      "15    bharrison  99891_ HARRISON B             14  0.2360\n",
      "16         bush  99908_ BUSH                   30  0.6490\n",
      "17    jefferson  99871_ JEFFERSON               0  0.0210\n",
      "18     vanburen  99876_ VAN BUREN               5  0.0480\n",
      "19     mckinley  99892_ MCKINLEY               15  0.2230\n",
      "20      harding  99896_ HARDING                19  0.4610\n",
      "21       pierce  99882_ PIERCE                  8  0.2180\n",
      "22         ford  99905_ FORD                   27  0.4860\n",
      "23        tyler  99878_ TYLER                   6  0.2250\n",
      "24    lbjohnson  99903_ JOHNSON                25 -0.5210\n",
      "25     coolidge  99897_ COOLIDGE               20  0.3700\n",
      "26   eisenhower  99901_ EISENHOWER             23  0.1270\n",
      "27      jqadams  99874_ ADAMS J Q               3  0.3770\n",
      "28        obama  99911_ OBAMA                  33 -0.3780\n",
      "29      lincoln  99884_ LINCOLN                10  0.3750\n",
      "30      kennedy  99902_ KENNEDY                24 -0.6300\n",
      "31    roosevelt  99893_ ROOSEVELT              16  0.4280\n",
      "32       arthur  99889_ ARTHUR                 12  0.0940\n",
      "33        nixon  99904_ NIXON                  26  0.4610\n"
     ]
    }
   ],
   "source": [
    "print(df_merged)"
   ]
  },
  {
   "cell_type": "code",
   "execution_count": 51,
   "metadata": {
    "collapsed": false
   },
   "outputs": [],
   "source": [
    "y_labels = {}\n",
    "\n",
    "for i, row in df_merged.iterrows():\n",
    "    y_labels[row['foldername']]  = row['dwnom1']\n",
    "X = np.zeros((len(y_labels), 400))\n",
    "y = np.zeros(len(y_labels))\n",
    "i = 0\n",
    "for key in y_labels: \n",
    "    X[i] = president_embed[key]\n",
    "    y[i] = y_labels[key]\n",
    "    i = i + 1\n"
   ]
  },
  {
   "cell_type": "code",
   "execution_count": 52,
   "metadata": {
    "collapsed": false
   },
   "outputs": [],
   "source": [
    "\n",
    "from sklearn.cross_validation import train_test_split\n",
    "X_train, X_test, y_train, y_test = train_test_split(X, y, test_size=0.1)"
   ]
  },
  {
   "cell_type": "code",
   "execution_count": 62,
   "metadata": {
    "collapsed": false
   },
   "outputs": [
    {
     "name": "stdout",
     "output_type": "stream",
     "text": [
      "Train on 24 samples, validate on 6 samples\n",
      "Epoch 1/100\n",
      "24/24 [==============================] - 0s - loss: 0.1686 - acc: 0.0000e+00 - val_loss: 0.2740 - val_acc: 0.0000e+00\n",
      "Epoch 2/100\n",
      "24/24 [==============================] - 0s - loss: 0.1676 - acc: 0.0000e+00 - val_loss: 0.2774 - val_acc: 0.0000e+00\n",
      "Epoch 3/100\n",
      "24/24 [==============================] - 0s - loss: 0.1673 - acc: 0.0000e+00 - val_loss: 0.2805 - val_acc: 0.0000e+00\n",
      "Epoch 4/100\n",
      "24/24 [==============================] - 0s - loss: 0.1669 - acc: 0.0000e+00 - val_loss: 0.2835 - val_acc: 0.0000e+00\n",
      "Epoch 5/100\n",
      "24/24 [==============================] - 0s - loss: 0.1673 - acc: 0.0000e+00 - val_loss: 0.2862 - val_acc: 0.0000e+00\n",
      "Epoch 6/100\n",
      "24/24 [==============================] - 0s - loss: 0.1671 - acc: 0.0000e+00 - val_loss: 0.2888 - val_acc: 0.0000e+00\n",
      "Epoch 7/100\n",
      "24/24 [==============================] - 0s - loss: 0.1665 - acc: 0.0000e+00 - val_loss: 0.2912 - val_acc: 0.0000e+00\n",
      "Epoch 8/100\n",
      "24/24 [==============================] - 0s - loss: 0.1664 - acc: 0.0000e+00 - val_loss: 0.2933 - val_acc: 0.0000e+00\n",
      "Epoch 9/100\n",
      "24/24 [==============================] - 0s - loss: 0.1664 - acc: 0.0000e+00 - val_loss: 0.2950 - val_acc: 0.0000e+00\n",
      "Epoch 10/100\n",
      "24/24 [==============================] - 0s - loss: 0.1660 - acc: 0.0000e+00 - val_loss: 0.2966 - val_acc: 0.0000e+00\n",
      "Epoch 11/100\n",
      "24/24 [==============================] - 0s - loss: 0.1658 - acc: 0.0000e+00 - val_loss: 0.2982 - val_acc: 0.0000e+00\n",
      "Epoch 12/100\n",
      "24/24 [==============================] - 0s - loss: 0.1657 - acc: 0.0000e+00 - val_loss: 0.2998 - val_acc: 0.0000e+00\n",
      "Epoch 13/100\n",
      "24/24 [==============================] - 0s - loss: 0.1662 - acc: 0.0000e+00 - val_loss: 0.3012 - val_acc: 0.0000e+00\n",
      "Epoch 14/100\n",
      "24/24 [==============================] - 0s - loss: 0.1662 - acc: 0.0000e+00 - val_loss: 0.3023 - val_acc: 0.0000e+00\n",
      "Epoch 15/100\n",
      "24/24 [==============================] - 0s - loss: 0.1660 - acc: 0.0000e+00 - val_loss: 0.3037 - val_acc: 0.0000e+00\n",
      "Epoch 16/100\n",
      "24/24 [==============================] - 0s - loss: 0.1659 - acc: 0.0000e+00 - val_loss: 0.3050 - val_acc: 0.0000e+00\n",
      "Epoch 17/100\n",
      "24/24 [==============================] - 0s - loss: 0.1657 - acc: 0.0000e+00 - val_loss: 0.3060 - val_acc: 0.0000e+00\n",
      "Epoch 18/100\n",
      "24/24 [==============================] - 0s - loss: 0.1658 - acc: 0.0000e+00 - val_loss: 0.3067 - val_acc: 0.0000e+00\n",
      "Epoch 19/100\n",
      "24/24 [==============================] - 0s - loss: 0.1657 - acc: 0.0000e+00 - val_loss: 0.3077 - val_acc: 0.0000e+00\n",
      "Epoch 20/100\n",
      "24/24 [==============================] - 0s - loss: 0.1657 - acc: 0.0000e+00 - val_loss: 0.3083 - val_acc: 0.0000e+00\n",
      "Epoch 21/100\n",
      "24/24 [==============================] - 0s - loss: 0.1656 - acc: 0.0000e+00 - val_loss: 0.3090 - val_acc: 0.0000e+00\n",
      "Epoch 22/100\n",
      "24/24 [==============================] - 0s - loss: 0.1659 - acc: 0.0000e+00 - val_loss: 0.3096 - val_acc: 0.0000e+00\n",
      "Epoch 23/100\n",
      "24/24 [==============================] - 0s - loss: 0.1654 - acc: 0.0000e+00 - val_loss: 0.3103 - val_acc: 0.0000e+00\n",
      "Epoch 24/100\n",
      "24/24 [==============================] - 0s - loss: 0.1662 - acc: 0.0000e+00 - val_loss: 0.3104 - val_acc: 0.0000e+00\n",
      "Epoch 25/100\n",
      "24/24 [==============================] - 0s - loss: 0.1654 - acc: 0.0000e+00 - val_loss: 0.3110 - val_acc: 0.0000e+00\n",
      "Epoch 26/100\n",
      "24/24 [==============================] - 0s - loss: 0.1657 - acc: 0.0000e+00 - val_loss: 0.3116 - val_acc: 0.0000e+00\n",
      "Epoch 27/100\n",
      "24/24 [==============================] - 0s - loss: 0.1661 - acc: 0.0000e+00 - val_loss: 0.3123 - val_acc: 0.0000e+00\n",
      "Epoch 28/100\n",
      "24/24 [==============================] - 0s - loss: 0.1657 - acc: 0.0000e+00 - val_loss: 0.3125 - val_acc: 0.0000e+00\n",
      "Epoch 29/100\n",
      "24/24 [==============================] - 0s - loss: 0.1657 - acc: 0.0000e+00 - val_loss: 0.3129 - val_acc: 0.0000e+00\n",
      "Epoch 30/100\n",
      "24/24 [==============================] - 0s - loss: 0.1660 - acc: 0.0000e+00 - val_loss: 0.3134 - val_acc: 0.0000e+00\n",
      "Epoch 31/100\n",
      "24/24 [==============================] - 0s - loss: 0.1652 - acc: 0.0000e+00 - val_loss: 0.3135 - val_acc: 0.0000e+00\n",
      "Epoch 32/100\n",
      "24/24 [==============================] - 0s - loss: 0.1658 - acc: 0.0000e+00 - val_loss: 0.3137 - val_acc: 0.0000e+00\n",
      "Epoch 33/100\n",
      "24/24 [==============================] - 0s - loss: 0.1657 - acc: 0.0000e+00 - val_loss: 0.3141 - val_acc: 0.0000e+00\n",
      "Epoch 34/100\n",
      "24/24 [==============================] - 0s - loss: 0.1659 - acc: 0.0000e+00 - val_loss: 0.3146 - val_acc: 0.0000e+00\n",
      "Epoch 35/100\n",
      "24/24 [==============================] - 0s - loss: 0.1655 - acc: 0.0000e+00 - val_loss: 0.3149 - val_acc: 0.0000e+00\n",
      "Epoch 36/100\n",
      "24/24 [==============================] - 0s - loss: 0.1652 - acc: 0.0000e+00 - val_loss: 0.3150 - val_acc: 0.0000e+00\n",
      "Epoch 37/100\n",
      "24/24 [==============================] - 0s - loss: 0.1656 - acc: 0.0000e+00 - val_loss: 0.3150 - val_acc: 0.0000e+00\n",
      "Epoch 38/100\n",
      "24/24 [==============================] - 0s - loss: 0.1653 - acc: 0.0000e+00 - val_loss: 0.3150 - val_acc: 0.0000e+00\n",
      "Epoch 39/100\n",
      "24/24 [==============================] - 0s - loss: 0.1652 - acc: 0.0000e+00 - val_loss: 0.3152 - val_acc: 0.0000e+00\n",
      "Epoch 40/100\n",
      "24/24 [==============================] - 0s - loss: 0.1654 - acc: 0.0000e+00 - val_loss: 0.3155 - val_acc: 0.0000e+00\n",
      "Epoch 41/100\n",
      "24/24 [==============================] - 0s - loss: 0.1655 - acc: 0.0000e+00 - val_loss: 0.3154 - val_acc: 0.0000e+00\n",
      "Epoch 42/100\n",
      "24/24 [==============================] - 0s - loss: 0.1653 - acc: 0.0000e+00 - val_loss: 0.3157 - val_acc: 0.0000e+00\n",
      "Epoch 43/100\n",
      "24/24 [==============================] - 0s - loss: 0.1652 - acc: 0.0000e+00 - val_loss: 0.3157 - val_acc: 0.0000e+00\n",
      "Epoch 44/100\n",
      "24/24 [==============================] - 0s - loss: 0.1656 - acc: 0.0000e+00 - val_loss: 0.3161 - val_acc: 0.0000e+00\n",
      "Epoch 45/100\n",
      "24/24 [==============================] - 0s - loss: 0.1654 - acc: 0.0000e+00 - val_loss: 0.3161 - val_acc: 0.0000e+00\n",
      "Epoch 46/100\n",
      "24/24 [==============================] - 0s - loss: 0.1654 - acc: 0.0000e+00 - val_loss: 0.3159 - val_acc: 0.0000e+00\n",
      "Epoch 47/100\n",
      "24/24 [==============================] - 0s - loss: 0.1654 - acc: 0.0000e+00 - val_loss: 0.3161 - val_acc: 0.0000e+00\n",
      "Epoch 48/100\n",
      "24/24 [==============================] - 0s - loss: 0.1652 - acc: 0.0000e+00 - val_loss: 0.3162 - val_acc: 0.0000e+00\n",
      "Epoch 49/100\n",
      "24/24 [==============================] - 0s - loss: 0.1657 - acc: 0.0000e+00 - val_loss: 0.3159 - val_acc: 0.0000e+00\n",
      "Epoch 50/100\n",
      "24/24 [==============================] - 0s - loss: 0.1657 - acc: 0.0000e+00 - val_loss: 0.3157 - val_acc: 0.0000e+00\n",
      "Epoch 51/100\n",
      "24/24 [==============================] - 0s - loss: 0.1658 - acc: 0.0000e+00 - val_loss: 0.3155 - val_acc: 0.0000e+00\n",
      "Epoch 52/100\n",
      "24/24 [==============================] - 0s - loss: 0.1664 - acc: 0.0000e+00 - val_loss: 0.3156 - val_acc: 0.0000e+00\n",
      "Epoch 53/100\n",
      "24/24 [==============================] - 0s - loss: 0.1653 - acc: 0.0000e+00 - val_loss: 0.3157 - val_acc: 0.0000e+00\n",
      "Epoch 54/100\n",
      "24/24 [==============================] - 0s - loss: 0.1656 - acc: 0.0000e+00 - val_loss: 0.3159 - val_acc: 0.0000e+00\n",
      "Epoch 55/100\n",
      "24/24 [==============================] - 0s - loss: 0.1651 - acc: 0.0000e+00 - val_loss: 0.3160 - val_acc: 0.0000e+00\n",
      "Epoch 56/100\n",
      "24/24 [==============================] - 0s - loss: 0.1661 - acc: 0.0000e+00 - val_loss: 0.3160 - val_acc: 0.0000e+00\n",
      "Epoch 57/100\n",
      "24/24 [==============================] - 0s - loss: 0.1654 - acc: 0.0000e+00 - val_loss: 0.3160 - val_acc: 0.0000e+00\n",
      "Epoch 58/100\n",
      "24/24 [==============================] - 0s - loss: 0.1653 - acc: 0.0000e+00 - val_loss: 0.3158 - val_acc: 0.0000e+00\n",
      "Epoch 59/100\n",
      "24/24 [==============================] - 0s - loss: 0.1653 - acc: 0.0000e+00 - val_loss: 0.3158 - val_acc: 0.0000e+00\n",
      "Epoch 60/100\n",
      "24/24 [==============================] - 0s - loss: 0.1653 - acc: 0.0000e+00 - val_loss: 0.3157 - val_acc: 0.0000e+00\n",
      "Epoch 61/100\n",
      "24/24 [==============================] - 0s - loss: 0.1658 - acc: 0.0000e+00 - val_loss: 0.3156 - val_acc: 0.0000e+00\n",
      "Epoch 62/100\n",
      "24/24 [==============================] - 0s - loss: 0.1654 - acc: 0.0000e+00 - val_loss: 0.3157 - val_acc: 0.0000e+00\n",
      "Epoch 63/100\n",
      "24/24 [==============================] - 0s - loss: 0.1657 - acc: 0.0000e+00 - val_loss: 0.3158 - val_acc: 0.0000e+00\n",
      "Epoch 64/100\n",
      "24/24 [==============================] - 0s - loss: 0.1652 - acc: 0.0000e+00 - val_loss: 0.3161 - val_acc: 0.0000e+00\n",
      "Epoch 65/100\n",
      "24/24 [==============================] - 0s - loss: 0.1655 - acc: 0.0000e+00 - val_loss: 0.3162 - val_acc: 0.0000e+00\n",
      "Epoch 66/100\n",
      "24/24 [==============================] - 0s - loss: 0.1655 - acc: 0.0000e+00 - val_loss: 0.3162 - val_acc: 0.0000e+00\n",
      "Epoch 67/100\n",
      "24/24 [==============================] - 0s - loss: 0.1652 - acc: 0.0000e+00 - val_loss: 0.3164 - val_acc: 0.0000e+00\n",
      "Epoch 68/100\n",
      "24/24 [==============================] - 0s - loss: 0.1655 - acc: 0.0000e+00 - val_loss: 0.3166 - val_acc: 0.0000e+00\n",
      "Epoch 69/100\n",
      "24/24 [==============================] - 0s - loss: 0.1653 - acc: 0.0000e+00 - val_loss: 0.3168 - val_acc: 0.0000e+00\n",
      "Epoch 70/100\n",
      "24/24 [==============================] - 0s - loss: 0.1654 - acc: 0.0000e+00 - val_loss: 0.3170 - val_acc: 0.0000e+00\n",
      "Epoch 71/100\n",
      "24/24 [==============================] - 0s - loss: 0.1652 - acc: 0.0000e+00 - val_loss: 0.3171 - val_acc: 0.0000e+00\n",
      "Epoch 72/100\n",
      "24/24 [==============================] - 0s - loss: 0.1651 - acc: 0.0000e+00 - val_loss: 0.3171 - val_acc: 0.0000e+00\n",
      "Epoch 73/100\n",
      "24/24 [==============================] - 0s - loss: 0.1666 - acc: 0.0000e+00 - val_loss: 0.3168 - val_acc: 0.0000e+00\n",
      "Epoch 74/100\n",
      "24/24 [==============================] - 0s - loss: 0.1651 - acc: 0.0000e+00 - val_loss: 0.3170 - val_acc: 0.0000e+00\n",
      "Epoch 75/100\n",
      "24/24 [==============================] - 0s - loss: 0.1658 - acc: 0.0000e+00 - val_loss: 0.3169 - val_acc: 0.0000e+00\n",
      "Epoch 76/100\n",
      "24/24 [==============================] - 0s - loss: 0.1655 - acc: 0.0000e+00 - val_loss: 0.3169 - val_acc: 0.0000e+00\n",
      "Epoch 77/100\n",
      "24/24 [==============================] - 0s - loss: 0.1650 - acc: 0.0000e+00 - val_loss: 0.3169 - val_acc: 0.0000e+00\n",
      "Epoch 78/100\n",
      "24/24 [==============================] - 0s - loss: 0.1653 - acc: 0.0000e+00 - val_loss: 0.3172 - val_acc: 0.0000e+00\n",
      "Epoch 79/100\n",
      "24/24 [==============================] - 0s - loss: 0.1664 - acc: 0.0000e+00 - val_loss: 0.3177 - val_acc: 0.0000e+00\n",
      "Epoch 80/100\n",
      "24/24 [==============================] - 0s - loss: 0.1654 - acc: 0.0000e+00 - val_loss: 0.3179 - val_acc: 0.0000e+00\n",
      "Epoch 81/100\n",
      "24/24 [==============================] - 0s - loss: 0.1657 - acc: 0.0000e+00 - val_loss: 0.3177 - val_acc: 0.0000e+00\n",
      "Epoch 82/100\n",
      "24/24 [==============================] - 0s - loss: 0.1658 - acc: 0.0000e+00 - val_loss: 0.3178 - val_acc: 0.0000e+00\n",
      "Epoch 83/100\n",
      "24/24 [==============================] - 0s - loss: 0.1650 - acc: 0.0000e+00 - val_loss: 0.3179 - val_acc: 0.0000e+00\n",
      "Epoch 84/100\n",
      "24/24 [==============================] - 0s - loss: 0.1658 - acc: 0.0000e+00 - val_loss: 0.3178 - val_acc: 0.0000e+00\n",
      "Epoch 85/100\n",
      "24/24 [==============================] - 0s - loss: 0.1650 - acc: 0.0000e+00 - val_loss: 0.3179 - val_acc: 0.0000e+00\n",
      "Epoch 86/100\n",
      "24/24 [==============================] - 0s - loss: 0.1654 - acc: 0.0000e+00 - val_loss: 0.3180 - val_acc: 0.0000e+00\n",
      "Epoch 87/100\n",
      "24/24 [==============================] - 0s - loss: 0.1651 - acc: 0.0000e+00 - val_loss: 0.3179 - val_acc: 0.0000e+00\n",
      "Epoch 88/100\n",
      "24/24 [==============================] - 0s - loss: 0.1655 - acc: 0.0000e+00 - val_loss: 0.3181 - val_acc: 0.0000e+00\n",
      "Epoch 89/100\n",
      "24/24 [==============================] - 0s - loss: 0.1654 - acc: 0.0000e+00 - val_loss: 0.3183 - val_acc: 0.0000e+00\n",
      "Epoch 90/100\n",
      "24/24 [==============================] - 0s - loss: 0.1650 - acc: 0.0000e+00 - val_loss: 0.3183 - val_acc: 0.0000e+00\n",
      "Epoch 91/100\n",
      "24/24 [==============================] - 0s - loss: 0.1653 - acc: 0.0000e+00 - val_loss: 0.3181 - val_acc: 0.0000e+00\n",
      "Epoch 92/100\n",
      "24/24 [==============================] - 0s - loss: 0.1649 - acc: 0.0000e+00 - val_loss: 0.3183 - val_acc: 0.0000e+00\n",
      "Epoch 93/100\n",
      "24/24 [==============================] - 0s - loss: 0.1652 - acc: 0.0000e+00 - val_loss: 0.3183 - val_acc: 0.0000e+00\n",
      "Epoch 94/100\n",
      "24/24 [==============================] - 0s - loss: 0.1656 - acc: 0.0000e+00 - val_loss: 0.3181 - val_acc: 0.0000e+00\n",
      "Epoch 95/100\n",
      "24/24 [==============================] - 0s - loss: 0.1652 - acc: 0.0000e+00 - val_loss: 0.3183 - val_acc: 0.0000e+00\n",
      "Epoch 96/100\n",
      "24/24 [==============================] - 0s - loss: 0.1652 - acc: 0.0000e+00 - val_loss: 0.3182 - val_acc: 0.0000e+00\n",
      "Epoch 97/100\n",
      "24/24 [==============================] - 0s - loss: 0.1655 - acc: 0.0000e+00 - val_loss: 0.3180 - val_acc: 0.0000e+00\n",
      "Epoch 98/100\n",
      "24/24 [==============================] - 0s - loss: 0.1652 - acc: 0.0000e+00 - val_loss: 0.3178 - val_acc: 0.0000e+00\n",
      "Epoch 99/100\n",
      "24/24 [==============================] - 0s - loss: 0.1651 - acc: 0.0000e+00 - val_loss: 0.3181 - val_acc: 0.0000e+00\n",
      "Epoch 100/100\n",
      "24/24 [==============================] - 0s - loss: 0.1649 - acc: 0.0000e+00 - val_loss: 0.3182 - val_acc: 0.0000e+00\n"
     ]
    },
    {
     "data": {
      "text/plain": [
       "<keras.callbacks.History at 0x11fe9cf10>"
      ]
     },
     "execution_count": 62,
     "metadata": {},
     "output_type": "execute_result"
    }
   ],
   "source": [
    "nb_epoch = 100\n",
    "model = Sequential()\n",
    "model.add(Dense(1, input_dim=400))\n",
    "model.add(Activation('tanh'))\n",
    "model.add(Dense(1))\n",
    "model.compile('sgd', 'mse',metrics=['accuracy'])\n",
    "\n",
    "model.fit(X_train, y_train, batch_size=6,\n",
    "          nb_epoch=nb_epoch,\n",
    "          show_accuracy=True,\n",
    "          verbose=1,\n",
    "          shuffle=True,\n",
    "          validation_split=0.2)\n"
   ]
  },
  {
   "cell_type": "code",
   "execution_count": 63,
   "metadata": {
    "collapsed": false
   },
   "outputs": [
    {
     "name": "stdout",
     "output_type": "stream",
     "text": [
      "(array([[-0.05696959],\n",
      "       [-0.06298725],\n",
      "       [-0.05728463],\n",
      "       [-0.06229704]], dtype=float32), array([ 0.21799999,  0.64899999,  0.23      , -0.52100003]))\n"
     ]
    }
   ],
   "source": [
    "preds = model.predict(X_test, verbose=0)\n",
    "print(preds, y_test)"
   ]
  },
  {
   "cell_type": "code",
   "execution_count": null,
   "metadata": {
    "collapsed": true
   },
   "outputs": [],
   "source": []
  }
 ],
 "metadata": {
  "anaconda-cloud": {},
  "kernelspec": {
   "display_name": "Python 2",
   "language": "python",
   "name": "python2"
  },
  "language_info": {
   "codemirror_mode": {
    "name": "ipython",
    "version": 2
   },
   "file_extension": ".py",
   "mimetype": "text/x-python",
   "name": "python",
   "nbconvert_exporter": "python",
   "pygments_lexer": "ipython2",
   "version": "2.7.9"
  }
 },
 "nbformat": 4,
 "nbformat_minor": 1
}
