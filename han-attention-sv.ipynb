{
 "cells": [
  {
   "cell_type": "code",
   "execution_count": 1,
   "metadata": {
    "collapsed": false
   },
   "outputs": [
    {
     "name": "stdout",
     "output_type": "stream",
     "text": [
      "[nltk_data] Downloading package punkt to\n",
      "[nltk_data]     /Users/shivamverma/nltk_data...\n",
      "[nltk_data]   Package punkt is already up-to-date!\n"
     ]
    },
    {
     "name": "stderr",
     "output_type": "stream",
     "text": [
      "Using TensorFlow backend.\n"
     ]
    }
   ],
   "source": [
    "# from __future__ import print_function\n",
    "import numpy as np\n",
    "from keras.layers import Input, Dense\n",
    "from keras.preprocessing.text import Tokenizer\n",
    "from keras.preprocessing.sequence import pad_sequences\n",
    "from keras.utils.np_utils import to_categorical\n",
    "from keras.layers import Dense, Input, Flatten, LSTM, Reshape, Lambda\n",
    "from keras.layers import Embedding\n",
    "from keras.layers import Conv1D, MaxPooling1D, Embedding\n",
    "from keras.models import Model, Sequential\n",
    "from keras import backend as K\n",
    "from keras.layers  import TimeDistributed, TimeDistributedDense\n",
    "import os, sys, re\n",
    "from nltk import tokenize\n",
    "import nltk\n",
    "nltk.download('punkt')\n",
    "import string \n",
    "import pandas as pd\n",
    "import numpy as np"
   ]
  },
  {
   "cell_type": "code",
   "execution_count": 2,
   "metadata": {
    "collapsed": false
   },
   "outputs": [
    {
     "name": "stdout",
     "output_type": "stream",
     "text": [
      "2.7.9 (v2.7.9:648dcafa7e5f, Dec 10 2014, 10:10:46) \n",
      "[GCC 4.2.1 (Apple Inc. build 5666) (dot 3)]\n"
     ]
    }
   ],
   "source": [
    "import sys\n",
    "print(sys.version)"
   ]
  },
  {
   "cell_type": "code",
   "execution_count": 3,
   "metadata": {
    "collapsed": false
   },
   "outputs": [],
   "source": [
    "from keras.preprocessing.text import Tokenizer\n",
    "from keras.preprocessing.sequence import pad_sequences"
   ]
  },
  {
   "cell_type": "code",
   "execution_count": 4,
   "metadata": {
    "collapsed": true
   },
   "outputs": [],
   "source": [
    "TEXT_DATA_DIR = './speech_data/data/'"
   ]
  },
  {
   "cell_type": "code",
   "execution_count": 5,
   "metadata": {
    "collapsed": false
   },
   "outputs": [],
   "source": [
    "# Load the labels \n",
    "df = pd.read_csv('./speech_data/presidents_meta.csv')\n",
    "label_dict = dict(zip(list(df.foldername), list(df.label)))"
   ]
  },
  {
   "cell_type": "code",
   "execution_count": 9,
   "metadata": {
    "collapsed": false
   },
   "outputs": [
    {
     "name": "stdout",
     "output_type": "stream",
     "text": [
      "Found 862 texts.\n",
      "Found 862 texts.\n"
     ]
    }
   ],
   "source": [
    "texts = []  # list of text samples\n",
    "# labels_index = {}  # dictionary mapping label name to numeric id\n",
    "labels = []  # list of label ids\n",
    "\n",
    "\n",
    "for name in sorted(os.listdir(TEXT_DATA_DIR)):\n",
    "\n",
    "    path = os.path.join(TEXT_DATA_DIR, name)\n",
    "    if os.path.isdir(path):\n",
    "        for fname in sorted(os.listdir(path)):\n",
    "            if 'combined' not in fname and 'combines' not in fname:\n",
    "                president_name = path.split('/')[-1]\n",
    "                fpath = os.path.join(path, fname)\n",
    "                f = open(fpath)\n",
    "                if (president_name in label_dict):\n",
    "                    labels.append(label_dict[president_name])\n",
    "                    line = f.read()\n",
    "                    line = re.sub(r'[^\\x00-\\x7F]+',' ', line).lower().replace(\"\\n\", \"\")\n",
    "                    texts.append(line)\n",
    "                f.close()\n",
    "                \n",
    "\n",
    "print('Found %s texts.' % len(texts))\n",
    "print('Found %s texts.' % len(labels))"
   ]
  },
  {
   "cell_type": "code",
   "execution_count": 93,
   "metadata": {
    "collapsed": false
   },
   "outputs": [
    {
     "data": {
      "text/plain": [
       "'mr. speaker, mr. president, members of the congress:i speak tonight for the dignity of man and the destiny of democracy.i urge every member of both parties, americans of all religions and of all colors, from every section of this country, to join me in that cause.at times history and fate meet at a single time in a single place to shape a turning point in man\\'s unending search for freedom. so it was at lexington and concord. so it was a century ago at appomattox. so it was last week in selma, alabama.there, long-suffering men and women peacefully protested the denial of their rights as americans. many were brutally assaulted. one good man, a man of god, was killed.there is no cause for pride in what has happened in selma. there is no cause for self-satisfaction in the long denial of equal rights of millions of americans. but there is cause for hope and for faith in our democracy in what is happening here tonight.for the cries of pain and the hymns and protests of oppressed people have summoned into convocation all the majesty of this great government the government of the greatest nation on earth.our mission is at once the oldest and the most basic of this country: to right wrong, to do justice, to serve man.in our time we have come to live with moments of great crisis. our lives have been marked with debate about great issues; issues of war and peace, issues of prosperity and depression. but rarely in any time does an issue lay bare the secret heart of america itself. rarely are we met with a challenge, not to our growth or abundance, our welfare or our security, but rather to the values and the purposes and the meaning of our beloved nation.the issue of equal rights for american negroes is such an issue. and should we defeat every enemy, should we double our wealth and conquer the stars, and still be unequal to this issue, then we will have failed as a people and as a nation.for with a country as with a person, \"what is a man profited, if he shall gain the whole world, and lose his own soul ?\"there is no negro problem. there is no southern problem. there is no northern problem. there is only an american problem. and we are met here tonight as americans not as democrats or republicans--we are met here as americans to solve that problem.this was the first nation in the history of the world to be founded with a purpose. the great phrases of that purpose still sound in every american heart, north and south: \"all men are created equal\" \"government by consent of the governed\" \"give me liberty or give me death.\" well, those are not just clever words, or those are not just empty theories. in their name americans have fought and died for two centuries, and tonight around the world they stand there as guardians of our liberty, risking their lives.those words are a promise to every citizen that he shall share in the dignity of man. this dignity cannot be found in a man\\'s possessions; it cannot be found in his power, or in his position. it really rests on his right to be treated as a man equal in opportunity to all others. it says that he shall share in freedom, he shall choose his leaders, educate his children, and provide for his family according to his ability and his merits as a human being.to apply any other test to deny a man his hopes because of his color or race, his religion or the place of his birth is not only to do injustice, it is to deny america and to dishonor the dead who gave their lives for american freedom.our fathers believed that if this noble view of the rights of man was to flourish, it must be rooted in democracy. the most basic right of all was the right to choose your own leaders. the history of this country, in large measure, is the history of the expansion of that right to all of our people.many of the issues of civil rights are very complex and most difficult. but about this there can and should be no argument. every american citizen must have an equal right to vote. there is no reason which can excuse the denial of that right. there is no duty which weighs more heavily on us than the duty we have to ensure that right.yet the harsh fact is that in many places in this country men and women are kept from voting simply because they are negroes.every device of which human ingenuity is capable has been used to deny this right. the negro citizen may go to register only to be told that the day is wrong, or the hour is late, or the official in charge is absent. and if he persists, and if he manages to present himself to the registrar, he may be disqualified because he did not spell out his middle name or because he abbreviated a word on the application.and if he manages to fill out an application he is given a test. the registrar is the sole judge of whether he passes this test. he may be asked to recite the entire constitution, or explain the most complex provisions of state law. and even a college degree cannot be used to prove that he can read and write.for the fact is that the only way to pass these barriers is to show a white skin.experience has clearly shown that the existing process of law cannot overcome systematic and ingenious discrimination. no law that we now have on the books and i have helped to put three of them there can ensure the right to vote when local officials are determined to deny it.in such a case our duty must be clear to all of us. the constitution says that no person shall be kept from voting because of his race or his color. we have all sworn an oath before god to support and to defend that constitution. we must now act in obedience to that oath.wednesday i will send to congress a law designed to eliminate illegal barriers to the right to vote.the broad principles of that bill will be in the hands of the democratic and republican leaders tomorrow. after they have reviewed it, it will come here formally as a bill. i am grateful for this opportunity to come here tonight at the invitation of the leadership to reason with my friends, to give them my views, and to visit with my former colleagues.i have had prepared a more comprehensive analysis of the legislation which i had intended to transmit to the clerk tomorrow but which i will submit to the clerks tonight. but i want to really discuss with you now briefly the main proposals of this legislation.this bill will strike down restrictions to voting in all elections federal, state, and local which have been used to deny negroes the right to vote.this bill will establish a simple, uniform standard which cannot be used, however ingenious the effort, to flout our constitution.it will provide for citizens to be registered by officials of the united states government if the state officials refuse to register them.it will eliminate tedious, unnecessary lawsuits which delay the right to vote.finally, this legislation will ensure that properly registered individuals are not prohibited from voting.i will welcome the suggestions from all of the members of congress i have no doubt that i will get some on ways and means to strengthen this law and to make it effective. but experience has plainly shown that this is the only path to carry out the command of the constitution.to those who seek to avoid action by their national government in their own communities; who want to and who seek to maintain purely local control over elections, the answer is simple:open your polling places to all your people.allow men and women to register and vote whatever the color of their skin.extend the rights of citizenship to every citizen of this land.there is no constitutional issue here. the command of the constitution is plain.there is no moral issue. it is wrong deadly wrong to deny any of your fellow americans the right to vote in this country.there is no issue of states rights or national rights. there is only the struggle for human rights.i have not the slightest doubt what will be your answer.the last time a president sent a civil rights bill to the congress it contained a provision to protect voting rights in federal elections. that civil rights bill was passed after eight long months of debate. and when that bill came to my desk from the congress for my signature, the heart of the voting provision had been eliminated.this time, on this issue, there must be no delay, no hesitation and no compromise with our purpose.we cannot, we must not, refuse to protect the right of every american to vote in every election that he may desire to participate in. and we ought not and we cannot and we must not wait another 8 months before we get a bill. we have already waited a hundred years and more, and the time for waiting is gone.so i ask you to join me in working long hours nights and weekends, if necessary to pass this bill. and i don\\'t make that request lightly. for from the window where i sit with the problems of our country i recognize that outside this chamber is the outraged conscience of a nation, the grave concern of many nations, and the harsh judgment of history on our acts.but even if we pass this bill, the battle will not be over. what happened in selma is part of a far larger movement which reaches into every section and state of america. it is the effort of american negroes to secure for themselves the full blessings of american life.their cause must be our cause too. because it is not just negroes, but really it is all of us, who must overcome the crippling legacy of bigotry and injustice. and we shall overcome.as a man whose roots go deeply into southern soil, i know how agonizing racial feelings are. i know how difficult it is to reshape the attitudes and the structure of our society.but a century has passed, more than a hundred years, since the negro was freed. and he is not fully free tonight.it was more than a hundred years ago that abraham lincoln, a great president of another party, signed the emancipation proclamation, but emancipation is a proclamation and not a fact.a century has passed, more than a hundred years, since equality was promised. and yet the negro is not equal.a century has passed since the day of promise. and the promise is unkept.the time of justice has now come. i tell you that i believe sincerely that no force can hold it back. it is right in the eyes of man and god that it should come. and when it does, i think that day will brighten the lives of every american.for negroes are not the only victims. how many white children have gone uneducated, how many white families have lived in stark poverty, how many white lives have been scarred by fear, because we have wasted our energy and our substance to maintain the barriers of hatred and terror?so i say to all of you here, and to all in the nation tonight, that those who appeal to you to hold on to the past do so at the cost of denying you your future.this great, rich, restless country can offer opportunity and education and hope to all: black and white, north and south, sharecropper and city dweller. these are the enemies: poverty, ignorance, disease. they are the enemies and not our fellow man, not our neighbor. and these enemies too, poverty, disease and ignorance, we shall overcome.now let none of us in any sections look with prideful righteousness on the troubles in another section, or on the problems of our neighbors. there is really no part of america where the promise of equality has been fully kept. in buffalo as well as in birmingham, in philadelphia as well as in selma, americans are struggling for the fruits of freedom.this is one nation. what happens in selma or in cincinnati is a matter of legitimate concern to every american. but let each of us look within our own hearts and our own communities, and let each of us put our shoulder to the wheel to root out injustice wherever it exists.as we meet here in this peaceful, historic chamber tonight, men from the south, some of whom were at iwo jima, men from the north who have carried old glory to far corners of the world and brought it back without a stain on it, men from the east and from the west, are all fighting together without regard to religion, or color, or region, in viet-nam. men from every region fought for us across the world 20 years ago.and in these common dangers and these common sacrifices the south made its contribution of honor and gallantry no less than any other region of the great republic and in some instances, a great many of them, more.and i have not the slightest doubt that good men from everywhere in this country, from the great lakes to the gulf of mexico, from the golden gate to the harbors along the atlantic, will rally together now in this cause to vindicate the freedom of all americans. for all of us owe this duty; and i believe that all of us will respond to it.your president makes that request of every american.the real hero of this struggle is the american negro. his actions and protests, his courage to risk safety and even to risk his life, have awakened the conscience of this nation. his demonstrations have been designed to call attention to injustice, designed to provoke change, designed to stir reform.he has called upon us to make good the promise of america. and who among us can say that we would have made the same progress were it not for his persistent bravery, and his faith in american democracy.for at the real heart of battle for equality is a deep-seated belief in the democratic process. equality depends not on the force of arms or tear gas but upon the force of moral right; not on recourse to violence but on respect for law and order.there have been many pressures upon your president and there will be others as the days come and go. but i pledge you tonight that we intend to fight this battle where it should be fought: in the courts, and in the congress, and in the hearts of men.we must preserve the right of free speech and the right of free assembly. but the right of free speech does not carry with it, as has been said, the right to holler fire in a crowded theater. we must preserve the right to free assembly, but free assembly does not carry with it the right to block public thoroughfares to traffic.we do have a right to protest, and a right to march under conditions that do not infringe the constitutional rights of our neighbors. and i intend to protect all those rights as long as i am permitted to serve in this office.we will guard against violence, knowing it strikes from our hands the very weapons which we seek progress, obedience to law, and belief in american values.in selma as elsewhere we seek and pray for peace. we seek order. we seek unity. but we will not accept the peace of stifled rights, or the order imposed by fear, or the unity that stifles protest. for peace cannot be purchased at the cost of liberty.in selma tonight, as in every and we had a good day there as in every city, we are working for just and peaceful settlement. we must all remember that after this speech i am making tonight, after the police and the fbi and the marshals have all gone, and after you have promptly passed this bill, the people of selma and the other cities of the nation must still live and work together. and when the attention of the nation has gone elsewhere they must try to heal the wounds and to build a new community.this cannot be easily done on a battleground of violence, as the history of the south itself shows. it is in recognition of this that men of both races have shown such an outstandingly impressive responsibility in recent days last tuesday, again today.the bill that i am presenting to you will be known as a civil rights bill. but, in a larger sense, most of the program i am recommending is a civil rights program. its object is to open the city of hope to all people of all races.because all americans just must have the right to vote. and we are going to give them that right.all americans must have the privileges of citizenship regardless of race. and they are going to have those privileges of citizenship regardless of race.but i would like to caution you and remind you that to exercise these privileges takes much more than just legal right. it requires a trained mind and a healthy body. it requires a decent home, and the chance to find a job, and the opportunity to escape from the clutches of poverty.of course, people cannot contribute to the nation if they are never taught to read or write, if their bodies are stunted from hunger, if their sickness goes untended, if their life is spent in hopeless poverty just drawing a welfare check.so we want to open the gates to opportunity. but we are also going to give all our people, black and white, the help that they need to walk through those gates.my first job after college was as a teacher in cotulla, texas, in a small mexican-american school. few of them could speak english, and i couldn\\'t speak much spanish. my students were poor and they often came to class without breakfast, hungry. they knew even in their youth the pain of prejudice. they never seemed to know why people disliked them. but they knew it was so, because i saw it in their eyes. i often walked home late in the afternoon, after the classes were finished, wishing there was more that i could do. but all i knew was to teach them the little that i knew, hoping that it might help them against the hardships that lay ahead.somehow you never forget what poverty and hatred can do when you see its scars on the hopeful face of a young child.i never thought then, in 1928, that i would be standing here in 1965. it never even occurred to me in my fondest dreams that i might have the chance to help the sons and daughters of those students and to help people like them all over this country.but now i do have that chance and i\\'ll let you in on a secret i mean to use it. and i hope that you will use it with me.this is the richest and most powerful country which ever occupied the globe. the might of past empires is little compared to ours. but i do not want to be the president who built empires, or sought grandeur, or extended dominion.i want to be the president who educated young children to the wonders of their world. i want to be the president who helped to feed the hungry and to prepare them to be taxpayers instead of tax-eaters.i want to be the president who helped the poor to find their own way and who protected the right of every citizen to vote in every election.i want to be the president who helped to end hatred among his fellow men and who promoted love among the people of all races and all regions and all parties.i want to be the president who helped to end war among the brothers of this earth.and so at the request of your beloved speaker and the senator from montana; the majority leader, the senator from illinois; the minority leader, mr. mcculloch, and other members of both parties, i came here tonight not as president roosevelt came down one time in person to veto a bonus bill, not as president truman came down one time to urge the passage of a railroad bill but i came down here to ask you to share this task with me and to share it with the people that we both work for. i want this to be the congress, republicans and democrats alike, which did all these things for all these people.beyond this great chamber, out yonder in 50 states, are the people that we serve. who can tell what deep and unspoken hopes are in their hearts tonight as they sit there and listen. we all can guess, from our own lives, how difficult they often find their own pursuit of happiness, how many problems each little family has. they look most of all to themselves for their futures. but i think that they also look to each of us.above the pyramid on the great seal of the united states it says in latin \"god has favored our undertaking.\"god will not favor everything that we do. it is rather our duty to divine his will. but i cannot help believing that he truly understands and that he really favors the undertaking that we begin here tonight.'"
      ]
     },
     "execution_count": 93,
     "metadata": {},
     "output_type": "execute_result"
    }
   ],
   "source": [
    "texts[450] #.replace(\"\\n\", \"\")#[:1000]"
   ]
  },
  {
   "cell_type": "code",
   "execution_count": 94,
   "metadata": {
    "collapsed": false
   },
   "outputs": [
    {
     "name": "stdout",
     "output_type": "stream",
     "text": [
      "862\n"
     ]
    }
   ],
   "source": [
    "MAX_NB_WORDS = 1200\n",
    "print(len(texts))\n",
    "# mini_test = texts[:10]\n",
    "# print(list(map(len, mini_test)))\n",
    "MAX_SEQUENCE_LENGTH = 100\n",
    "MAX_SENTENCES = 100"
   ]
  },
  {
   "cell_type": "code",
   "execution_count": 38,
   "metadata": {
    "collapsed": true
   },
   "outputs": [],
   "source": [
    "def normalize_corpus(text, replace_period=False):\n",
    "    import string \n",
    "    \n",
    "    sents = tokenize.sent_tokenize(text) #.decode('utf8')\n",
    "    sents = map(lambda x: x.lstrip().rstrip().replace('.',' '), sents)\n",
    "    text = '.'.join(sents) + '.'\n",
    "        \n",
    "    for char in string.punctuation:\n",
    "        if not replace_period and char=='.':\n",
    "            text = text.replace(char, ' . ') #text.replace(char, ' ' + char + ' ')\n",
    "        else:\n",
    "            text = text.replace(char, ' ') #text.replace(char, ' ' + char + ' ')\n",
    "    \n",
    "    text = re.sub(r'[^\\x00-\\x7F]+',' ', text) #remove non-ASCII chars\n",
    "    text = re.sub( '\\s+', ' ', text).lstrip().rstrip() #remove extra and trailing spaces\n",
    "    \n",
    "    return text.lower()\n",
    "\n",
    "norm_texts = map(lambda x: normalize_corpus(x), texts)"
   ]
  },
  {
   "cell_type": "code",
   "execution_count": 39,
   "metadata": {
    "collapsed": false
   },
   "outputs": [
    {
     "data": {
      "text/plain": [
       "'mr speaker mr president members of the congress i speak tonight for the dignity of man and the destiny of democracy i urge every member of both parties americans of all religions and of all colors from every section of this country to join me in that cause at times history and fate meet at a single time in a single place to shape a turning point in man s unending search for freedom . so it was at lexington and concord . so it was a century ago at appomattox . so it was last week in selma alabama there long suffering men and women peacefully protested the denial of their rights as americans . many were brutally assaulted . one good man a man of god was killed there is no cause for pride in what has happened in selma . there is no cause for self satisfaction in the long denial of equal rights of millions of americans . but there is cause for hope and for faith in our democracy in what is happening here tonight for the cries of pain and the hymns and protests of oppressed people have summoned into convocation all the majesty of this great government the government of the greatest nation on earth our mission is at once the oldest and the most basic of this country to right wrong to do justice to serve man in our time we have come to live with moments of great crisis . our lives have been marked with debate about great issues issues of war and peace issues of prosperity and depression . but rarely in any time does an issue lay bare the secret heart of america itself . rarely are we met with a challenge not to our growth or abundance our welfare or our security but rather to the values and the purposes and the meaning of our beloved nation the issue of equal rights for american negroes is such an issue . and should we defeat every enemy should we double our wealth and conquer the stars and still be unequal to this issue then we will have failed as a people and as a nation for with a country as with a person what is a man profited if he shall gain the whole world and lose his own soul . there is no negro problem . there is no southern problem . there is no northern problem . there is only an american problem . and we are met here tonight as americans not as democrats or republicans we are met here as americans to solve that problem this was the first nation in the history of the world to be founded with a purpose . the great phrases of that purpose still sound in every american heart north and south all men are created equal government by consent of the governed give me liberty or give me death . well those are not just clever words or those are not just empty theories . in their name americans have fought and died for two centuries and tonight around the world they stand there as guardians of our liberty risking their lives those words are a promise to every citizen that he shall share in the dignity of man . this dignity cannot be found in a man s possessions it cannot be found in his power or in his position . it really rests on his right to be treated as a man equal in opportunity to all others . it says that he shall share in freedom he shall choose his leaders educate his children and provide for his family according to his ability and his merits as a human being to apply any other test to deny a man his hopes because of his color or race his religion or the place of his birth is not only to do injustice it is to deny america and to dishonor the dead who gave their lives for american freedom our fathers believed that if this noble view of the rights of man was to flourish it must be rooted in democracy . the most basic right of all was the right to choose your own leaders . the history of this country in large measure is the history of the expansion of that right to all of our people many of the issues of civil rights are very complex and most difficult . but about this there can and should be no argument . every american citizen must have an equal right to vote . there is no reason which can excuse the denial of that right . there is no duty which weighs more heavily on us than the duty we have to ensure that right yet the harsh fact is that in many places in this country men and women are kept from voting simply because they are negroes every device of which human ingenuity is capable has been used to deny this right . the negro citizen may go to register only to be told that the day is wrong or the hour is late or the official in charge is absent . and if he persists and if he manages to present himself to the registrar he may be disqualified because he did not spell out his middle name or because he abbreviated a word on the application and if he manages to fill out an application he is given a test . the registrar is the sole judge of whether he passes this test . he may be asked to recite the entire constitution or explain the most complex provisions of state law . and even a college degree cannot be used to prove that he can read and write for the fact is that the only way to pass these barriers is to show a white skin experience has clearly shown that the existing process of law cannot overcome systematic and ingenious discrimination . no law that we now have on the books and i have helped to put three of them there can ensure the right to vote when local officials are determined to deny it in such a case our duty must be clear to all of us . the constitution says that no person shall be kept from voting because of his race or his color . we have all sworn an oath before god to support and to defend that constitution . we must now act in obedience to that oath wednesday i will send to congress a law designed to eliminate illegal barriers to the right to vote the broad principles of that bill will be in the hands of the democratic and republican leaders tomorrow . after they have reviewed it it will come here formally as a bill . i am grateful for this opportunity to come here tonight at the invitation of the leadership to reason with my friends to give them my views and to visit with my former colleagues i have had prepared a more comprehensive analysis of the legislation which i had intended to transmit to the clerk tomorrow but which i will submit to the clerks tonight . but i want to really discuss with you now briefly the main proposals of this legislation this bill will strike down restrictions to voting in all elections federal state and local which have been used to deny negroes the right to vote this bill will establish a simple uniform standard which cannot be used however ingenious the effort to flout our constitution it will provide for citizens to be registered by officials of the united states government if the state officials refuse to register them it will eliminate tedious unnecessary lawsuits which delay the right to vote finally this legislation will ensure that properly registered individuals are not prohibited from voting i will welcome the suggestions from all of the members of congress i have no doubt that i will get some on ways and means to strengthen this law and to make it effective . but experience has plainly shown that this is the only path to carry out the command of the constitution to those who seek to avoid action by their national government in their own communities who want to and who seek to maintain purely local control over elections the answer is simple open your polling places to all your people allow men and women to register and vote whatever the color of their skin extend the rights of citizenship to every citizen of this land there is no constitutional issue here . the command of the constitution is plain there is no moral issue . it is wrong deadly wrong to deny any of your fellow americans the right to vote in this country there is no issue of states rights or national rights . there is only the struggle for human rights i have not the slightest doubt what will be your answer the last time a president sent a civil rights bill to the congress it contained a provision to protect voting rights in federal elections . that civil rights bill was passed after eight long months of debate . and when that bill came to my desk from the congress for my signature the heart of the voting provision had been eliminated this time on this issue there must be no delay no hesitation and no compromise with our purpose we cannot we must not refuse to protect the right of every american to vote in every election that he may desire to participate in . and we ought not and we cannot and we must not wait another 8 months before we get a bill . we have already waited a hundred years and more and the time for waiting is gone so i ask you to join me in working long hours nights and weekends if necessary to pass this bill . and i don t make that request lightly . for from the window where i sit with the problems of our country i recognize that outside this chamber is the outraged conscience of a nation the grave concern of many nations and the harsh judgment of history on our acts but even if we pass this bill the battle will not be over . what happened in selma is part of a far larger movement which reaches into every section and state of america . it is the effort of american negroes to secure for themselves the full blessings of american life their cause must be our cause too . because it is not just negroes but really it is all of us who must overcome the crippling legacy of bigotry and injustice . and we shall overcome as a man whose roots go deeply into southern soil i know how agonizing racial feelings are . i know how difficult it is to reshape the attitudes and the structure of our society but a century has passed more than a hundred years since the negro was freed . and he is not fully free tonight it was more than a hundred years ago that abraham lincoln a great president of another party signed the emancipation proclamation but emancipation is a proclamation and not a fact a century has passed more than a hundred years since equality was promised . and yet the negro is not equal a century has passed since the day of promise . and the promise is unkept the time of justice has now come . i tell you that i believe sincerely that no force can hold it back . it is right in the eyes of man and god that it should come . and when it does i think that day will brighten the lives of every american for negroes are not the only victims . how many white children have gone uneducated how many white families have lived in stark poverty how many white lives have been scarred by fear because we have wasted our energy and our substance to maintain the barriers of hatred and terror so i say to all of you here and to all in the nation tonight that those who appeal to you to hold on to the past do so at the cost of denying you your future this great rich restless country can offer opportunity and education and hope to all black and white north and south sharecropper and city dweller . these are the enemies poverty ignorance disease . they are the enemies and not our fellow man not our neighbor . and these enemies too poverty disease and ignorance we shall overcome now let none of us in any sections look with prideful righteousness on the troubles in another section or on the problems of our neighbors . there is really no part of america where the promise of equality has been fully kept . in buffalo as well as in birmingham in philadelphia as well as in selma americans are struggling for the fruits of freedom this is one nation . what happens in selma or in cincinnati is a matter of legitimate concern to every american . but let each of us look within our own hearts and our own communities and let each of us put our shoulder to the wheel to root out injustice wherever it exists as we meet here in this peaceful historic chamber tonight men from the south some of whom were at iwo jima men from the north who have carried old glory to far corners of the world and brought it back without a stain on it men from the east and from the west are all fighting together without regard to religion or color or region in viet nam . men from every region fought for us across the world 20 years ago and in these common dangers and these common sacrifices the south made its contribution of honor and gallantry no less than any other region of the great republic and in some instances a great many of them more and i have not the slightest doubt that good men from everywhere in this country from the great lakes to the gulf of mexico from the golden gate to the harbors along the atlantic will rally together now in this cause to vindicate the freedom of all americans . for all of us owe this duty and i believe that all of us will respond to it your president makes that request of every american the real hero of this struggle is the american negro . his actions and protests his courage to risk safety and even to risk his life have awakened the conscience of this nation . his demonstrations have been designed to call attention to injustice designed to provoke change designed to stir reform he has called upon us to make good the promise of america . and who among us can say that we would have made the same progress were it not for his persistent bravery and his faith in american democracy for at the real heart of battle for equality is a deep seated belief in the democratic process . equality depends not on the force of arms or tear gas but upon the force of moral right not on recourse to violence but on respect for law and order there have been many pressures upon your president and there will be others as the days come and go . but i pledge you tonight that we intend to fight this battle where it should be fought in the courts and in the congress and in the hearts of men we must preserve the right of free speech and the right of free assembly . but the right of free speech does not carry with it as has been said the right to holler fire in a crowded theater . we must preserve the right to free assembly but free assembly does not carry with it the right to block public thoroughfares to traffic we do have a right to protest and a right to march under conditions that do not infringe the constitutional rights of our neighbors . and i intend to protect all those rights as long as i am permitted to serve in this office we will guard against violence knowing it strikes from our hands the very weapons which we seek progress obedience to law and belief in american values in selma as elsewhere we seek and pray for peace . we seek order . we seek unity . but we will not accept the peace of stifled rights or the order imposed by fear or the unity that stifles protest . for peace cannot be purchased at the cost of liberty in selma tonight as in every and we had a good day there as in every city we are working for just and peaceful settlement . we must all remember that after this speech i am making tonight after the police and the fbi and the marshals have all gone and after you have promptly passed this bill the people of selma and the other cities of the nation must still live and work together . and when the attention of the nation has gone elsewhere they must try to heal the wounds and to build a new community this cannot be easily done on a battleground of violence as the history of the south itself shows . it is in recognition of this that men of both races have shown such an outstandingly impressive responsibility in recent days last tuesday again today the bill that i am presenting to you will be known as a civil rights bill . but in a larger sense most of the program i am recommending is a civil rights program . its object is to open the city of hope to all people of all races because all americans just must have the right to vote . and we are going to give them that right all americans must have the privileges of citizenship regardless of race . and they are going to have those privileges of citizenship regardless of race but i would like to caution you and remind you that to exercise these privileges takes much more than just legal right . it requires a trained mind and a healthy body . it requires a decent home and the chance to find a job and the opportunity to escape from the clutches of poverty of course people cannot contribute to the nation if they are never taught to read or write if their bodies are stunted from hunger if their sickness goes untended if their life is spent in hopeless poverty just drawing a welfare check so we want to open the gates to opportunity . but we are also going to give all our people black and white the help that they need to walk through those gates my first job after college was as a teacher in cotulla texas in a small mexican american school . few of them could speak english and i couldn t speak much spanish . my students were poor and they often came to class without breakfast hungry . they knew even in their youth the pain of prejudice . they never seemed to know why people disliked them . but they knew it was so because i saw it in their eyes . i often walked home late in the afternoon after the classes were finished wishing there was more that i could do . but all i knew was to teach them the little that i knew hoping that it might help them against the hardships that lay ahead somehow you never forget what poverty and hatred can do when you see its scars on the hopeful face of a young child i never thought then in 1928 that i would be standing here in 1965 it never even occurred to me in my fondest dreams that i might have the chance to help the sons and daughters of those students and to help people like them all over this country but now i do have that chance and i ll let you in on a secret i mean to use it . and i hope that you will use it with me this is the richest and most powerful country which ever occupied the globe . the might of past empires is little compared to ours . but i do not want to be the president who built empires or sought grandeur or extended dominion i want to be the president who educated young children to the wonders of their world . i want to be the president who helped to feed the hungry and to prepare them to be taxpayers instead of tax eaters i want to be the president who helped the poor to find their own way and who protected the right of every citizen to vote in every election i want to be the president who helped to end hatred among his fellow men and who promoted love among the people of all races and all regions and all parties i want to be the president who helped to end war among the brothers of this earth and so at the request of your beloved speaker and the senator from montana the majority leader the senator from illinois the minority leader mr mcculloch and other members of both parties i came here tonight not as president roosevelt came down one time in person to veto a bonus bill not as president truman came down one time to urge the passage of a railroad bill but i came down here to ask you to share this task with me and to share it with the people that we both work for . i want this to be the congress republicans and democrats alike which did all these things for all these people beyond this great chamber out yonder in 50 states are the people that we serve . who can tell what deep and unspoken hopes are in their hearts tonight as they sit there and listen . we all can guess from our own lives how difficult they often find their own pursuit of happiness how many problems each little family has . they look most of all to themselves for their futures . but i think that they also look to each of us above the pyramid on the great seal of the united states it says in latin god has favored our undertaking . god will not favor everything that we do . it is rather our duty to divine his will . but i cannot help believing that he truly understands and that he really favors the undertaking that we begin here tonight .'"
      ]
     },
     "execution_count": 39,
     "metadata": {},
     "output_type": "execute_result"
    }
   ],
   "source": [
    "norm_texts[450]"
   ]
  },
  {
   "cell_type": "code",
   "execution_count": 121,
   "metadata": {
    "collapsed": false
   },
   "outputs": [],
   "source": [
    "def pad_dense_list(speech, maxsentence):\n",
    "    \n",
    "    each_sub_len = len(speech[0])\n",
    "    Z = np.zeros((maxsentence, each_sub_len))\n",
    "    #print(\"Shape of Z{}, list {}\", Z.shape, len(speech))\n",
    "    for index, row in enumerate(speech):\n",
    "        if (index >= maxsentence):\n",
    "            break\n",
    "        \n",
    "        Z[index] = row\n",
    "    #print(Z) \n",
    "    return Z\n",
    "\n",
    "def preprocess_text(texts):\n",
    "    \n",
    "    tokenizer = Tokenizer(nb_words=5)\n",
    "    tokenizer.fit_on_texts(texts)\n",
    "    text_encoded = np.zeros((len(texts),MAX_SENTENCES,MAX_SEQUENCE_LENGTH))\n",
    "\n",
    "    word_index = tokenizer.word_index\n",
    "    \n",
    "    for enu, speech in enumerate(texts):\n",
    "        sents = tokenize.sent_tokenize(speech)\n",
    "        if(len(sents) == 0):\n",
    "            continue\n",
    "        sequences = tokenizer.texts_to_sequences(sents)\n",
    "        \n",
    "#         print(len(sequences))\n",
    "#         print('Found %s unique tokens.' % len(word_index))\n",
    "        data = pad_sequences(sequences, maxlen=MAX_SEQUENCE_LENGTH, padding='post', truncating='post')\n",
    "        text_encoded[enu] = (pad_dense_list(data, MAX_SENTENCES))\n",
    "        \n",
    "    return word_index, text_encoded"
   ]
  },
  {
   "cell_type": "code",
   "execution_count": 137,
   "metadata": {
    "collapsed": false
   },
   "outputs": [],
   "source": [
    "word_index, text_encoded = preprocess_text(texts)"
   ]
  },
  {
   "cell_type": "code",
   "execution_count": 138,
   "metadata": {
    "collapsed": false
   },
   "outputs": [
    {
     "data": {
      "text/plain": [
       "array([[ 2.,  1.,  1., ...,  0.,  0.,  0.],\n",
       "       [ 4.,  0.,  0., ...,  0.,  0.,  0.],\n",
       "       [ 0.,  0.,  0., ...,  0.,  0.,  0.],\n",
       "       ..., \n",
       "       [ 3.,  0.,  0., ...,  0.,  0.,  0.],\n",
       "       [ 0.,  0.,  0., ...,  0.,  0.,  0.],\n",
       "       [ 1.,  1.,  0., ...,  0.,  0.,  0.]])"
      ]
     },
     "execution_count": 138,
     "metadata": {},
     "output_type": "execute_result"
    }
   ],
   "source": [
    "text_encoded[450]"
   ]
  },
  {
   "cell_type": "code",
   "execution_count": 139,
   "metadata": {
    "collapsed": false
   },
   "outputs": [
    {
     "data": {
      "text/plain": [
       "(862, 100, 100)"
      ]
     },
     "execution_count": 139,
     "metadata": {},
     "output_type": "execute_result"
    }
   ],
   "source": [
    "text_encoded.shape"
   ]
  },
  {
   "cell_type": "code",
   "execution_count": 140,
   "metadata": {
    "collapsed": false
   },
   "outputs": [
    {
     "name": "stdout",
     "output_type": "stream",
     "text": [
      "(862, 100, 100)\n",
      "(862,)\n"
     ]
    }
   ],
   "source": [
    "# First Speech encoding\n",
    "data = text_encoded\n",
    "labels = np.asarray(labels)\n",
    "print(data.shape)\n",
    "print(labels.shape)"
   ]
  },
  {
   "cell_type": "code",
   "execution_count": 141,
   "metadata": {
    "collapsed": true
   },
   "outputs": [],
   "source": [
    "new_data = data\n",
    "data = data.reshape(data.shape[0], data.shape[1]*data.shape[1])"
   ]
  },
  {
   "cell_type": "code",
   "execution_count": 142,
   "metadata": {
    "collapsed": false
   },
   "outputs": [
    {
     "data": {
      "text/plain": [
       "(862, 10000)"
      ]
     },
     "execution_count": 142,
     "metadata": {},
     "output_type": "execute_result"
    }
   ],
   "source": [
    "data.shape"
   ]
  },
  {
   "cell_type": "code",
   "execution_count": 143,
   "metadata": {
    "collapsed": false
   },
   "outputs": [
    {
     "name": "stdout",
     "output_type": "stream",
     "text": [
      "('Shape of data tensor:', (862, 10000))\n",
      "('Shape of label tensor:', (862,))\n"
     ]
    }
   ],
   "source": [
    "print('Shape of data tensor:', data.shape)\n",
    "print('Shape of label tensor:', labels.shape)\n",
    "# split the data into a training set and a validation set\n",
    "indices = np.arange(data.shape[0])\n",
    "np.random.shuffle(indices)\n",
    "data = data[indices]\n",
    "# labels = labels[indices]\n",
    "VALIDATION_SPLIT = 0.2\n",
    "nb_validation_samples = int(VALIDATION_SPLIT * data.shape[0])\n",
    "x_train = data[:-nb_validation_samples]\n",
    "y_train = labels[:-nb_validation_samples]\n",
    "x_val = data[-nb_validation_samples:]\n",
    "y_val = labels[-nb_validation_samples:]"
   ]
  },
  {
   "cell_type": "code",
   "execution_count": 149,
   "metadata": {
    "collapsed": false
   },
   "outputs": [
    {
     "name": "stdout",
     "output_type": "stream",
     "text": [
      "Found 400000 word vectors.\n"
     ]
    }
   ],
   "source": [
    "embeddings_index = {}\n",
    "GLOVE_DIR = '../../glove.6B/'\n",
    "f = open(os.path.join(GLOVE_DIR, 'glove.6B.100d.txt'))\n",
    "for line in f:\n",
    "    values = line.split()\n",
    "    word = values[0]\n",
    "    coefs = np.asarray(values[1:], dtype='float32')\n",
    "    embeddings_index[word] = coefs\n",
    "f.close()\n",
    "\n",
    "print('Found %s word vectors.' % len(embeddings_index))"
   ]
  },
  {
   "cell_type": "code",
   "execution_count": 150,
   "metadata": {
    "collapsed": true
   },
   "outputs": [],
   "source": [
    "EMBEDDING_DIM = 100"
   ]
  },
  {
   "cell_type": "code",
   "execution_count": 151,
   "metadata": {
    "collapsed": false
   },
   "outputs": [],
   "source": [
    "embedding_matrix = np.zeros((len(word_index) + 1, EMBEDDING_DIM))\n",
    "for word, i in word_index.items():\n",
    "    embedding_vector = embeddings_index.get(word)\n",
    "    if embedding_vector is not None:\n",
    "        # words not found in embedding index will be all-zeros.\n",
    "        embedding_matrix[i] = embedding_vector"
   ]
  },
  {
   "cell_type": "code",
   "execution_count": 152,
   "metadata": {
    "collapsed": false
   },
   "outputs": [
    {
     "data": {
      "text/plain": [
       "(862, 10000)"
      ]
     },
     "execution_count": 152,
     "metadata": {},
     "output_type": "execute_result"
    }
   ],
   "source": [
    "data.shape"
   ]
  },
  {
   "cell_type": "code",
   "execution_count": 131,
   "metadata": {
    "collapsed": true
   },
   "outputs": [],
   "source": [
    "# y_train = y_train.reshape((-1, 1))"
   ]
  },
  {
   "cell_type": "code",
   "execution_count": 132,
   "metadata": {
    "collapsed": false
   },
   "outputs": [],
   "source": [
    "# NUM_SAMPLES = 32\n",
    "# VOCAB_SIZE = 1000\n",
    "# EMBEDDING_DIM = 64\n",
    "# MAX_SEQUENCE_LENGTH = 10\n",
    "# MAX_SENTENCES = 20\n",
    "# EMBEDDING_INPUT_LENGTH = MAX_SEQUENCE_LENGTH*MAX_SENTENCES\n",
    "# WORD_LSTM_DIM = 100\n",
    "# SENT_LSTM_DIM = 100\n",
    "# NUM_CLASSES = 7\n",
    "\n",
    "# input_array = np.random.randint(1000, size=(32, 20*10)) #batch = 32, sent = 20, words = 10\n",
    "# x_train = input_array[:25]\n",
    "# x_val = input_array[25:]\n",
    "# y_train = np.random.randint(1,7,25)\n",
    "# y_val = np.random.randint(1,7,7)\n",
    "# print(x_train.shape)\n",
    "# print(y_train.shape)\n",
    "# print(x_val.shape)\n",
    "# print(y_val.shape)\n",
    "# embedding_matrix = np.random.randint(0,999,(1000,64))"
   ]
  },
  {
   "cell_type": "code",
   "execution_count": 157,
   "metadata": {
    "collapsed": true
   },
   "outputs": [],
   "source": [
    "VOCAB_SIZE = len(word_index) + 1\n",
    "EMBEDDING_DIM = 100\n",
    "# MAX_SEQUENCE_LENGTH = 100\n",
    "# MAX_SENTENCES = 100\n",
    "EMBEDDING_INPUT_LENGTH = MAX_SEQUENCE_LENGTH*MAX_SENTENCES\n",
    "WORD_LSTM_DIM = 100\n",
    "SENT_LSTM_DIM = 100\n",
    "NUM_CLASSES = 8"
   ]
  },
  {
   "cell_type": "markdown",
   "metadata": {},
   "source": [
    "### Hierarchical-Average model"
   ]
  },
  {
   "cell_type": "code",
   "execution_count": 158,
   "metadata": {
    "collapsed": false
   },
   "outputs": [
    {
     "name": "stdout",
     "output_type": "stream",
     "text": [
      "____________________________________________________________________________________________________\n",
      "Layer (type)                     Output Shape          Param #     Connected to                     \n",
      "====================================================================================================\n",
      "embedding_32 (Embedding)         (None, 10000, 100)    0           embedding_input_32[0][0]         \n",
      "____________________________________________________________________________________________________\n",
      "reshape_55 (Reshape)             (None, 100, 100, 100) 0           embedding_32[0][0]               \n",
      "____________________________________________________________________________________________________\n",
      "lambda_43 (Lambda)               (None, 1, 100, 100)   0           reshape_55[0][0]                 \n",
      "____________________________________________________________________________________________________\n",
      "timedistributed_30 (TimeDistribu (None, 1, 100, 100)   80400       lambda_43[0][0]                  \n",
      "____________________________________________________________________________________________________\n",
      "reshape_56 (Reshape)             (None, 100, 100)      0           timedistributed_30[0][0]         \n",
      "____________________________________________________________________________________________________\n",
      "lambda_44 (Lambda)               (None, 100)           0           reshape_56[0][0]                 \n",
      "____________________________________________________________________________________________________\n",
      "reshape_57 (Reshape)             (None, 100)           0           lambda_44[0][0]                  \n",
      "____________________________________________________________________________________________________\n",
      "dense_10 (Dense)                 (None, 8)             808         reshape_57[0][0]                 \n",
      "====================================================================================================\n",
      "Total params: 81208\n",
      "____________________________________________________________________________________________________\n",
      "None\n"
     ]
    }
   ],
   "source": [
    "model = Sequential()\n",
    "embedding_layer = Embedding(VOCAB_SIZE, \n",
    "                            EMBEDDING_DIM, \n",
    "                            weights = [embedding_matrix],\n",
    "                            input_length=EMBEDDING_INPUT_LENGTH,\n",
    "                            trainable=False)\n",
    "model.add(embedding_layer)\n",
    "model.add(Reshape((MAX_SENTENCES, MAX_SEQUENCE_LENGTH, EMBEDDING_DIM,), input_shape=(EMBEDDING_INPUT_LENGTH,EMBEDDING_DIM,)))\n",
    "# model.add(TimeDistributed(LSTM(WORD_LSTM_DIM, input_shape=(MAX_SEQUENCE_LENGTH, EMBEDDING_DIM), return_sequences=True)))\n",
    "model.add(Lambda(lambda x: K.mean(x, axis=2, keepdims=True), output_shape=lambda s: (s[0], 1, s[1], s[3])))\n",
    "model.add(TimeDistributed(LSTM(SENT_LSTM_DIM, input_shape=(MAX_SENTENCES, EMBEDDING_DIM), return_sequences=True), input_shape=(20,64)))\n",
    "model.add(Reshape((MAX_SENTENCES,SENT_LSTM_DIM), input_shape=(MAX_SENTENCES,SENT_LSTM_DIM, 1)))\n",
    "model.add(Lambda(lambda x: K.mean(x, axis=1, keepdims=True), output_shape=lambda s: (s[0], s[2])))\n",
    "model.add(Reshape((SENT_LSTM_DIM,)))\n",
    "model.add(Dense(NUM_CLASSES, input_dim=SENT_LSTM_DIM, activation='softmax'))\n",
    "model.compile(loss='sparse_categorical_crossentropy',optimizer='rmsprop',metrics=['acc'])\n",
    "print(model.summary())"
   ]
  },
  {
   "cell_type": "code",
   "execution_count": 159,
   "metadata": {
    "collapsed": false
   },
   "outputs": [
    {
     "data": {
      "text/plain": [
       "(690, 10000)"
      ]
     },
     "execution_count": 159,
     "metadata": {},
     "output_type": "execute_result"
    }
   ],
   "source": [
    "x_train.shape"
   ]
  },
  {
   "cell_type": "code",
   "execution_count": 160,
   "metadata": {
    "collapsed": false
   },
   "outputs": [
    {
     "name": "stdout",
     "output_type": "stream",
     "text": [
      "Train on 690 samples, validate on 172 samples\n",
      "Epoch 1/5\n",
      "690/690 [==============================] - 67s - loss: 1.8601 - acc: 0.2333 - val_loss: 2.1700 - val_acc: 0.0058\n",
      "Epoch 2/5\n",
      "230/690 [=========>....................] - ETA: 45s - loss: 1.8038 - acc: 0.2739"
     ]
    },
    {
     "ename": "KeyboardInterrupt",
     "evalue": "",
     "output_type": "error",
     "traceback": [
      "\u001b[0;31m---------------------------------------------------------------------------\u001b[0m",
      "\u001b[0;31mKeyboardInterrupt\u001b[0m                         Traceback (most recent call last)",
      "\u001b[0;32m<ipython-input-160-542310fc1f89>\u001b[0m in \u001b[0;36m<module>\u001b[0;34m()\u001b[0m\n\u001b[0;32m----> 1\u001b[0;31m \u001b[0mmodel\u001b[0m\u001b[0;34m.\u001b[0m\u001b[0mfit\u001b[0m\u001b[0;34m(\u001b[0m\u001b[0mx_train\u001b[0m\u001b[0;34m,\u001b[0m \u001b[0my_train\u001b[0m\u001b[0;34m,\u001b[0m \u001b[0mvalidation_data\u001b[0m\u001b[0;34m=\u001b[0m\u001b[0;34m(\u001b[0m\u001b[0mx_val\u001b[0m\u001b[0;34m,\u001b[0m \u001b[0my_val\u001b[0m\u001b[0;34m)\u001b[0m\u001b[0;34m,\u001b[0m\u001b[0mnb_epoch\u001b[0m\u001b[0;34m=\u001b[0m\u001b[0;36m5\u001b[0m\u001b[0;34m,\u001b[0m \u001b[0mbatch_size\u001b[0m\u001b[0;34m=\u001b[0m\u001b[0;36m10\u001b[0m\u001b[0;34m)\u001b[0m\u001b[0;34m\u001b[0m\u001b[0m\n\u001b[0m",
      "\u001b[0;32m/Library/Frameworks/Python.framework/Versions/2.7/lib/python2.7/site-packages/keras/models.pyc\u001b[0m in \u001b[0;36mfit\u001b[0;34m(self, x, y, batch_size, nb_epoch, verbose, callbacks, validation_split, validation_data, shuffle, class_weight, sample_weight, **kwargs)\u001b[0m\n\u001b[1;32m    650\u001b[0m                               \u001b[0mshuffle\u001b[0m\u001b[0;34m=\u001b[0m\u001b[0mshuffle\u001b[0m\u001b[0;34m,\u001b[0m\u001b[0;34m\u001b[0m\u001b[0m\n\u001b[1;32m    651\u001b[0m                               \u001b[0mclass_weight\u001b[0m\u001b[0;34m=\u001b[0m\u001b[0mclass_weight\u001b[0m\u001b[0;34m,\u001b[0m\u001b[0;34m\u001b[0m\u001b[0m\n\u001b[0;32m--> 652\u001b[0;31m                               sample_weight=sample_weight)\n\u001b[0m\u001b[1;32m    653\u001b[0m \u001b[0;34m\u001b[0m\u001b[0m\n\u001b[1;32m    654\u001b[0m     def evaluate(self, x, y, batch_size=32, verbose=1,\n",
      "\u001b[0;32m/Library/Frameworks/Python.framework/Versions/2.7/lib/python2.7/site-packages/keras/engine/training.pyc\u001b[0m in \u001b[0;36mfit\u001b[0;34m(self, x, y, batch_size, nb_epoch, verbose, callbacks, validation_split, validation_data, shuffle, class_weight, sample_weight, initial_epoch)\u001b[0m\n\u001b[1;32m   1109\u001b[0m                               \u001b[0mval_f\u001b[0m\u001b[0;34m=\u001b[0m\u001b[0mval_f\u001b[0m\u001b[0;34m,\u001b[0m \u001b[0mval_ins\u001b[0m\u001b[0;34m=\u001b[0m\u001b[0mval_ins\u001b[0m\u001b[0;34m,\u001b[0m \u001b[0mshuffle\u001b[0m\u001b[0;34m=\u001b[0m\u001b[0mshuffle\u001b[0m\u001b[0;34m,\u001b[0m\u001b[0;34m\u001b[0m\u001b[0m\n\u001b[1;32m   1110\u001b[0m                               \u001b[0mcallback_metrics\u001b[0m\u001b[0;34m=\u001b[0m\u001b[0mcallback_metrics\u001b[0m\u001b[0;34m,\u001b[0m\u001b[0;34m\u001b[0m\u001b[0m\n\u001b[0;32m-> 1111\u001b[0;31m                               initial_epoch=initial_epoch)\n\u001b[0m\u001b[1;32m   1112\u001b[0m \u001b[0;34m\u001b[0m\u001b[0m\n\u001b[1;32m   1113\u001b[0m     \u001b[0;32mdef\u001b[0m \u001b[0mevaluate\u001b[0m\u001b[0;34m(\u001b[0m\u001b[0mself\u001b[0m\u001b[0;34m,\u001b[0m \u001b[0mx\u001b[0m\u001b[0;34m,\u001b[0m \u001b[0my\u001b[0m\u001b[0;34m,\u001b[0m \u001b[0mbatch_size\u001b[0m\u001b[0;34m=\u001b[0m\u001b[0;36m32\u001b[0m\u001b[0;34m,\u001b[0m \u001b[0mverbose\u001b[0m\u001b[0;34m=\u001b[0m\u001b[0;36m1\u001b[0m\u001b[0;34m,\u001b[0m \u001b[0msample_weight\u001b[0m\u001b[0;34m=\u001b[0m\u001b[0mNone\u001b[0m\u001b[0;34m)\u001b[0m\u001b[0;34m:\u001b[0m\u001b[0;34m\u001b[0m\u001b[0m\n",
      "\u001b[0;32m/Library/Frameworks/Python.framework/Versions/2.7/lib/python2.7/site-packages/keras/engine/training.pyc\u001b[0m in \u001b[0;36m_fit_loop\u001b[0;34m(self, f, ins, out_labels, batch_size, nb_epoch, verbose, callbacks, val_f, val_ins, shuffle, callback_metrics, initial_epoch)\u001b[0m\n\u001b[1;32m    824\u001b[0m                 \u001b[0mbatch_logs\u001b[0m\u001b[0;34m[\u001b[0m\u001b[0;34m'size'\u001b[0m\u001b[0;34m]\u001b[0m \u001b[0;34m=\u001b[0m \u001b[0mlen\u001b[0m\u001b[0;34m(\u001b[0m\u001b[0mbatch_ids\u001b[0m\u001b[0;34m)\u001b[0m\u001b[0;34m\u001b[0m\u001b[0m\n\u001b[1;32m    825\u001b[0m                 \u001b[0mcallbacks\u001b[0m\u001b[0;34m.\u001b[0m\u001b[0mon_batch_begin\u001b[0m\u001b[0;34m(\u001b[0m\u001b[0mbatch_index\u001b[0m\u001b[0;34m,\u001b[0m \u001b[0mbatch_logs\u001b[0m\u001b[0;34m)\u001b[0m\u001b[0;34m\u001b[0m\u001b[0m\n\u001b[0;32m--> 826\u001b[0;31m                 \u001b[0mouts\u001b[0m \u001b[0;34m=\u001b[0m \u001b[0mf\u001b[0m\u001b[0;34m(\u001b[0m\u001b[0mins_batch\u001b[0m\u001b[0;34m)\u001b[0m\u001b[0;34m\u001b[0m\u001b[0m\n\u001b[0m\u001b[1;32m    827\u001b[0m                 \u001b[0;32mif\u001b[0m \u001b[0mtype\u001b[0m\u001b[0;34m(\u001b[0m\u001b[0mouts\u001b[0m\u001b[0;34m)\u001b[0m \u001b[0;34m!=\u001b[0m \u001b[0mlist\u001b[0m\u001b[0;34m:\u001b[0m\u001b[0;34m\u001b[0m\u001b[0m\n\u001b[1;32m    828\u001b[0m                     \u001b[0mouts\u001b[0m \u001b[0;34m=\u001b[0m \u001b[0;34m[\u001b[0m\u001b[0mouts\u001b[0m\u001b[0;34m]\u001b[0m\u001b[0;34m\u001b[0m\u001b[0m\n",
      "\u001b[0;32m/Library/Frameworks/Python.framework/Versions/2.7/lib/python2.7/site-packages/keras/backend/tensorflow_backend.pyc\u001b[0m in \u001b[0;36m__call__\u001b[0;34m(self, inputs)\u001b[0m\n\u001b[1;32m   1094\u001b[0m             \u001b[0mfeed_dict\u001b[0m\u001b[0;34m[\u001b[0m\u001b[0mtensor\u001b[0m\u001b[0;34m]\u001b[0m \u001b[0;34m=\u001b[0m \u001b[0mvalue\u001b[0m\u001b[0;34m\u001b[0m\u001b[0m\n\u001b[1;32m   1095\u001b[0m         \u001b[0msession\u001b[0m \u001b[0;34m=\u001b[0m \u001b[0mget_session\u001b[0m\u001b[0;34m(\u001b[0m\u001b[0;34m)\u001b[0m\u001b[0;34m\u001b[0m\u001b[0m\n\u001b[0;32m-> 1096\u001b[0;31m         \u001b[0mupdated\u001b[0m \u001b[0;34m=\u001b[0m \u001b[0msession\u001b[0m\u001b[0;34m.\u001b[0m\u001b[0mrun\u001b[0m\u001b[0;34m(\u001b[0m\u001b[0mself\u001b[0m\u001b[0;34m.\u001b[0m\u001b[0moutputs\u001b[0m \u001b[0;34m+\u001b[0m \u001b[0;34m[\u001b[0m\u001b[0mself\u001b[0m\u001b[0;34m.\u001b[0m\u001b[0mupdates_op\u001b[0m\u001b[0;34m]\u001b[0m\u001b[0;34m,\u001b[0m \u001b[0mfeed_dict\u001b[0m\u001b[0;34m=\u001b[0m\u001b[0mfeed_dict\u001b[0m\u001b[0;34m)\u001b[0m\u001b[0;34m\u001b[0m\u001b[0m\n\u001b[0m\u001b[1;32m   1097\u001b[0m         \u001b[0;32mreturn\u001b[0m \u001b[0mupdated\u001b[0m\u001b[0;34m[\u001b[0m\u001b[0;34m:\u001b[0m\u001b[0mlen\u001b[0m\u001b[0;34m(\u001b[0m\u001b[0mself\u001b[0m\u001b[0;34m.\u001b[0m\u001b[0moutputs\u001b[0m\u001b[0;34m)\u001b[0m\u001b[0;34m]\u001b[0m\u001b[0;34m\u001b[0m\u001b[0m\n\u001b[1;32m   1098\u001b[0m \u001b[0;34m\u001b[0m\u001b[0m\n",
      "\u001b[0;32m/Library/Frameworks/Python.framework/Versions/2.7/lib/python2.7/site-packages/tensorflow/python/client/session.pyc\u001b[0m in \u001b[0;36mrun\u001b[0;34m(self, fetches, feed_dict, options, run_metadata)\u001b[0m\n\u001b[1;32m    708\u001b[0m     \u001b[0;32mtry\u001b[0m\u001b[0;34m:\u001b[0m\u001b[0;34m\u001b[0m\u001b[0m\n\u001b[1;32m    709\u001b[0m       result = self._run(None, fetches, feed_dict, options_ptr,\n\u001b[0;32m--> 710\u001b[0;31m                          run_metadata_ptr)\n\u001b[0m\u001b[1;32m    711\u001b[0m       \u001b[0;32mif\u001b[0m \u001b[0mrun_metadata\u001b[0m\u001b[0;34m:\u001b[0m\u001b[0;34m\u001b[0m\u001b[0m\n\u001b[1;32m    712\u001b[0m         \u001b[0mproto_data\u001b[0m \u001b[0;34m=\u001b[0m \u001b[0mtf_session\u001b[0m\u001b[0;34m.\u001b[0m\u001b[0mTF_GetBuffer\u001b[0m\u001b[0;34m(\u001b[0m\u001b[0mrun_metadata_ptr\u001b[0m\u001b[0;34m)\u001b[0m\u001b[0;34m\u001b[0m\u001b[0m\n",
      "\u001b[0;32m/Library/Frameworks/Python.framework/Versions/2.7/lib/python2.7/site-packages/tensorflow/python/client/session.pyc\u001b[0m in \u001b[0;36m_run\u001b[0;34m(self, handle, fetches, feed_dict, options, run_metadata)\u001b[0m\n\u001b[1;32m    906\u001b[0m     \u001b[0;32mif\u001b[0m \u001b[0mfinal_fetches\u001b[0m \u001b[0;32mor\u001b[0m \u001b[0mfinal_targets\u001b[0m\u001b[0;34m:\u001b[0m\u001b[0;34m\u001b[0m\u001b[0m\n\u001b[1;32m    907\u001b[0m       results = self._do_run(handle, final_targets, final_fetches,\n\u001b[0;32m--> 908\u001b[0;31m                              feed_dict_string, options, run_metadata)\n\u001b[0m\u001b[1;32m    909\u001b[0m     \u001b[0;32melse\u001b[0m\u001b[0;34m:\u001b[0m\u001b[0;34m\u001b[0m\u001b[0m\n\u001b[1;32m    910\u001b[0m       \u001b[0mresults\u001b[0m \u001b[0;34m=\u001b[0m \u001b[0;34m[\u001b[0m\u001b[0;34m]\u001b[0m\u001b[0;34m\u001b[0m\u001b[0m\n",
      "\u001b[0;32m/Library/Frameworks/Python.framework/Versions/2.7/lib/python2.7/site-packages/tensorflow/python/client/session.pyc\u001b[0m in \u001b[0;36m_do_run\u001b[0;34m(self, handle, target_list, fetch_list, feed_dict, options, run_metadata)\u001b[0m\n\u001b[1;32m    956\u001b[0m     \u001b[0;32mif\u001b[0m \u001b[0mhandle\u001b[0m \u001b[0;32mis\u001b[0m \u001b[0mNone\u001b[0m\u001b[0;34m:\u001b[0m\u001b[0;34m\u001b[0m\u001b[0m\n\u001b[1;32m    957\u001b[0m       return self._do_call(_run_fn, self._session, feed_dict, fetch_list,\n\u001b[0;32m--> 958\u001b[0;31m                            target_list, options, run_metadata)\n\u001b[0m\u001b[1;32m    959\u001b[0m     \u001b[0;32melse\u001b[0m\u001b[0;34m:\u001b[0m\u001b[0;34m\u001b[0m\u001b[0m\n\u001b[1;32m    960\u001b[0m       return self._do_call(_prun_fn, self._session, handle, feed_dict,\n",
      "\u001b[0;32m/Library/Frameworks/Python.framework/Versions/2.7/lib/python2.7/site-packages/tensorflow/python/client/session.pyc\u001b[0m in \u001b[0;36m_do_call\u001b[0;34m(self, fn, *args)\u001b[0m\n\u001b[1;32m    963\u001b[0m   \u001b[0;32mdef\u001b[0m \u001b[0m_do_call\u001b[0m\u001b[0;34m(\u001b[0m\u001b[0mself\u001b[0m\u001b[0;34m,\u001b[0m \u001b[0mfn\u001b[0m\u001b[0;34m,\u001b[0m \u001b[0;34m*\u001b[0m\u001b[0margs\u001b[0m\u001b[0;34m)\u001b[0m\u001b[0;34m:\u001b[0m\u001b[0;34m\u001b[0m\u001b[0m\n\u001b[1;32m    964\u001b[0m     \u001b[0;32mtry\u001b[0m\u001b[0;34m:\u001b[0m\u001b[0;34m\u001b[0m\u001b[0m\n\u001b[0;32m--> 965\u001b[0;31m       \u001b[0;32mreturn\u001b[0m \u001b[0mfn\u001b[0m\u001b[0;34m(\u001b[0m\u001b[0;34m*\u001b[0m\u001b[0margs\u001b[0m\u001b[0;34m)\u001b[0m\u001b[0;34m\u001b[0m\u001b[0m\n\u001b[0m\u001b[1;32m    966\u001b[0m     \u001b[0;32mexcept\u001b[0m \u001b[0merrors\u001b[0m\u001b[0;34m.\u001b[0m\u001b[0mOpError\u001b[0m \u001b[0;32mas\u001b[0m \u001b[0me\u001b[0m\u001b[0;34m:\u001b[0m\u001b[0;34m\u001b[0m\u001b[0m\n\u001b[1;32m    967\u001b[0m       \u001b[0mmessage\u001b[0m \u001b[0;34m=\u001b[0m \u001b[0mcompat\u001b[0m\u001b[0;34m.\u001b[0m\u001b[0mas_text\u001b[0m\u001b[0;34m(\u001b[0m\u001b[0me\u001b[0m\u001b[0;34m.\u001b[0m\u001b[0mmessage\u001b[0m\u001b[0;34m)\u001b[0m\u001b[0;34m\u001b[0m\u001b[0m\n",
      "\u001b[0;32m/Library/Frameworks/Python.framework/Versions/2.7/lib/python2.7/site-packages/tensorflow/python/client/session.pyc\u001b[0m in \u001b[0;36m_run_fn\u001b[0;34m(session, feed_dict, fetch_list, target_list, options, run_metadata)\u001b[0m\n\u001b[1;32m    945\u001b[0m         return tf_session.TF_Run(session, options,\n\u001b[1;32m    946\u001b[0m                                  \u001b[0mfeed_dict\u001b[0m\u001b[0;34m,\u001b[0m \u001b[0mfetch_list\u001b[0m\u001b[0;34m,\u001b[0m \u001b[0mtarget_list\u001b[0m\u001b[0;34m,\u001b[0m\u001b[0;34m\u001b[0m\u001b[0m\n\u001b[0;32m--> 947\u001b[0;31m                                  status, run_metadata)\n\u001b[0m\u001b[1;32m    948\u001b[0m \u001b[0;34m\u001b[0m\u001b[0m\n\u001b[1;32m    949\u001b[0m     \u001b[0;32mdef\u001b[0m \u001b[0m_prun_fn\u001b[0m\u001b[0;34m(\u001b[0m\u001b[0msession\u001b[0m\u001b[0;34m,\u001b[0m \u001b[0mhandle\u001b[0m\u001b[0;34m,\u001b[0m \u001b[0mfeed_dict\u001b[0m\u001b[0;34m,\u001b[0m \u001b[0mfetch_list\u001b[0m\u001b[0;34m)\u001b[0m\u001b[0;34m:\u001b[0m\u001b[0;34m\u001b[0m\u001b[0m\n",
      "\u001b[0;31mKeyboardInterrupt\u001b[0m: "
     ]
    }
   ],
   "source": [
    "model.fit(x_train, y_train, validation_data=(x_val, y_val),nb_epoch=5, batch_size=10)"
   ]
  },
  {
   "cell_type": "code",
   "execution_count": 21,
   "metadata": {
    "collapsed": false
   },
   "outputs": [
    {
     "name": "stdout",
     "output_type": "stream",
     "text": [
      "Train on 690 samples, validate on 172 samples\n",
      "Epoch 1/5\n",
      "690/690 [==============================] - 77s - loss: 1.6294 - acc: 0.2377 - val_loss: 2.1802 - val_acc: 0.2326\n",
      "Epoch 2/5\n",
      "690/690 [==============================] - 71s - loss: 1.5996 - acc: 0.2290 - val_loss: 2.1958 - val_acc: 0.1919\n",
      "Epoch 3/5\n",
      "690/690 [==============================] - 71s - loss: 1.5919 - acc: 0.2493 - val_loss: 2.2344 - val_acc: 0.2267\n",
      "Epoch 4/5\n",
      "690/690 [==============================] - 74s - loss: 1.5925 - acc: 0.2348 - val_loss: 2.2291 - val_acc: 0.0058\n",
      "Epoch 5/5\n",
      "690/690 [==============================] - 80s - loss: 1.5871 - acc: 0.2493 - val_loss: 2.1616 - val_acc: 0.2267\n"
     ]
    },
    {
     "data": {
      "text/plain": [
       "<keras.callbacks.History at 0x1ca73810>"
      ]
     },
     "execution_count": 21,
     "metadata": {},
     "output_type": "execute_result"
    }
   ],
   "source": [
    "model.fit(x_train, y_train, validation_data=(x_val, y_val),nb_epoch=5, batch_size=10)"
   ]
  },
  {
   "cell_type": "markdown",
   "metadata": {
    "collapsed": true
   },
   "source": [
    "# Hierarchical-Sum model\n"
   ]
  },
  {
   "cell_type": "code",
   "execution_count": 22,
   "metadata": {
    "collapsed": false
   },
   "outputs": [
    {
     "name": "stdout",
     "output_type": "stream",
     "text": [
      "____________________________________________________________________________________________________\n",
      "Layer (type)                     Output Shape          Param #     Connected to                     \n",
      "====================================================================================================\n",
      "embedding_2 (Embedding)          (None, 10000, 100)    0           embedding_input_2[0][0]          \n",
      "____________________________________________________________________________________________________\n",
      "reshape_4 (Reshape)              (None, 100, 100, 100) 0           embedding_2[0][0]                \n",
      "____________________________________________________________________________________________________\n",
      "lambda_3 (Lambda)                (None, 1, 100, 100)   0           reshape_4[0][0]                  \n",
      "____________________________________________________________________________________________________\n",
      "timedistributed_2 (TimeDistribute(None, 1, 100, 100)   80400       lambda_3[0][0]                   \n",
      "____________________________________________________________________________________________________\n",
      "reshape_5 (Reshape)              (None, 100, 100)      0           timedistributed_2[0][0]          \n",
      "____________________________________________________________________________________________________\n",
      "lambda_4 (Lambda)                (None, 100)           0           reshape_5[0][0]                  \n",
      "____________________________________________________________________________________________________\n",
      "reshape_6 (Reshape)              (None, 100)           0           lambda_4[0][0]                   \n",
      "____________________________________________________________________________________________________\n",
      "dense_2 (Dense)                  (None, 7)             707         reshape_6[0][0]                  \n",
      "====================================================================================================\n",
      "Total params: 81107\n",
      "____________________________________________________________________________________________________\n",
      "None\n"
     ]
    }
   ],
   "source": [
    "model = Sequential()\n",
    "embedding_layer = Embedding(VOCAB_SIZE, \n",
    "                            EMBEDDING_DIM, \n",
    "                            weights = [embedding_matrix],\n",
    "                            input_length=EMBEDDING_INPUT_LENGTH,\n",
    "                            trainable=False)\n",
    "model.add(embedding_layer)\n",
    "model.add(Reshape((MAX_SENTENCES, MAX_SEQUENCE_LENGTH, EMBEDDING_DIM,), input_shape=(EMBEDDING_INPUT_LENGTH,EMBEDDING_DIM,)))\n",
    "# model.add(TimeDistributed(LSTM(WORD_LSTM_DIM, input_shape=(MAX_SEQUENCE_LENGTH, EMBEDDING_DIM), return_sequences=True)))\n",
    "model.add(Lambda(lambda x: K.sum(x, axis=2, keepdims=True), output_shape=lambda s: (s[0], 1, s[1],s[3])))\n",
    "model.add(TimeDistributed(LSTM(SENT_LSTM_DIM, input_shape=(MAX_SENTENCES, EMBEDDING_DIM), return_sequences=True)))\n",
    "model.add(Reshape((MAX_SENTENCES,SENT_LSTM_DIM), input_shape=(1,MAX_SENTENCES,SENT_LSTM_DIM)))\n",
    "model.add(Lambda(lambda x: K.sum(x, axis=1, keepdims=True), output_shape=lambda s: (s[0], s[2])))\n",
    "model.add(Reshape((SENT_LSTM_DIM,)))\n",
    "model.add(Dense(NUM_CLASSES, input_dim=SENT_LSTM_DIM, activation='softmax'))\n",
    "model.compile(loss='sparse_categorical_crossentropy',optimizer='rmsprop',metrics=['acc'])\n",
    "print(model.summary())"
   ]
  },
  {
   "cell_type": "code",
   "execution_count": 25,
   "metadata": {
    "collapsed": false
   },
   "outputs": [
    {
     "name": "stdout",
     "output_type": "stream",
     "text": [
      "____________________________________________________________________________________________________\n",
      "Layer (type)                     Output Shape          Param #     Connected to                     \n",
      "====================================================================================================\n",
      "embedding_4 (Embedding)          (None, 10000, 100)    0           embedding_input_4[0][0]          \n",
      "====================================================================================================\n",
      "Total params: 0\n",
      "____________________________________________________________________________________________________\n",
      "None\n"
     ]
    }
   ],
   "source": [
    "# \n",
    "\n",
    "def Word_Sequential():\n",
    "    model = Sequential()\n",
    "    model.add(LSTM(100))\n",
    "    return model\n",
    "\n",
    "\n",
    "model = Sequential()\n",
    "embedding_layer = Embedding(VOCAB_SIZE, \n",
    "                            EMBEDDING_DIM, \n",
    "                            weights = [embedding_matrix],\n",
    "                            input_length=EMBEDDING_INPUT_LENGTH,\n",
    "                            trainable=False)\n",
    "model.add(embedding_layer)\n",
    "print(model.summary())"
   ]
  },
  {
   "cell_type": "code",
   "execution_count": null,
   "metadata": {
    "collapsed": true
   },
   "outputs": [],
   "source": []
  }
 ],
 "metadata": {
  "anaconda-cloud": {},
  "kernelspec": {
   "display_name": "Python 2",
   "language": "python",
   "name": "python2"
  },
  "language_info": {
   "codemirror_mode": {
    "name": "ipython",
    "version": 2
   },
   "file_extension": ".py",
   "mimetype": "text/x-python",
   "name": "python",
   "nbconvert_exporter": "python",
   "pygments_lexer": "ipython2",
   "version": "2.7.9"
  }
 },
 "nbformat": 4,
 "nbformat_minor": 0
}
